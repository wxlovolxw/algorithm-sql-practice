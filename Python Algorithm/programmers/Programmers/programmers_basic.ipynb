{
 "cells": [
  {
   "cell_type": "markdown",
   "id": "59d99966",
   "metadata": {},
   "source": [
    "n 번째 원소부터 :\n",
    "정수 리스트 num_list와 정수 n이 주어질 때, n 번째 원소부터 마지막 원소까지의 모든 원소를 담은 리스트를 return하도록 solution 함수를 완성해주세요."
   ]
  },
  {
   "cell_type": "code",
   "execution_count": 1,
   "id": "70b5eda2",
   "metadata": {},
   "outputs": [
    {
     "data": {
      "text/plain": [
       "[6]"
      ]
     },
     "execution_count": 1,
     "metadata": {},
     "output_type": "execute_result"
    }
   ],
   "source": [
    "num_list = [2, 1, 6]\n",
    "n = 3\n",
    "\n",
    "def solution(num_list, n):\n",
    "    answer = num_list[n-1:]\n",
    "    \n",
    "    return answer\n",
    "\n",
    "solution(num_list, n)"
   ]
  },
  {
   "cell_type": "code",
   "execution_count": 2,
   "id": "e0125e74",
   "metadata": {},
   "outputs": [
    {
     "data": {
      "text/plain": [
       "[2, 1, 7, 5]"
      ]
     },
     "execution_count": 2,
     "metadata": {},
     "output_type": "execute_result"
    }
   ],
   "source": [
    "num_list = [5, 2, 1, 7, 5]\n",
    "n = 2\n",
    "\n",
    "def solution(num_list, n):\n",
    "    answer = num_list[n-1:]\n",
    "    \n",
    "    return answer\n",
    "\n",
    "solution(num_list, n)"
   ]
  },
  {
   "cell_type": "markdown",
   "id": "533a4159",
   "metadata": {},
   "source": [
    "첫 번째로 나오는 음수 :\n",
    "정수 리스트 num_list가 주어질 때, 첫 번째로 나오는 음수의 인덱스를 return하도록 solution 함수를 완성해주세요. 음수가 없다면 -1을 return합니다."
   ]
  },
  {
   "cell_type": "code",
   "execution_count": 7,
   "id": "77b434af",
   "metadata": {},
   "outputs": [
    {
     "data": {
      "text/plain": [
       "5"
      ]
     },
     "execution_count": 7,
     "metadata": {},
     "output_type": "execute_result"
    }
   ],
   "source": [
    "num_list = [12, 4, 15, 46, 38, -2, 15]\n",
    "\n",
    "def solution(num_list):\n",
    "    for i, num in enumerate(num_list):\n",
    "        if num < 0 :\n",
    "            answer =  i\n",
    "            break\n",
    "        else :\n",
    "            answer = -1\n",
    "            \n",
    "    return answer\n",
    "\n",
    "solution(num_list)"
   ]
  },
  {
   "cell_type": "code",
   "execution_count": 9,
   "id": "49b1ecbe",
   "metadata": {},
   "outputs": [
    {
     "data": {
      "text/plain": [
       "-1"
      ]
     },
     "execution_count": 9,
     "metadata": {},
     "output_type": "execute_result"
    }
   ],
   "source": [
    "num_list = [13, 22, 53, 24, 15, 6]\n",
    "\n",
    "def solution(num_list):\n",
    "    for i, num in enumerate(num_list):\n",
    "        if num < 0 :\n",
    "            answer =  i\n",
    "            break\n",
    "        else :\n",
    "            answer = -1\n",
    "            \n",
    "    return answer\n",
    "\n",
    "solution(num_list)"
   ]
  },
  {
   "cell_type": "markdown",
   "id": "f7bb98ef",
   "metadata": {},
   "source": [
    "애초에 answer의 값을 -1로 초기화를 해 놓고, 해당 값이 있다면 값을 바꾸어 반환하는 것이 좋아 보인다. 그리고 루프를 두번 도는 것이 시간복잡도의 면에서 그렇게 효율적이진 않아 보이는데 다른 방법이 있을지 고민해 봐야 할 것 같다."
   ]
  },
  {
   "cell_type": "code",
   "execution_count": 10,
   "id": "1e524fdc",
   "metadata": {},
   "outputs": [
    {
     "data": {
      "text/plain": [
       "-1"
      ]
     },
     "execution_count": 10,
     "metadata": {},
     "output_type": "execute_result"
    }
   ],
   "source": [
    "num_list = [13, 22, 53, 24, 15, 6]\n",
    "\n",
    "def solution(num_list):\n",
    "    \n",
    "    answer = -1\n",
    "    for i, num in enumerate(num_list):\n",
    "        if num < 0 :\n",
    "            answer =  i\n",
    "            break\n",
    "            \n",
    "    return answer\n",
    "\n",
    "solution(num_list)"
   ]
  },
  {
   "cell_type": "markdown",
   "id": "0981a6fa",
   "metadata": {},
   "source": [
    "카운트 다운 : 정수 start_num와 end_num가 주어질 때, start_num에서 end_num까지 1씩 감소하는 수들을 차례로 담은 리스트를 return하도록 solution 함수를 완성해주세요."
   ]
  },
  {
   "cell_type": "code",
   "execution_count": 9,
   "id": "b1764e4b",
   "metadata": {},
   "outputs": [
    {
     "data": {
      "text/plain": [
       "[10, 9, 8, 7, 6, 5, 4, 3]"
      ]
     },
     "execution_count": 9,
     "metadata": {},
     "output_type": "execute_result"
    }
   ],
   "source": [
    "start_num = 10\n",
    "end_num = 3\n",
    "\n",
    "def solution(start_num, end_num):\n",
    "    answer = list(range(start_num, end_num-1, -1))\n",
    "    return answer\n",
    "\n",
    "solution(start_num,end_num)"
   ]
  },
  {
   "cell_type": "markdown",
   "id": "ffd23a78",
   "metadata": {},
   "source": [
    "배열 만들기 1: 정수 n과 k가 주어졌을 때, 1 이상 n이하의 정수 중에서 k의 배수를 오름차순으로 저장한 배열을 return 하는 solution 함수를 완성해 주세요."
   ]
  },
  {
   "cell_type": "code",
   "execution_count": 15,
   "id": "92ad4a49",
   "metadata": {},
   "outputs": [
    {
     "data": {
      "text/plain": [
       "[3, 6, 9]"
      ]
     },
     "execution_count": 15,
     "metadata": {},
     "output_type": "execute_result"
    }
   ],
   "source": [
    "n = 10\n",
    "k = 3\n",
    "\n",
    "def solution(n, k):\n",
    "    answer = []\n",
    "    for i in range(1,n+1):\n",
    "        if i % k == 0 :\n",
    "            answer.append(i)\n",
    "    return answer\n",
    "\n",
    "solution(n,k)"
   ]
  },
  {
   "cell_type": "markdown",
   "id": "d4ae3dce",
   "metadata": {},
   "source": [
    "단순하게 생각했을 때는 나눠지는 값들을 리스트에 추가하는 식으로 할 수 있겠지만 시간복잡도가 두번의 루프로 인해 너무 커질 수 있다.\n",
    "k 간격의 list(range())를 통해 해결 할 수 있다. 루프를 돌지 않으니 시간이 훨씬 주는 것을 확인할 수 있다."
   ]
  },
  {
   "cell_type": "code",
   "execution_count": 16,
   "id": "a68b3a8e",
   "metadata": {},
   "outputs": [
    {
     "data": {
      "text/plain": [
       "[3, 6, 9]"
      ]
     },
     "execution_count": 16,
     "metadata": {},
     "output_type": "execute_result"
    }
   ],
   "source": [
    "n = 10\n",
    "k = 3\n",
    "\n",
    "def solution(n, k):\n",
    "    answer = list(range(k,n+1,k))\n",
    "    return answer\n",
    "\n",
    "solution(n,k)"
   ]
  },
  {
   "cell_type": "markdown",
   "id": "84bd9fd9",
   "metadata": {},
   "source": [
    "접두사인지 확인하기 : 어떤 문자열에 대해서 접두사는 특정 인덱스까지의 문자열을 의미합니다. 예를 들어, \"banana\"의 모든 접두사는 \"b\", \"ba\", \"ban\", \"bana\", \"banan\", \"banana\"입니다.\n",
    "문자열 my_string과 is_prefix가 주어질 때, is_prefix가 my_string의 접두사라면 1을, 아니면 0을 return 하는 solution 함수를 작성해 주세요."
   ]
  },
  {
   "cell_type": "code",
   "execution_count": 24,
   "id": "9b9bc343",
   "metadata": {},
   "outputs": [
    {
     "name": "stdout",
     "output_type": "stream",
     "text": [
      "1\n"
     ]
    }
   ],
   "source": [
    "my_string = \"banana\"\n",
    "is_prefix = \"ban\"\n",
    "\n",
    "def solution(my_string, is_prefix):\n",
    "    answer = 0\n",
    "    lenght = len(list(is_prefix))\n",
    "    if list(my_string)[:lenght] == list(is_prefix):\n",
    "        answer = 1\n",
    "    return answer\n",
    "\n",
    "print(solution(my_string,is_prefix))"
   ]
  },
  {
   "cell_type": "code",
   "execution_count": 1,
   "id": "c2101cc1",
   "metadata": {},
   "outputs": [
    {
     "name": "stdout",
     "output_type": "stream",
     "text": [
      "1\n"
     ]
    }
   ],
   "source": [
    "my_string = \"banana\"\n",
    "is_prefix = \"ban\"\n",
    "\n",
    "def solution(my_string, is_prefix):\n",
    "    return 1 if list(my_string)[:len(list(is_prefix))] == list(is_prefix) else 0\n",
    "\n",
    "print(solution(my_string,is_prefix))"
   ]
  },
  {
   "cell_type": "markdown",
   "id": "226e3ad9",
   "metadata": {},
   "source": [
    "문자열의 앞의 n글자 : 문자열 my_string과 정수 n이 매개변수로 주어질 때, my_string의 앞의 n글자로 이루어진 문자열을 return 하는 solution 함수를 작성해 주세요."
   ]
  },
  {
   "cell_type": "code",
   "execution_count": 4,
   "id": "36a4fa04",
   "metadata": {},
   "outputs": [
    {
     "name": "stdout",
     "output_type": "stream",
     "text": [
      "Programmer\n"
     ]
    }
   ],
   "source": [
    "my_string = \"ProgrammerS123\"\n",
    "n = 11\n",
    "\n",
    "print(''.join(list(my_string)[:n-1]))"
   ]
  },
  {
   "cell_type": "code",
   "execution_count": 3,
   "id": "c8a3995c",
   "metadata": {},
   "outputs": [
    {
     "data": {
      "text/plain": [
       "'abc'"
      ]
     },
     "execution_count": 3,
     "metadata": {},
     "output_type": "execute_result"
    }
   ],
   "source": [
    "''.join(['a','b','c'])"
   ]
  },
  {
   "cell_type": "markdown",
   "id": "8fcaf077",
   "metadata": {},
   "source": [
    "접미사인지 확인하기 : 어떤 문자열에 대해서 접미사는 특정 인덱스부터 시작하는 문자열을 의미합니다. 예를 들어, \"banana\"의 모든 접미사는 \"banana\", \"anana\", \"nana\", \"ana\", \"na\", \"a\"입니다.\n",
    "문자열 my_string과 is_suffix가 주어질 때, is_suffix가 my_string의 접미사라면 1을, 아니면 0을 return 하는 solution 함수를 작성해 주세요."
   ]
  },
  {
   "cell_type": "code",
   "execution_count": 5,
   "id": "e86776b6",
   "metadata": {},
   "outputs": [
    {
     "data": {
      "text/plain": [
       "1"
      ]
     },
     "execution_count": 5,
     "metadata": {},
     "output_type": "execute_result"
    }
   ],
   "source": [
    "my_string = \"banana\"\n",
    "is_suffix = \"ana\"\n",
    "\n",
    "def solution(my_string, is_suffix):\n",
    "    return 1 if list(my_string[len(my_string)-len(is_suffix):]) == list(is_suffix) else 0\n",
    "\n",
    "solution(my_string, is_suffix)"
   ]
  },
  {
   "cell_type": "markdown",
   "id": "5413442f",
   "metadata": {},
   "source": [
    "처음에 my_string을 리스트로 만들 때, 뒤의 문자를 is_suffix의 문자 갯수 만큼 추출하여 같은지 비교해야 하는데 그 갯수 설정을 잘 못하여 오류가 났었음."
   ]
  },
  {
   "cell_type": "markdown",
   "id": "8e793c8d",
   "metadata": {},
   "source": [
    "문자열의 뒤의 n글자 : 문자열 my_string과 정수 n이 매개변수로 주어질 때, my_string의 뒤의 n글자로 이루어진 문자열을 return 하는 solution 함수를 작성해 주세요."
   ]
  },
  {
   "cell_type": "code",
   "execution_count": 7,
   "id": "de401eae",
   "metadata": {},
   "outputs": [
    {
     "data": {
      "text/plain": [
       "'grammerS123'"
      ]
     },
     "execution_count": 7,
     "metadata": {},
     "output_type": "execute_result"
    }
   ],
   "source": [
    "my_string = \"ProgrammerS123\"\n",
    "n = 11\n",
    "\n",
    "def solution(my_string, n):\n",
    "    answer = ''.join(list(my_string)[len(my_string)-n:])\n",
    "    return answer\n",
    "    \n",
    "solution(my_string,n)"
   ]
  },
  {
   "cell_type": "markdown",
   "id": "ebee33ea",
   "metadata": {},
   "source": [
    "글자 이어 붙여 문자열 만들기 : 문자열 my_string과 정수 배열 index_list가 매개변수로 주어집니다. my_string의 index_list의 원소들에 해당하는 인덱스의 글자들을 순서대로 이어 붙인 문자열을 return 하는 solution 함수를 작성해 주세요."
   ]
  },
  {
   "cell_type": "code",
   "execution_count": 10,
   "id": "1735fe86",
   "metadata": {},
   "outputs": [
    {
     "name": "stdout",
     "output_type": "stream",
     "text": [
      "programmers\n"
     ]
    }
   ],
   "source": [
    "my_string = \"cvsgiorszzzmrpaqpe\"\n",
    "index_list = [16, 6, 5, 3, 12, 14, 11, 11, 17, 12, 7]\n",
    "\n",
    "def solution(my_string, index_list):\n",
    "    answer = []\n",
    "    len(index_list)\n",
    "    for index, num in enumerate(index_list):\n",
    "        answer.append(list(my_string)[index_list[index]])\n",
    "    return ''.join(answer)\n",
    "\n",
    "print(solution(my_string,index_list))"
   ]
  },
  {
   "cell_type": "markdown",
   "id": "755bbbfe",
   "metadata": {},
   "source": [
    "리스트 컴프리헨션을 써서 좀더 축약 할 수 있을것 같다. 하지만 루프를 도는 것은 똑같기 때문에 시간적 차이는 별로 없을 듯 하다."
   ]
  },
  {
   "cell_type": "code",
   "execution_count": 12,
   "id": "aa3e21e4",
   "metadata": {},
   "outputs": [
    {
     "name": "stdout",
     "output_type": "stream",
     "text": [
      "programmers\n"
     ]
    }
   ],
   "source": [
    "my_string = \"cvsgiorszzzmrpaqpe\"\n",
    "index_list = [16, 6, 5, 3, 12, 14, 11, 11, 17, 12, 7]\n",
    "\n",
    "def solution(my_string, index_list):\n",
    "    return ''.join([my_string[index] for index in index_list])\n",
    "\n",
    "print(solution(my_string, index_list))"
   ]
  },
  {
   "cell_type": "markdown",
   "id": "042b1a41",
   "metadata": {},
   "source": [
    "시간적으로도 많이 효율적인듯 하다. 좀 더 사용이 능숙해져야 할 것 같다."
   ]
  },
  {
   "cell_type": "markdown",
   "id": "0fb3cdfd",
   "metadata": {},
   "source": [
    "카운트 업 : 정수 start_num와 end_num가 주어질 때, start_num부터 end_num까지의 숫자를 차례로 담은 리스트를 return하도록 solution 함수를 완성해주세요."
   ]
  },
  {
   "cell_type": "code",
   "execution_count": 16,
   "id": "aa05256e",
   "metadata": {},
   "outputs": [
    {
     "data": {
      "text/plain": [
       "[3, 4, 5, 6, 7, 8, 9, 10]"
      ]
     },
     "execution_count": 16,
     "metadata": {},
     "output_type": "execute_result"
    }
   ],
   "source": [
    "start_num = 3\n",
    "end_num = 10\n",
    "\n",
    "def solution(start_num, end_num):\n",
    "    return list(range(start_num,end_num+1))\n",
    "\n",
    "solution(start_num, end_num)"
   ]
  },
  {
   "cell_type": "markdown",
   "id": "a53705d0",
   "metadata": {},
   "source": [
    "수 조작하기 1 : 정수 n과 문자열 control이 주어집니다. control은 \"w\", \"a\", \"s\", \"d\"의 4개의 문자로 이루어져 있으며, control의 앞에서부터 순서대로 문자에 따라 n의 값을 바꿉니다.\n",
    "\n",
    "\"w\" : n이 1 커집니다.\n",
    "\"s\" : n이 1 작아집니다.\n",
    "\"d\" : n이 10 커집니다.\n",
    "\"a\" : n이 10 작아집니다.\n",
    "위 규칙에 따라 n을 바꿨을 때 가장 마지막에 나오는 n의 값을 return 하는 solution 함수를 완성해 주세요."
   ]
  },
  {
   "cell_type": "code",
   "execution_count": 18,
   "id": "1c99dd91",
   "metadata": {},
   "outputs": [
    {
     "data": {
      "text/plain": [
       "-1"
      ]
     },
     "execution_count": 18,
     "metadata": {},
     "output_type": "execute_result"
    }
   ],
   "source": [
    "n = 0\n",
    "control = \"wsdawsdassw\"\n",
    "\n",
    "answer = n + list(control).count(\"w\") - list(control).count(\"s\") + list(control).count(\"d\")*10 - list(control).count(\"a\")*10\n",
    "\n",
    "answer"
   ]
  },
  {
   "cell_type": "markdown",
   "id": "418366c4",
   "metadata": {},
   "source": [
    "매번 해당 문자를 count함에 있어서 시간이 오래 걸리는 듯 하다. 다른 방법을 생각해보자."
   ]
  },
  {
   "cell_type": "markdown",
   "id": "c58c2980",
   "metadata": {},
   "source": [
    "마지막 두 원소 : 정수 리스트 num_list가 주어질 때, 마지막 원소가 그전 원소보다 크면 마지막 원소에서 그전 원소를 뺀 값을 마지막 원소가 그전 원소보다 크지 않다면 마지막 원소를 두 배한 값을 추가하여 return하도록 solution 함수를 완성해주세요."
   ]
  },
  {
   "cell_type": "code",
   "execution_count": 25,
   "id": "bdc7b17d",
   "metadata": {},
   "outputs": [
    {
     "data": {
      "text/plain": [
       "[2, 1, 6, 5]"
      ]
     },
     "execution_count": 25,
     "metadata": {},
     "output_type": "execute_result"
    }
   ],
   "source": [
    "num_list = [2, 1, 6]\n",
    "\n",
    "def solution(num_list):\n",
    "    if num_list[-1] > num_list[-2] : num_list.append(num_list[-1]-num_list[-2])\n",
    "    else : num_list.append(num_list[-1]*2)\n",
    "    \n",
    "    return num_list\n",
    "    \n",
    "solution(num_list)"
   ]
  },
  {
   "cell_type": "markdown",
   "id": "18492dcb",
   "metadata": {},
   "source": [
    "이어 붙인 수 : 정수가 담긴 리스트 num_list가 주어집니다. num_list의 홀수만 순서대로 이어 붙인 수와 짝수만 순서대로 이어 붙인 수의 합을 return하도록 solution 함수를 완성해주세요."
   ]
  },
  {
   "cell_type": "markdown",
   "id": "192f0cfc",
   "metadata": {},
   "source": [
    "리스트의 길이와 각 값들이 한자리 수 이기 때문에 루프를 통해 해결하는 것도 문제 없을 듯 하다."
   ]
  },
  {
   "cell_type": "code",
   "execution_count": 27,
   "id": "deb627c1",
   "metadata": {},
   "outputs": [
    {
     "name": "stdout",
     "output_type": "stream",
     "text": [
      "393\n"
     ]
    }
   ],
   "source": [
    "num_list = [3, 4, 5, 2, 1]\n",
    "\n",
    "def solution(num_list):\n",
    "    odd_list = []\n",
    "    even_list = []\n",
    "    for i in num_list:\n",
    "        if i % 2 : odd_list.append(i)\n",
    "        else : even_list.append(i)\n",
    "\n",
    "    answer = int(''.join(list(map(str,odd_list)))) + int(''.join(list(map(str,even_list))))\n",
    "\n",
    "    return answer\n",
    "\n",
    "print(solution(num_list))"
   ]
  },
  {
   "cell_type": "markdown",
   "id": "54d1c33f",
   "metadata": {},
   "source": [
    "리스트 컴프리 헨션을 통해서"
   ]
  },
  {
   "cell_type": "code",
   "execution_count": 28,
   "id": "ad5d18b0",
   "metadata": {},
   "outputs": [
    {
     "data": {
      "text/plain": [
       "393"
      ]
     },
     "execution_count": 28,
     "metadata": {},
     "output_type": "execute_result"
    }
   ],
   "source": [
    "num_list = [3, 4, 5, 2, 1]\n",
    "\n",
    "def solution(num_list):\n",
    "    odd = int(''.join([str(i) for i in num_list if i % 2 == 0]))\n",
    "    even = int(''.join([str(i) for i in num_list if i % 2 != 0]))\n",
    "    \n",
    "    return odd + even\n",
    "\n",
    "solution(num_list)"
   ]
  },
  {
   "cell_type": "markdown",
   "id": "72f5c7a8",
   "metadata": {},
   "source": [
    "원소들의 곱과 합 : 정수가 담긴 리스트 num_list가 주어질 때, 모든 원소들의 곱이 모든 원소들의 합의 제곱보다 작으면 1을 크면 0을 return하도록 solution 함수를 완성해주세요."
   ]
  },
  {
   "cell_type": "code",
   "execution_count": 35,
   "id": "63a0a981",
   "metadata": {},
   "outputs": [
    {
     "data": {
      "text/plain": [
       "1"
      ]
     },
     "execution_count": 35,
     "metadata": {},
     "output_type": "execute_result"
    }
   ],
   "source": [
    "num_list = [3, 4, 5, 2, 1]\n",
    "\n",
    "def solution(num_list):\n",
    "    answer = 1\n",
    "    sum_num = sum(num_list)\n",
    "    mul_num = 1\n",
    "    for i in num_list:\n",
    "        mul_num *= i\n",
    "    \n",
    "    if sum_num * sum_num < mul_num : answer = 0\n",
    "        \n",
    "    return answer\n",
    "\n",
    "solution(num_list)"
   ]
  },
  {
   "cell_type": "markdown",
   "id": "9c4faa0c",
   "metadata": {},
   "source": [
    "'**' 을 통해 제곱을 할 수 있다.\n",
    "reduce lambda를 통해 모든 요소들을 곱하는 역할을 수항 할 수 있다."
   ]
  },
  {
   "cell_type": "markdown",
   "id": "cc31c2b4",
   "metadata": {},
   "source": [
    "flag에 따라 다른 값 반환하기 : 두 정수 a, b와 boolean 변수 flag가 매개변수로 주어질 때, flag가 true면 a + b를 false면 a - b를 return 하는 solution 함수를 작성해 주세요."
   ]
  },
  {
   "cell_type": "code",
   "execution_count": 40,
   "id": "1ff4fc58",
   "metadata": {},
   "outputs": [
    {
     "data": {
      "text/plain": [
       "-11"
      ]
     },
     "execution_count": 40,
     "metadata": {},
     "output_type": "execute_result"
    }
   ],
   "source": [
    "a = -4\n",
    "b = 7\n",
    "flag = 'false'\n",
    "\n",
    "def solution(a,b,flag):\n",
    "    return a + b if flag == True else a - b\n",
    "\n",
    "solution(a,b,flag)"
   ]
  },
  {
   "cell_type": "markdown",
   "id": "202261e2",
   "metadata": {},
   "source": [
    "입력값의 flag가 boolean 이기 때문에 True, False로 해야한다. 문자열이 아니고."
   ]
  },
  {
   "cell_type": "markdown",
   "id": "887f0e69",
   "metadata": {},
   "source": [
    "홀짝에 따라 다른 값 반환하기 : 양의 정수 n이 매개변수로 주어질 때, n이 홀수라면 n 이하의 홀수인 모든 양의 정수의 합을 return 하고 n이 짝수라면 n 이하의 짝수인 모든 양의 정수의 제곱의 합을 return 하는 solution 함수를 작성해 주세요."
   ]
  },
  {
   "cell_type": "code",
   "execution_count": 50,
   "id": "b682c561",
   "metadata": {},
   "outputs": [
    {
     "data": {
      "text/plain": [
       "16"
      ]
     },
     "execution_count": 50,
     "metadata": {},
     "output_type": "execute_result"
    }
   ],
   "source": [
    "n = 7\n",
    "\n",
    "def solution(n):\n",
    "    answer = 0\n",
    "    if n % 2 == 0 :\n",
    "        answer = sum([i**2 for i in list(range(2,n,2))])\n",
    "    else :\n",
    "        answer = int(((n+1)**2)/4)\n",
    "        \n",
    "    return answer\n",
    "\n",
    "solution(n)"
   ]
  },
  {
   "cell_type": "code",
   "execution_count": 52,
   "id": "d3ddf818",
   "metadata": {},
   "outputs": [
    {
     "data": {
      "text/plain": [
       "220"
      ]
     },
     "execution_count": 52,
     "metadata": {},
     "output_type": "execute_result"
    }
   ],
   "source": [
    "n = 10\n",
    "\n",
    "def solution(n):\n",
    "    answer = 0\n",
    "    if n % 2 == 0 :\n",
    "        answer = sum([i**2 for i in list(range(2,n+2,2))])\n",
    "    else :\n",
    "        answer = int(((n+1)**2)/4)\n",
    "        \n",
    "    return answer\n",
    "\n",
    "solution(n)"
   ]
  },
  {
   "cell_type": "markdown",
   "id": "5180759d",
   "metadata": {},
   "source": [
    "공배수 : 정수 number와 n, m이 주어집니다. number가 n의 배수이면서 m의 배수이면 1을 아니라면 0을 return하도록 solution 함수를 완성해주세요."
   ]
  },
  {
   "cell_type": "code",
   "execution_count": 53,
   "id": "95194206",
   "metadata": {},
   "outputs": [
    {
     "data": {
      "text/plain": [
       "1"
      ]
     },
     "execution_count": 53,
     "metadata": {},
     "output_type": "execute_result"
    }
   ],
   "source": [
    "number = 60\n",
    "n = 2\n",
    "m = 3\n",
    "\n",
    "def solution(number, n, m):\n",
    "    answer = 0\n",
    "    if number%m == 0 and number %n == 0: answer = 1\n",
    "    \n",
    "    return answer\n",
    "\n",
    "solution(number, n, m)"
   ]
  },
  {
   "cell_type": "code",
   "execution_count": 54,
   "id": "3f7af320",
   "metadata": {},
   "outputs": [
    {
     "data": {
      "text/plain": [
       "0"
      ]
     },
     "execution_count": 54,
     "metadata": {},
     "output_type": "execute_result"
    }
   ],
   "source": [
    "number = 55\n",
    "n = 2\n",
    "m = 3\n",
    "\n",
    "def solution(number, n, m):\n",
    "    answer = 0\n",
    "    if number%m == 0 and number %n == 0: answer = 1\n",
    "    \n",
    "    return answer\n",
    "\n",
    "solution(number, n, m)"
   ]
  },
  {
   "cell_type": "markdown",
   "id": "678d8748",
   "metadata": {},
   "source": [
    "n의 배수 : 정수 num과 n이 매개 변수로 주어질 때, num이 n의 배수이면 1을 return n의 배수가 아니라면 0을 return하도록 solution 함수를 완성해주세요."
   ]
  },
  {
   "cell_type": "code",
   "execution_count": 55,
   "id": "2e3dbf15",
   "metadata": {},
   "outputs": [
    {
     "data": {
      "text/plain": [
       "1"
      ]
     },
     "execution_count": 55,
     "metadata": {},
     "output_type": "execute_result"
    }
   ],
   "source": [
    "num = 98\n",
    "n = 2\n",
    "\n",
    "def solution(num, n):\n",
    "    return 1 if num % n == 0 else 0\n",
    "\n",
    "solution(num, n)"
   ]
  },
  {
   "cell_type": "markdown",
   "id": "9e282856",
   "metadata": {},
   "source": [
    "두 수의 연산값 비교하기 : 연산 ⊕는 두 정수에 대한 연산으로 두 정수를 붙여서 쓴 값을 반환합니다. 예를 들면 다음과 같습니다.\n",
    "\n",
    "12 ⊕ 3 = 123\n",
    "3 ⊕ 12 = 312\n",
    "양의 정수 a와 b가 주어졌을 때, a ⊕ b와 2 * a * b 중 더 큰 값을 return하는 solution 함수를 완성해 주세요.\n",
    "\n",
    "단, a ⊕ b와 2 * a * b가 같으면 a ⊕ b를 return 합니다."
   ]
  },
  {
   "cell_type": "code",
   "execution_count": 56,
   "id": "009f6269",
   "metadata": {},
   "outputs": [
    {
     "data": {
      "text/plain": [
       "364"
      ]
     },
     "execution_count": 56,
     "metadata": {},
     "output_type": "execute_result"
    }
   ],
   "source": [
    "a = 2\n",
    "b = 91\n",
    "\n",
    "def solution(a, b):\n",
    "    answer = int(str(a)+str(b))\n",
    "    return answer if answer > 2 * a * b else 2 * a * b\n",
    "\n",
    "solution(a,b)"
   ]
  },
  {
   "cell_type": "markdown",
   "id": "87c8350e",
   "metadata": {},
   "source": [
    "더 크게 합치기 : 연산 ⊕는 두 정수에 대한 연산으로 두 정수를 붙여서 쓴 값을 반환합니다. 예를 들면 다음과 같습니다.\n",
    "\n",
    "12 ⊕ 3 = 123\n",
    "3 ⊕ 12 = 312\n",
    "양의 정수 a와 b가 주어졌을 때, a ⊕ b와 b ⊕ a 중 더 큰 값을 return 하는 solution 함수를 완성해 주세요.\n",
    "\n",
    "단, a ⊕ b와 b ⊕ a가 같다면 a ⊕ b를 return 합니다."
   ]
  },
  {
   "cell_type": "code",
   "execution_count": 57,
   "id": "b17d503f",
   "metadata": {},
   "outputs": [
    {
     "data": {
      "text/plain": [
       "991"
      ]
     },
     "execution_count": 57,
     "metadata": {},
     "output_type": "execute_result"
    }
   ],
   "source": [
    "a = 9\n",
    "b = 91\n",
    "\n",
    "def solution(a, b):\n",
    "    return max(int(str(a)+str(b)), int(str(b)+str(a)))\n",
    "\n",
    "solution(a,b)"
   ]
  },
  {
   "cell_type": "markdown",
   "id": "8a845e43",
   "metadata": {},
   "source": [
    "문자열 곱하기 : 문자열 my_string과 정수 k가 주어질 때, my_string을 k번 반복한 문자열을 return 하는 solution 함수를 작성해 주세요."
   ]
  },
  {
   "cell_type": "code",
   "execution_count": 58,
   "id": "ef061482",
   "metadata": {},
   "outputs": [
    {
     "data": {
      "text/plain": [
       "'stringstringstring'"
      ]
     },
     "execution_count": 58,
     "metadata": {},
     "output_type": "execute_result"
    }
   ],
   "source": [
    "my_string = \"string\"\n",
    "k = 3\n",
    "\n",
    "def solution(my_string, k):\n",
    "    return my_string * k\n",
    "\n",
    "solution(my_string,k)"
   ]
  },
  {
   "cell_type": "markdown",
   "id": "778f9c04",
   "metadata": {},
   "source": [
    "홀짝 구분하기 : 자연수 n이 입력으로 주어졌을 때 만약 n이 짝수이면 \"n is even\"을, 홀수이면 \"n is odd\"를 출력하는 코드를 작성해 보세요."
   ]
  },
  {
   "cell_type": "code",
   "execution_count": 59,
   "id": "cdb5b0de",
   "metadata": {},
   "outputs": [
    {
     "name": "stdout",
     "output_type": "stream",
     "text": [
      "3\n",
      "3 is odd\n"
     ]
    }
   ],
   "source": [
    "a = int(input())\n",
    "\n",
    "if a % 2 == 0 :\n",
    "    print(f'{a} is even')\n",
    "else :\n",
    "    print(f'{a} is odd')"
   ]
  },
  {
   "cell_type": "markdown",
   "id": "b6c05cd7",
   "metadata": {},
   "source": [
    "문자열 붙여서 출력하기 : 두 개의 문자열 str1, str2가 공백으로 구분되어 입력으로 주어집니다.\n",
    "입출력 예와 같이 str1과 str2을 이어서 출력하는 코드를 작성해 보세요."
   ]
  },
  {
   "cell_type": "code",
   "execution_count": 61,
   "id": "712afd50",
   "metadata": {},
   "outputs": [
    {
     "name": "stdout",
     "output_type": "stream",
     "text": [
      "apple pen\n",
      "applepen\n"
     ]
    }
   ],
   "source": [
    "str1, str2 = input().strip().split(' ')\n",
    "\n",
    "print(f'{str1}{str2}')"
   ]
  },
  {
   "cell_type": "markdown",
   "id": "cc3cbdb0",
   "metadata": {},
   "source": [
    "주사위 게임 1 : 1부터 6까지 숫자가 적힌 주사위가 두 개 있습니다. 두 주사위를 굴렸을 때 나온 \b숫자를 각각 a, b라고 했을 때 얻는 점수는 다음과 같습니다.\n",
    "\n",
    "a와 b가 모두 홀수라면 a2 + b2 점을 얻습니다.\n",
    "a와 b 중 하나만 홀수라면 2 × (a + b) 점을 얻습니다.\n",
    "a와 b 모두 홀수가 아니라면 |a - b| 점을 얻습니다.\n",
    "두 정수 a와 b가 매개변수로 주어질 때, 얻는 점수를 return 하는 solution 함수를 작성해 주세요."
   ]
  },
  {
   "cell_type": "markdown",
   "id": "8874c77b",
   "metadata": {},
   "source": [
    "주사위의 조합 수가 총 36개 이기 때문에 미리 리스트를 만들어서 어디에 포함되는지 확인해 주는게 나쁘지 않아 보인다."
   ]
  },
  {
   "cell_type": "code",
   "execution_count": 62,
   "id": "bd13a06e",
   "metadata": {},
   "outputs": [
    {
     "data": {
      "text/plain": [
       "34"
      ]
     },
     "execution_count": 62,
     "metadata": {},
     "output_type": "execute_result"
    }
   ],
   "source": [
    "a = 3\n",
    "b = 5\n",
    "\n",
    "def solution(a, b):\n",
    "    if (a,b) in [(1,1),(1,3),(1,5),(3,1),(3,3),(3,5),(5,1),(5,3),(5,5)]:\n",
    "        answer = (a ** 2) + (b ** 2)\n",
    "    elif (a,b) in [(2,2),(2,4),(2,6),(4,2),(4,4),(4,6),(6,2),(6,4),(6,6)]:\n",
    "        answer = abs(a-b)\n",
    "    else : answer = 2 * (a + b)\n",
    "        \n",
    "    return answer\n",
    "\n",
    "solution(a,b)"
   ]
  },
  {
   "cell_type": "markdown",
   "id": "e4102035",
   "metadata": {},
   "source": [
    "꼬리 문자열 : 문자열들이 담긴 리스트가 주어졌을 때, 모든 문자열들을 순서대로 합친 문자열을 꼬리 문자열이라고 합니다. 꼬리 문자열을 만들 때 특정 문자열을 포함한 문자열은 제외시키려고 합니다. 예를 들어 문자열 리스트 [\"abc\", \"def\", \"ghi\"]가 있고 문자열 \"ef\"를 포함한 문자열은 제외하고 꼬리 문자열을 만들면 \"abcghi\"가 됩니다.\n",
    "\n",
    "문자열 리스트 str_list와 제외하려는 문자열 ex가 주어질 때, str_list에서 ex를 포함한 문자열을 제외하고 만든 꼬리 문자열을 return하도록 solution 함수를 완성해주세요."
   ]
  },
  {
   "cell_type": "markdown",
   "id": "a22277d2",
   "metadata": {},
   "source": [
    "for문 내에 if문이 들어가기 때문에 시간 복잡도가 매우 크지만, str_list의 길이와 원소 길이가 길지 않기 때문에 사용할만 한 것 같다."
   ]
  },
  {
   "cell_type": "code",
   "execution_count": 76,
   "id": "2b6dca08",
   "metadata": {},
   "outputs": [
    {
     "data": {
      "text/plain": [
       "'abcghi'"
      ]
     },
     "execution_count": 76,
     "metadata": {},
     "output_type": "execute_result"
    }
   ],
   "source": [
    "str_list = [\"abc\", \"def\", \"ghi\"]\n",
    "ex = \"ef\"\n",
    "\n",
    "def solution(str_list, ex):\n",
    "    answer = ''.join([str for str in str_list if ex not in str])\n",
    "    \n",
    "    return answer\n",
    "\n",
    "solution(str_list, ex)"
   ]
  },
  {
   "cell_type": "markdown",
   "id": "01e2446a",
   "metadata": {},
   "source": [
    "꼬리문자열이라 뒤에만 같으면 되는 줄 알았는데 그냥 포함하면 안되는 거였다. 하하. 다시 수정하자"
   ]
  },
  {
   "cell_type": "markdown",
   "id": "7f2450b3",
   "metadata": {},
   "source": [
    "정수 찾기 : 정수 리스트 num_list와 찾으려는 정수 n이 주어질 때, num_list안에 n이 있으면 1을 없으면 0을 return하도록 solution 함수를 완성해주세요."
   ]
  },
  {
   "cell_type": "code",
   "execution_count": 77,
   "id": "8ec0e2c3",
   "metadata": {},
   "outputs": [
    {
     "data": {
      "text/plain": [
       "1"
      ]
     },
     "execution_count": 77,
     "metadata": {},
     "output_type": "execute_result"
    }
   ],
   "source": [
    "num_list = [1, 2, 3, 4, 5]\n",
    "n = 3\n",
    "\n",
    "def solution(num_list, n):\n",
    "    return 1 if n in num_list else 0\n",
    "\n",
    "solution(num_list, n)"
   ]
  },
  {
   "cell_type": "markdown",
   "id": "6c7aeaf6",
   "metadata": {},
   "source": [
    "부분 문자열인지 확인하기 : 부분 문자열이란 문자열에서 연속된 일부분에 해당하는 문자열을 의미합니다. 예를 들어, 문자열 \"ana\", \"ban\", \"anana\", \"banana\", \"n\"는 모두 문자열 \"banana\"의 부분 문자열이지만, \"aaa\", \"bnana\", \"wxyz\"는 모두 \"banana\"의 부분 문자열이 아닙니다.\n",
    "\n",
    "문자열 my_string과 target이 매개변수로 주어질 때, target이 문자열 my_string의 부분 문자열이라면 1을, 아니라면 0을 return 하는 solution 함수를 작성해 주세요."
   ]
  },
  {
   "cell_type": "code",
   "execution_count": 78,
   "id": "de805983",
   "metadata": {},
   "outputs": [
    {
     "data": {
      "text/plain": [
       "1"
      ]
     },
     "execution_count": 78,
     "metadata": {},
     "output_type": "execute_result"
    }
   ],
   "source": [
    "my_string = \"banana\"\n",
    "target = \"ana\"\n",
    "\n",
    "def solution(my_string, target):\n",
    "    return 1 if target in my_string else 0\n",
    "\n",
    "solution(my_string, target)"
   ]
  },
  {
   "cell_type": "markdown",
   "id": "60505cee",
   "metadata": {},
   "source": [
    "부분 문자열 : 어떤 문자열 A가 다른 문자열 B안에 속하면 A를 B의 부분 문자열이라고 합니다. 예를 들어 문자열 \"abc\"는 문자열 \"aabcc\"의 부분 문자열입니다.\n",
    "\n",
    "문자열 str1과 str2가 주어질 때, str1이 str2의 부분 문자열이라면 1을 부분 문자열이 아니라면 0을 return하도록 solution 함수를 완성해주세요."
   ]
  },
  {
   "cell_type": "code",
   "execution_count": 79,
   "id": "5f07ddb7",
   "metadata": {},
   "outputs": [
    {
     "data": {
      "text/plain": [
       "1"
      ]
     },
     "execution_count": 79,
     "metadata": {},
     "output_type": "execute_result"
    }
   ],
   "source": [
    "str1 = \"abc\"\n",
    "str2 = \"aabcc\"\n",
    "\n",
    "def solution(str1, str2):\n",
    "    return 1 if str1 in str2 else 0\n",
    "\n",
    "solution(str1, str2)"
   ]
  },
  {
   "cell_type": "markdown",
   "id": "9065acc8",
   "metadata": {},
   "source": [
    "0 떼기 : 정수로 이루어진 문자열 n_str이 주어질 때, n_str의 가장 왼쪽에 처음으로 등장하는 0들을 뗀 문자열을 return하도록 solution 함수를 완성해주세요."
   ]
  },
  {
   "cell_type": "markdown",
   "id": "85df5227",
   "metadata": {},
   "source": [
    "최로로 0이 아닌 값을 받아서 그 이후의 문자열을 반환하면 된다."
   ]
  },
  {
   "cell_type": "code",
   "execution_count": 84,
   "id": "69ce3a6a",
   "metadata": {},
   "outputs": [
    {
     "name": "stdout",
     "output_type": "stream",
     "text": [
      "10\n"
     ]
    }
   ],
   "source": [
    "n_str = \"0010\"\n",
    "\n",
    "def solution(n_str):\n",
    "    count = 0\n",
    "    for num in list(n_str):\n",
    "        if num == '0':\n",
    "            count += 1\n",
    "        else:\n",
    "            break\n",
    "\n",
    "    return ''.join(list(n_str)[count:])\n",
    "\n",
    "print(solution(n_str))"
   ]
  },
  {
   "cell_type": "code",
   "execution_count": 85,
   "id": "6afd4501",
   "metadata": {},
   "outputs": [
    {
     "name": "stdout",
     "output_type": "stream",
     "text": [
      "854020\n"
     ]
    }
   ],
   "source": [
    "n_str = \"854020\"\n",
    "\n",
    "def solution(n_str):\n",
    "    count = 0\n",
    "    for num in list(n_str):\n",
    "        if num == '0':\n",
    "            count += 1\n",
    "        else:\n",
    "            break\n",
    "\n",
    "    return ''.join(list(n_str)[count:])\n",
    "\n",
    "print(solution(n_str))"
   ]
  },
  {
   "cell_type": "markdown",
   "id": "6435fdf9",
   "metadata": {},
   "source": [
    "ad 제거하기 : 문자열 배열 strArr가 주어집니다. 배열 내의 문자열 중 \"ad\"라는 부분 문자열을 포함하고 있는 모든 문자열을 제거하고 남은 문자열을 순서를 유지하여 배열로 return 하는 solution 함수를 완성해 주세요."
   ]
  },
  {
   "cell_type": "code",
   "execution_count": 88,
   "id": "36022065",
   "metadata": {},
   "outputs": [
    {
     "data": {
      "text/plain": [
       "['and', 'abcd']"
      ]
     },
     "execution_count": 88,
     "metadata": {},
     "output_type": "execute_result"
    }
   ],
   "source": [
    "strArr = [\"and\",\"notad\",\"abcd\"]\n",
    "\n",
    "def solution(strArr):\n",
    "    return [x for x in strArr if \"ad\" not in x]\n",
    "\n",
    "solution(strArr)"
   ]
  },
  {
   "cell_type": "markdown",
   "id": "85f1c6f4",
   "metadata": {},
   "source": [
    "문자열 정수의 합 : 한 자리 정수로 이루어진 문자열 num_str이 주어질 때, 각 자리수의 합을 return하도록 solution 함수를 완성해주세요."
   ]
  },
  {
   "cell_type": "markdown",
   "id": "9d3d1160",
   "metadata": {},
   "source": [
    "모든 성분을 map을 통해 str가 아닌 int로 변한 한 뒤 sum을 해주면 될 듯 하다."
   ]
  },
  {
   "cell_type": "code",
   "execution_count": 102,
   "id": "08a7a481",
   "metadata": {},
   "outputs": [
    {
     "data": {
      "text/plain": [
       "45"
      ]
     },
     "execution_count": 102,
     "metadata": {},
     "output_type": "execute_result"
    }
   ],
   "source": [
    "num_str = \"123456789\"\n",
    "\n",
    "def solution(num_str):\n",
    "    return sum(list(map(int, list(num_str))))\n",
    "\n",
    "solution(num_str)"
   ]
  },
  {
   "cell_type": "markdown",
   "id": "4d6b7775",
   "metadata": {},
   "source": [
    "문자열로 변환 : 정수 n이 주어질 때, n을 문자열로 변환하여 return하도록 solution 함수를 완성해주세요."
   ]
  },
  {
   "cell_type": "code",
   "execution_count": 103,
   "id": "d3474b9f",
   "metadata": {},
   "outputs": [
    {
     "data": {
      "text/plain": [
       "'123'"
      ]
     },
     "execution_count": 103,
     "metadata": {},
     "output_type": "execute_result"
    }
   ],
   "source": [
    "n = 123\n",
    "\n",
    "def solution(n):\n",
    "    return str(n)\n",
    "\n",
    "solution(n)"
   ]
  },
  {
   "cell_type": "markdown",
   "id": "eea475b1",
   "metadata": {},
   "source": [
    "조건에 맞게 수열 변환하기 3 : 정수 배열 arr와 자연수 k가 주어집니다.\n",
    "\n",
    "만약 k가 홀수라면 arr의 모든 원소에 k를 곱하고, k가 짝수라면 arr의 모든 원소에 k를 더합니다.\n",
    "\n",
    "이러한 변환을 마친 후의 arr를 return 하는 solution 함수를 완성해 주세요."
   ]
  },
  {
   "cell_type": "code",
   "execution_count": 105,
   "id": "ae9b2efb",
   "metadata": {},
   "outputs": [
    {
     "data": {
      "text/plain": [
       "[3, 6, 9, 300, 297, 294]"
      ]
     },
     "execution_count": 105,
     "metadata": {},
     "output_type": "execute_result"
    }
   ],
   "source": [
    "arr = [1, 2, 3, 100, 99, 98]\n",
    "k = 3\n",
    "\n",
    "def solution(arr, k):\n",
    "    if k % 2 != 0 :\n",
    "        return [i*k for i in arr]\n",
    "    else :\n",
    "        return [i+k for i in arr]\n",
    "    \n",
    "solution(arr, k)"
   ]
  },
  {
   "cell_type": "code",
   "execution_count": 106,
   "id": "aed8dce3",
   "metadata": {},
   "outputs": [
    {
     "data": {
      "text/plain": [
       "[3, 6, 9, 300, 297, 294]"
      ]
     },
     "execution_count": 106,
     "metadata": {},
     "output_type": "execute_result"
    }
   ],
   "source": [
    "arr = [1, 2, 3, 100, 99, 98]\n",
    "k = 3\n",
    "\n",
    "def solution(arr, k):\n",
    "\n",
    "    return [i*k for i in arr] if k % 2 != 0 else [i+k for i in arr]\n",
    "\n",
    "solution(arr, k)"
   ]
  },
  {
   "cell_type": "markdown",
   "id": "d6ef2112",
   "metadata": {},
   "source": [
    "뒤에서 5등 위로 : 정수로 이루어진 리스트 num_list가 주어집니다. num_list에서 가장 작은 5개의 수를 제외한 수들을 오름차순으로 담은 리스트를 return하도록 solution 함수를 완성해주세요."
   ]
  },
  {
   "cell_type": "code",
   "execution_count": 7,
   "id": "4dff982e",
   "metadata": {},
   "outputs": [
    {
     "data": {
      "text/plain": [
       "[15, 32, 38, 46, 56]"
      ]
     },
     "execution_count": 7,
     "metadata": {},
     "output_type": "execute_result"
    }
   ],
   "source": [
    "num_list = [12, 4, 15, 46, 38, 1, 14, 56, 32, 10]\n",
    "\n",
    "def solution(num_list):\n",
    "    return sorted(num_list)[5:]\n",
    "\n",
    "solution(num_list)"
   ]
  },
  {
   "cell_type": "markdown",
   "id": "044cd6b9",
   "metadata": {},
   "source": [
    "문자열을 정수로 변환하기 : 숫자로만 이루어진 문자열 n_str이 주어질 때, n_str을 정수로 변환하여 return하도록 solution 함수를 완성해주세요."
   ]
  },
  {
   "cell_type": "code",
   "execution_count": 8,
   "id": "a7b89489",
   "metadata": {},
   "outputs": [
    {
     "data": {
      "text/plain": [
       "10"
      ]
     },
     "execution_count": 8,
     "metadata": {},
     "output_type": "execute_result"
    }
   ],
   "source": [
    "n_str = \"10\"\n",
    "\n",
    "def solution(n_str):\n",
    "    return int(n_str)\n",
    "\n",
    "solution(n_str)"
   ]
  },
  {
   "cell_type": "markdown",
   "id": "7eab24e2",
   "metadata": {},
   "source": [
    "배열의 길이에 따라 다른 연산하기 : 정수 배열 arr과 정수 n이 매개변수로 주어집니다. arr의 길이가 홀수라면 arr의 모든 짝수 인덱스 위치에 n을 더한 배열을, arr의 길이가 짝수라면 arr의 모든 홀수 인덱스 위치에 n을 더한 배열을 return 하는 solution 함수를 작성해 주세요."
   ]
  },
  {
   "cell_type": "code",
   "execution_count": 12,
   "id": "99a61967",
   "metadata": {},
   "outputs": [
    {
     "data": {
      "text/plain": [
       "[76, 12, 127, 276, 60]"
      ]
     },
     "execution_count": 12,
     "metadata": {},
     "output_type": "execute_result"
    }
   ],
   "source": [
    "arr = [49, 12, 100, 276, 33]\n",
    "n = 27\n",
    "\n",
    "def solution(arr, n):\n",
    "    length = len(arr)\n",
    "    \n",
    "    if length % 2 == 0 :\n",
    "        for i, num in enumerate(arr) :\n",
    "            if i % 2 != 0 :\n",
    "                arr[i] = num + n\n",
    "                \n",
    "        return arr\n",
    "    \n",
    "    else :\n",
    "        for i, num in enumerate(arr) :\n",
    "            if i % 2 == 0 :\n",
    "                arr[i] = num + n\n",
    "                \n",
    "        return arr\n",
    "    \n",
    "solution(arr, n)"
   ]
  },
  {
   "cell_type": "markdown",
   "id": "1f71d328",
   "metadata": {},
   "source": [
    "복잡도가 너무 커서 좋은 코드는 아닌 것 같다."
   ]
  },
  {
   "cell_type": "markdown",
   "id": "89647396",
   "metadata": {},
   "source": [
    "문자열 바꿔서 찾기 : 문자 \"A\"와 \"B\"로 이루어진 문자열 myString과 pat가 주어집니다. myString의 \"A\"를 \"B\"로, \"B\"를 \"A\"로 바꾼 문자열의 연속하는 부분 문자열 중 pat이 있으면 1을 아니면 0을 return 하는 solution 함수를 완성하세요."
   ]
  },
  {
   "cell_type": "code",
   "execution_count": 24,
   "id": "0f3d410a",
   "metadata": {},
   "outputs": [
    {
     "data": {
      "text/plain": [
       "1"
      ]
     },
     "execution_count": 24,
     "metadata": {},
     "output_type": "execute_result"
    }
   ],
   "source": [
    "myString = \"ABBAA\"\n",
    "pat = \"AABB\"\n",
    "\n",
    "def solution(myString, pat):\n",
    "            \n",
    "    return 1 if ''.join([\"A\" if word == \"B\" else \"B\" for word in list(pat)]) in myString else 0\n",
    "\n",
    "solution(myString, pat)"
   ]
  },
  {
   "cell_type": "markdown",
   "id": "89ce5223",
   "metadata": {},
   "source": [
    "myString은 문자열이 길기 때문에 pat을 뒤집어 해당 문자열이 myString내에 존재하는지를 확인해 주었다."
   ]
  },
  {
   "cell_type": "markdown",
   "id": "a222ac5e",
   "metadata": {},
   "source": [
    "배열 비교하기 : 이 문제에서 두 정수 배열의 대소관계를 다음과 같이 정의합니다.\n",
    "\n",
    "두 배열의 길이가 다르다면, 배열의 길이가 긴 쪽이 더 큽니다.\n",
    "배열의 길이가 같다면 각 배열에 있는 모든 원소의 합을 비교하여 다르다면 더 큰 쪽이 크고, 같다면 같습니다.\n",
    "두 정수 배열 arr1과 arr2가 주어질 때, 위에서 정의한 배열의 대소관계에 대하여 arr2가 크다면 -1, arr1이 크다면 1, 두 배열이 같다면 0을 return 하는 solution 함수를 작성해 주세요."
   ]
  },
  {
   "cell_type": "code",
   "execution_count": 28,
   "id": "1515f045",
   "metadata": {},
   "outputs": [
    {
     "data": {
      "text/plain": [
       "-1"
      ]
     },
     "execution_count": 28,
     "metadata": {},
     "output_type": "execute_result"
    }
   ],
   "source": [
    "arr1 = [49, 13]\n",
    "arr2 = [70, 11, 2]\n",
    "\n",
    "def solution(arr1, arr2):\n",
    "    if (len(arr1) > len(arr2)) or ((len(arr1) == len(arr2)) and (sum(arr1) > sum(arr2))) :\n",
    "        return 1\n",
    "    elif (len(arr1) == len(arr2)) and (sum(arr1) == sum(arr2)):\n",
    "        return 0\n",
    "    else : return -1\n",
    "    \n",
    "solution(arr1, arr2)"
   ]
  },
  {
   "cell_type": "markdown",
   "id": "1c2e3e57",
   "metadata": {},
   "source": [
    "그다지 효율적이지 않아 보이는 코드다. 수정을 어느정도 해야 할 듯 싶다.\n",
    "총 두가지 사항에 대해 비교해야 한다. 첫번째는 배열의 길이이고, 두번째는 배열내 요소의 총합이다.\n",
    "1을 반환하는 경우는 arr1이 arr2보다 배열이 길거나, 총합이 큰 경우\n",
    "0을 반환하는 경우는 길이와 총합이 같은 경우\n",
    "-1을 반환하는 경우는 arr2가 더 길거나 총합이 큰 경우이다.\n",
    "\n",
    "배열의 길이가 다르다면, 총합을 연산을 통해 비교할 필요가 없으므로 연산수를 줄일 수 있다면 줄이는 것이 좋을 듯 싶어 보인다.\n"
   ]
  },
  {
   "cell_type": "code",
   "execution_count": 29,
   "id": "0e67da03",
   "metadata": {},
   "outputs": [
    {
     "data": {
      "text/plain": [
       "-1"
      ]
     },
     "execution_count": 29,
     "metadata": {},
     "output_type": "execute_result"
    }
   ],
   "source": [
    "arr1 = [49, 13]\n",
    "arr2 = [70, 11, 2]\n",
    "\n",
    "def solution(arr1, arr2):\n",
    "    if (len(arr1) > len(arr2)) : return 1\n",
    "    elif (len(arr1) < len(arr2)) : return -1\n",
    "    else : \n",
    "        if sum(arr1) > sum(arr2) : return 1\n",
    "        elif sum(arr1) < sum(arr2) : return -1\n",
    "        else : return 0\n",
    "\n",
    "solution(arr1, arr2)"
   ]
  },
  {
   "cell_type": "markdown",
   "id": "fa496e80",
   "metadata": {},
   "source": [
    "아래의 코드가 시간이 좀 더 걸리는 것 같다. 애초에 총합을 계산하는 것은 시간이 얼마 걸리지 않기 때문에 루프를 몇번 도는지가 더 중요한 요소 인 것 같다."
   ]
  },
  {
   "cell_type": "markdown",
   "id": "f5120f63",
   "metadata": {},
   "source": [
    "배열의 원소만큼 추가하기 : 아무 원소도 들어있지 않은 빈 배열 X가 있습니다. 양의 정수 배열 arr가 매개변수로 주어질 때, arr의 앞에서부터 차례대로 원소를 보면서 원소가 a라면 X의 맨 뒤에 a를 a번 추가하는 일을 반복한 뒤의 배열 X를 return 하는 solution 함수를 작성해 주세요."
   ]
  },
  {
   "cell_type": "code",
   "execution_count": 34,
   "id": "e8ee34b8",
   "metadata": {},
   "outputs": [
    {
     "data": {
      "text/plain": [
       "[5, 5, 5, 5, 5, 1, 4, 4, 4, 4]"
      ]
     },
     "execution_count": 34,
     "metadata": {},
     "output_type": "execute_result"
    }
   ],
   "source": [
    "arr = [5, 1, 4]\n",
    "\n",
    "def solution(arr):\n",
    "    X = []\n",
    "    for num in arr:\n",
    "        i = 0\n",
    "        while i < num:\n",
    "            X.append(num)\n",
    "            i += 1\n",
    "        \n",
    "    return X\n",
    "\n",
    "solution(arr)"
   ]
  },
  {
   "cell_type": "markdown",
   "id": "0e09654f",
   "metadata": {},
   "source": [
    "for 문 내에 while문으로 인해 반복문이 2중으로 반복되어 시간 복잡도가 매우 크게 나타났다. 다른 방법도 고안해 봐야 할 것 같다."
   ]
  },
  {
   "cell_type": "markdown",
   "id": "ef8b76ee",
   "metadata": {},
   "source": [
    "리스트에 값을 추가할 때 += [] 에 값을 추가하면 append와 비슷한 형식으로 적용 되는 것 같다"
   ]
  },
  {
   "cell_type": "code",
   "execution_count": 35,
   "id": "5ec47f9b",
   "metadata": {},
   "outputs": [
    {
     "data": {
      "text/plain": [
       "[5, 5, 5, 5, 5, 1, 4, 4, 4, 4]"
      ]
     },
     "execution_count": 35,
     "metadata": {},
     "output_type": "execute_result"
    }
   ],
   "source": [
    "arr = [5, 1, 4]\n",
    "\n",
    "def solution(arr):\n",
    "    answer = []\n",
    "    for num in arr:\n",
    "        answer += [num] * num\n",
    "        \n",
    "    return answer\n",
    "\n",
    "solution(arr)"
   ]
  },
  {
   "cell_type": "markdown",
   "id": "5f25018a",
   "metadata": {},
   "source": [
    "1번만 루프를 도는 것을 보니 시간이 훨씬 축약되는 것을 확인할 수 있다."
   ]
  },
  {
   "cell_type": "markdown",
   "id": "d74853ac",
   "metadata": {},
   "source": [
    "rny_string : 'm'과 \"rn\"이 모양이 비슷하게 생긴 점을 활용해 문자열에 장난을 하려고 합니다. 문자열 rny_string이 주어질 때, rny_string의 모든 'm'을 \"rn\"으로 바꾼 문자열을 return 하는 solution 함수를 작성해 주세요."
   ]
  },
  {
   "cell_type": "code",
   "execution_count": 3,
   "id": "9f4c6d51",
   "metadata": {},
   "outputs": [
    {
     "data": {
      "text/plain": [
       "'rnasterpiece'"
      ]
     },
     "execution_count": 3,
     "metadata": {},
     "output_type": "execute_result"
    }
   ],
   "source": [
    "rny_string = \"masterpiece\"\n",
    "\n",
    "def solution(rny_string):\n",
    "    return rny_string.replace(\"m\",\"rn\") if \"m\" in rny_string else rny_string\n",
    "\n",
    "solution(rny_string)"
   ]
  },
  {
   "cell_type": "markdown",
   "id": "06112339",
   "metadata": {},
   "source": [
    "뒤에서 5등까지 : 정수로 이루어진 리스트 num_list가 주어집니다. num_list에서 가장 작은 5개의 수를 오름차순으로 담은 리스트를 return하도록 solution 함수를 완성해주세요."
   ]
  },
  {
   "cell_type": "code",
   "execution_count": 1,
   "id": "bad64e91",
   "metadata": {},
   "outputs": [
    {
     "data": {
      "text/plain": [
       "[1, 4, 12, 14, 15]"
      ]
     },
     "execution_count": 1,
     "metadata": {},
     "output_type": "execute_result"
    }
   ],
   "source": [
    "num_list = [12, 4, 15, 46, 38, 1, 14]\n",
    "\n",
    "def solution(num_list):\n",
    "    return sorted(num_list)[:5]\n",
    "\n",
    "solution(num_list)"
   ]
  },
  {
   "cell_type": "markdown",
   "id": "399ef7e5",
   "metadata": {},
   "source": [
    "공백으로 구분하기 2 : 단어가 공백 한 개 이상으로 구분되어 있는 문자열 my_string이 매개변수로 주어질 때, my_string에 나온 단어를 앞에서부터 순서대로 담은 문자열 배열을 return 하는 solution 함수를 작성해 주세요."
   ]
  },
  {
   "cell_type": "code",
   "execution_count": 2,
   "id": "fe64398f",
   "metadata": {},
   "outputs": [
    {
     "data": {
      "text/plain": [
       "['i', 'love', 'you']"
      ]
     },
     "execution_count": 2,
     "metadata": {},
     "output_type": "execute_result"
    }
   ],
   "source": [
    "my_string = \" i    love  you\"\n",
    "\n",
    "def solution(my_string):\n",
    "    return my_string.split()\n",
    "\n",
    "solution(my_string)"
   ]
  },
  {
   "cell_type": "markdown",
   "id": "504f48dc",
   "metadata": {},
   "source": [
    "정수 부분 : 실수 flo가 매개 변수로 주어질 때, flo의 정수 부분을 return하도록 solution 함수를 완성해주세요."
   ]
  },
  {
   "cell_type": "code",
   "execution_count": 3,
   "id": "7931b359",
   "metadata": {},
   "outputs": [
    {
     "data": {
      "text/plain": [
       "1"
      ]
     },
     "execution_count": 3,
     "metadata": {},
     "output_type": "execute_result"
    }
   ],
   "source": [
    "flo = 1.42\n",
    "\n",
    "import math\n",
    "\n",
    "def solution(flo):\n",
    "    return math.floor(flo)\n",
    "\n",
    "solution(flo)"
   ]
  },
  {
   "cell_type": "markdown",
   "id": "86bbf9b7",
   "metadata": {},
   "source": [
    "math.floor을 통해 버림을, math.ceil을 통해 올림을 할 수 있다."
   ]
  },
  {
   "cell_type": "markdown",
   "id": "a214ea35",
   "metadata": {},
   "source": [
    "특정한 문자를 대문자로 바꾸기 : 영소문자로 이루어진 문자열 my_string과 영소문자 1글자로 이루어진 문자열 alp가 매개변수로 주어질 때, my_string에서 alp에 해당하는 모든 글자를 대문자로 바꾼 문자열을 return 하는 solution 함수를 작성해 주세요."
   ]
  },
  {
   "cell_type": "code",
   "execution_count": 6,
   "id": "916ac860",
   "metadata": {},
   "outputs": [
    {
     "data": {
      "text/plain": [
       "'Programmers'"
      ]
     },
     "execution_count": 6,
     "metadata": {},
     "output_type": "execute_result"
    }
   ],
   "source": [
    "my_string = \"programmers\"\n",
    "alp = \"p\"\n",
    "\n",
    "def solution(my_string, alp):\n",
    "    return my_string.replace(alp,alp.upper()) if alp in my_string else my_string\n",
    "\n",
    "solution(my_string, alp)"
   ]
  },
  {
   "cell_type": "markdown",
   "id": "e8388a12",
   "metadata": {},
   "source": [
    "대문자로 변환 시 '해당 문자열'.upper() 의 형태로 바꿀 수 있다."
   ]
  },
  {
   "cell_type": "markdown",
   "id": "a7997d2f",
   "metadata": {},
   "source": [
    "배열의 원소 삭제하기 : 정수 배열 arr과 delete_list가 있습니다. arr의 원소 중 delete_list의 원소를 모두 삭제하고 남은 원소들은 기존의 arr에 있던 순서를 유지한 배열을 return 하는 solution 함수를 작성해 주세요."
   ]
  },
  {
   "cell_type": "code",
   "execution_count": 14,
   "id": "ad3f3351",
   "metadata": {},
   "outputs": [
    {
     "data": {
      "text/plain": [
       "[293, 395, 678]"
      ]
     },
     "execution_count": 14,
     "metadata": {},
     "output_type": "execute_result"
    }
   ],
   "source": [
    "arr = [293, 1000, 395, 678, 94]\n",
    "delete_list = [94, 777, 104, 1000, 1, 12]\n",
    "\n",
    "def solution(arr, delete_list):\n",
    "    return [x for x in arr if x not in delete_list]\n",
    "\n",
    "solution(arr, delete_list)"
   ]
  },
  {
   "cell_type": "markdown",
   "id": "48050fb1",
   "metadata": {},
   "source": [
    "처음에는 list set을 통해 중복되는 값을 제외해 주려고 했지만 순서 유지가 안되므로 그냥 리스트 컴프리헨션을 통해 해결"
   ]
  },
  {
   "cell_type": "markdown",
   "id": "244976d0",
   "metadata": {},
   "source": [
    "소문자로 바꾸기 : 알파벳으로 이루어진 문자열 myString이 주어집니다. 모든 알파벳을 소문자로 변환하여 return 하는 solution 함수를 완성해 주세요."
   ]
  },
  {
   "cell_type": "code",
   "execution_count": 16,
   "id": "3a8ab8a8",
   "metadata": {},
   "outputs": [
    {
     "data": {
      "text/plain": [
       "'abcdefg'"
      ]
     },
     "execution_count": 16,
     "metadata": {},
     "output_type": "execute_result"
    }
   ],
   "source": [
    "myString = \"aBcDeFg\"\n",
    "\n",
    "def solution(myString):\n",
    "    return myString.lower()\n",
    "\n",
    "solution(myString)"
   ]
  },
  {
   "cell_type": "markdown",
   "id": "e38037ff",
   "metadata": {},
   "source": [
    "할 일 목록 : 오늘 해야 할 일이 담긴 문자열 배열 todo_list와 각각의 일을 지금 마쳤는지를 나타내는 boolean 배열 finished가 매개변수로 주어질 때, todo_list에서 아직 마치지 못한 일들을 순서대로 담은 문자열 배열을 return 하는 solution 함수를 작성해 주세요."
   ]
  },
  {
   "cell_type": "code",
   "execution_count": 19,
   "id": "b0895cd7",
   "metadata": {},
   "outputs": [
    {
     "data": {
      "text/plain": [
       "['practiceguitar', 'studygraph']"
      ]
     },
     "execution_count": 19,
     "metadata": {},
     "output_type": "execute_result"
    }
   ],
   "source": [
    "todo_list = [\"problemsolving\", \"practiceguitar\", \"swim\", \"studygraph\"]\n",
    "finished = [True, False, True, False]\n",
    "\n",
    "def solution(todo_list, finished):\n",
    "    return [x for i,x in enumerate(todo_list) if not finished[i]]\n",
    "\n",
    "solution(todo_list, finished)"
   ]
  },
  {
   "cell_type": "markdown",
   "id": "1d6c0f34",
   "metadata": {},
   "source": [
    "프로그래머스에서는 true True를 동일하게 불리언으로 받지만 주피터 노트북은 아닌 듯 하다.\n",
    "마찬가지로 리스트 컴프리헨션을 통해 같은 인덱스의 불리언 값을 받아 해당 불리언이 true인 리스트 값들만 반환 하였다."
   ]
  },
  {
   "cell_type": "markdown",
   "id": "98546b94",
   "metadata": {},
   "source": [
    "배열에서 문자열 대소문자 변환하기 : 문자열 배열 strArr가 주어집니다. 모든 원소가 알파벳으로만 이루어져 있을 때, 배열에서 홀수번째 인덱스의 문자열은 모든 문자를 대문자로, 짝수번째 인덱스의 문자열은 모든 문자를 소문자로 바꿔서 반환하는 solution 함수를 완성해 주세요."
   ]
  },
  {
   "cell_type": "code",
   "execution_count": 23,
   "id": "42121b72",
   "metadata": {},
   "outputs": [
    {
     "data": {
      "text/plain": [
       "['aaa', 'BBB', 'ccc', 'DDD']"
      ]
     },
     "execution_count": 23,
     "metadata": {},
     "output_type": "execute_result"
    }
   ],
   "source": [
    "strArr = [\"AAA\",\"BBB\",\"CCC\",\"DDD\"]\n",
    "\n",
    "def solution(strArr):\n",
    "    return [x.upper() if i%2 != 0 else x.lower() for i,x in enumerate(strArr)]\n",
    "\n",
    "solution(strArr)"
   ]
  },
  {
   "cell_type": "markdown",
   "id": "ddaacc37",
   "metadata": {},
   "source": [
    "l로 만들기 : 알파벳 소문자로 이루어진 문자열 myString이 주어집니다. 알파벳 순서에서 \"l\"보다 앞서는 모든 문자를 \"l\"로 바꾼 문자열을 return 하는 solution 함수를 완성해 주세요."
   ]
  },
  {
   "cell_type": "code",
   "execution_count": 24,
   "id": "4c8a2daa",
   "metadata": {},
   "outputs": [
    {
     "data": {
      "text/plain": [
       "'lllllvwxyz'"
      ]
     },
     "execution_count": 24,
     "metadata": {},
     "output_type": "execute_result"
    }
   ],
   "source": [
    "myString = \"abcdevwxyz\"\t\n",
    "\n",
    "def solution(myString):\n",
    "    return ''.join([x if x not in ['a','b','c','d','e','f','g','h','i','j','k'] else 'l' for x in list(myString)])\n",
    "\n",
    "solution(myString)"
   ]
  },
  {
   "cell_type": "code",
   "execution_count": 25,
   "id": "7102108c",
   "metadata": {},
   "outputs": [
    {
     "data": {
      "text/plain": [
       "True"
      ]
     },
     "execution_count": 25,
     "metadata": {},
     "output_type": "execute_result"
    }
   ],
   "source": [
    "'a' < 'b'"
   ]
  },
  {
   "cell_type": "code",
   "execution_count": 27,
   "id": "be67cae1",
   "metadata": {},
   "outputs": [
    {
     "data": {
      "text/plain": [
       "'lllllvwxyz'"
      ]
     },
     "execution_count": 27,
     "metadata": {},
     "output_type": "execute_result"
    }
   ],
   "source": [
    "myString = \"abcdevwxyz\"\t\n",
    "\n",
    "def solution(myString):\n",
    "    return ''.join([x if x > 'l' else 'l' for x in list(myString)])\n",
    "\n",
    "solution(myString)"
   ]
  },
  {
   "cell_type": "markdown",
   "id": "f1e5d4e3",
   "metadata": {},
   "source": [
    "단순히 in을 썼을때 보다 부등호를 통한 비교를 했을때가 시간이 덜 드는 것을 확인 할 수 있다."
   ]
  },
  {
   "cell_type": "markdown",
   "id": "8dfe4420",
   "metadata": {},
   "source": [
    "대문자로 바꾸기 : 알파벳으로 이루어진 문자열 myString이 주어집니다. 모든 알파벳을 대문자로 변환하여 return 하는 solution 함수를 완성해 주세요."
   ]
  },
  {
   "cell_type": "code",
   "execution_count": 28,
   "id": "32db5d63",
   "metadata": {},
   "outputs": [
    {
     "data": {
      "text/plain": [
       "'ABCDEFG'"
      ]
     },
     "execution_count": 28,
     "metadata": {},
     "output_type": "execute_result"
    }
   ],
   "source": [
    "myString = \"aBcDeFg\"\n",
    "\n",
    "def solution(myString):\n",
    "    return myString.upper()\n",
    "\n",
    "solution(myString)"
   ]
  },
  {
   "cell_type": "markdown",
   "id": "4c346bad",
   "metadata": {},
   "source": [
    "공백으로 구분하기 1 : 단어가 공백 한 개로 구분되어 있는 문자열 my_string이 매개변수로 주어질 때, my_string에 나온 단어를 앞에서부터 순서대로 담은 문자열 배열을 return 하는 solution 함수를 작성해 주세요."
   ]
  },
  {
   "cell_type": "code",
   "execution_count": 29,
   "id": "92180d76",
   "metadata": {},
   "outputs": [
    {
     "data": {
      "text/plain": [
       "['i', 'love', 'you']"
      ]
     },
     "execution_count": 29,
     "metadata": {},
     "output_type": "execute_result"
    }
   ],
   "source": [
    "my_string = \"i love you\"\n",
    "\n",
    "def solution(my_string):\n",
    "    return my_string.split()\n",
    "\n",
    "solution(my_string)"
   ]
  },
  {
   "cell_type": "markdown",
   "id": "20ba1d4f",
   "metadata": {},
   "source": [
    "길이에 따른 연산 : 정수가 담긴 리스트 num_list가 주어질 때, 리스트의 길이가 11 이상이면 리스트에 있는 모든 원소의 합을 10 이하이면 모든 원소의 곱을 return하도록 solution 함수를 완성해주세요."
   ]
  },
  {
   "cell_type": "code",
   "execution_count": 32,
   "id": "cc21afd7",
   "metadata": {},
   "outputs": [
    {
     "data": {
      "text/plain": [
       "51"
      ]
     },
     "execution_count": 32,
     "metadata": {},
     "output_type": "execute_result"
    }
   ],
   "source": [
    "num_list = [3, 4, 5, 2, 5, 4, 6, 7, 3, 7, 2, 2, 1]\n",
    "from functools import reduce\n",
    "\n",
    "def solution(num_list):\n",
    "    return reduce(lambda x,y: x*y, num_list) if len(num_list) <= 10 else sum(num_list)\n",
    "\n",
    "solution(num_list)"
   ]
  },
  {
   "cell_type": "markdown",
   "id": "e61595c5",
   "metadata": {},
   "source": [
    "functools 모듈에는 reduce 함수가 있는데 하나씩 원소를 줄이며 연산을 해주는 함수 같은 느낌이다.\n",
    "만약 lambda 안에 x + y 를 넣으면 모든 원소를 더하는 느낌. 근데 sum()은 이미 내장함수가 존재하기 때문에 이렇게 할 필요가 없다."
   ]
  },
  {
   "cell_type": "markdown",
   "id": "dd061fa5",
   "metadata": {},
   "source": [
    "부분 문자열 이어 붙여 문자열 만들기 : 길이가 같은 문자열 배열 my_strings와 이차원 정수 배열 parts가 매개변수로 주어집니다. parts[i]는 [s, e] 형태로, my_string[i]의 인덱스 s부터 인덱스 e까지의 부분 문자열을 의미합니다. 각 my_strings의 원소의 parts에 해당하는 부분 문자열을 순서대로 이어 붙인 문자열을 return 하는 solution 함수를 작성해 주세요."
   ]
  },
  {
   "cell_type": "code",
   "execution_count": 44,
   "id": "dc239e20",
   "metadata": {},
   "outputs": [
    {
     "data": {
      "text/plain": [
       "'programmers'"
      ]
     },
     "execution_count": 44,
     "metadata": {},
     "output_type": "execute_result"
    }
   ],
   "source": [
    "my_strings = [\"progressive\", \"hamburger\", \"hammer\", \"ahocorasick\"]\n",
    "parts = [[0, 4], [1, 2], [3, 5], [7, 7]]\n",
    "\n",
    "def solution(my_strings, parts):\n",
    "    answer = ''\n",
    "    for i,string in enumerate(my_strings):\n",
    "        answer += string[parts[i][0]:parts[i][1]+1]\n",
    "    return answer\n",
    "\n",
    "solution(my_strings, parts)"
   ]
  },
  {
   "cell_type": "markdown",
   "id": "a985d058",
   "metadata": {},
   "source": [
    "n보다 커질 때까지 더하기 : 정수 배열 numbers와 정수 n이 매개변수로 주어집니다. numbers의 원소를 앞에서부터 하나씩 더하다가 그 합이 n보다 커지는 순간 이때까지 더했던 원소들의 합을 return 하는 solution 함수를 작성해 주세요."
   ]
  },
  {
   "cell_type": "code",
   "execution_count": 50,
   "id": "8c8a9820",
   "metadata": {},
   "outputs": [
    {
     "data": {
      "text/plain": [
       "139"
      ]
     },
     "execution_count": 50,
     "metadata": {},
     "output_type": "execute_result"
    }
   ],
   "source": [
    "numbers = [34, 5, 71, 29, 100, 34]\n",
    "n = 123\n",
    "\n",
    "def solution(numbers, n):\n",
    "    answer = 0\n",
    "    for num in numbers:\n",
    "        answer += num\n",
    "        if answer > n:\n",
    "            break\n",
    "    return answer\n",
    "\n",
    "solution(numbers, n)"
   ]
  },
  {
   "cell_type": "code",
   "execution_count": 53,
   "id": "7ef39471",
   "metadata": {},
   "outputs": [
    {
     "data": {
      "text/plain": [
       "139"
      ]
     },
     "execution_count": 53,
     "metadata": {},
     "output_type": "execute_result"
    }
   ],
   "source": [
    "numbers = [34, 5, 71, 29, 100, 34]\n",
    "n = 123\n",
    "\n",
    "def solution(numbers, n):\n",
    "    return sum([x for i,x in enumerate(numbers) if sum(numbers[:i]) <= n])\n",
    "\n",
    "solution(numbers, n)"
   ]
  },
  {
   "cell_type": "markdown",
   "id": "768ea8cf",
   "metadata": {},
   "source": [
    "n개 간격의 원소들 : 정수 리스트 num_list와 정수 n이 주어질 때, num_list의 첫 번째 원소부터 마지막 원소까지 n개 간격으로 저장되어있는 원소들을 차례로 담은 리스트를 return하도록 solution 함수를 완성해주세요."
   ]
  },
  {
   "cell_type": "code",
   "execution_count": 54,
   "id": "d83539a4",
   "metadata": {},
   "outputs": [
    {
     "data": {
      "text/plain": [
       "[4, 6, 7]"
      ]
     },
     "execution_count": 54,
     "metadata": {},
     "output_type": "execute_result"
    }
   ],
   "source": [
    "num_list = [4, 2, 6, 1, 7, 6]\n",
    "n = 2\n",
    "\n",
    "def solution(num_list, n):\n",
    "    return [x for i,x in enumerate(num_list) if i % n == 0]\n",
    "\n",
    "solution(num_list,n)"
   ]
  },
  {
   "cell_type": "markdown",
   "id": "36d3bf7f",
   "metadata": {},
   "source": [
    "원하는 문자열 찾기 : 알파벳으로 이루어진 문자열 myString과 pat이 주어집니다. myString의 연속된 부분 문자열 중 pat이 존재하면 1을 그렇지 않으면 0을 return 하는 solution 함수를 완성해 주세요.\n",
    "\n",
    "단, 알파벳 대문자와 소문자는 구분하지 않습니다."
   ]
  },
  {
   "cell_type": "code",
   "execution_count": 55,
   "id": "c4ae4996",
   "metadata": {},
   "outputs": [
    {
     "data": {
      "text/plain": [
       "1"
      ]
     },
     "execution_count": 55,
     "metadata": {},
     "output_type": "execute_result"
    }
   ],
   "source": [
    "myString = \"AbCdEfG\"\n",
    "pat = \"aBc\"\n",
    "\n",
    "def solution(myString, pat):\n",
    "    return 1 if pat.upper() in myString.upper() else 0 \n",
    "\n",
    "solution(myString, pat)"
   ]
  },
  {
   "cell_type": "markdown",
   "id": "24eb97ce",
   "metadata": {},
   "source": [
    "순서 바꾸기 : 정수 리스트 num_list와 정수 n이 주어질 때, num_list를 n 번째 원소 이후의 원소들과 n 번째까지의 원소들로 나눠 n 번째 원소 이후의 원소들을 n 번째까지의 원소들 앞에 붙인 리스트를 return하도록 solution 함수를 완성해주세요."
   ]
  },
  {
   "cell_type": "code",
   "execution_count": 63,
   "id": "f4c7426a",
   "metadata": {},
   "outputs": [
    {
     "data": {
      "text/plain": [
       "[1, 6, 2]"
      ]
     },
     "execution_count": 63,
     "metadata": {},
     "output_type": "execute_result"
    }
   ],
   "source": [
    "num_list = [2, 1, 6]\n",
    "n = 1\n",
    "\n",
    "def solution(num_list, n):\n",
    "    return num_list[n:]+num_list[:n]\n",
    "\n",
    "solution(num_list, n)"
   ]
  },
  {
   "cell_type": "markdown",
   "id": "7e9368e4",
   "metadata": {},
   "source": [
    "5명씩 : 최대 5명씩 탑승가능한 놀이기구를 타기 위해 줄을 서있는 사람들의 이름이 담긴 문자열 리스트 names가 주어질 때, 앞에서 부터 5명씩 묶은 그룹의 가장 앞에 서있는 사람들의 이름을 담은 리스트를 return하도록 solution 함수를 완성해주세요. 마지막 그룹이 5명이 되지 않더라도 가장 앞에 있는 사람의 이름을 포함합니다."
   ]
  },
  {
   "cell_type": "code",
   "execution_count": 64,
   "id": "ae25da56",
   "metadata": {},
   "outputs": [
    {
     "data": {
      "text/plain": [
       "['nami', 'vex']"
      ]
     },
     "execution_count": 64,
     "metadata": {},
     "output_type": "execute_result"
    }
   ],
   "source": [
    "names = [\"nami\", \"ahri\", \"jayce\", \"garen\", \"ivern\", \"vex\", \"jinx\"]\n",
    "\n",
    "def solution(names):\n",
    "    return [name for i, name in enumerate(names) if i % 5 == 0]\n",
    "\n",
    "solution(names)"
   ]
  },
  {
   "cell_type": "markdown",
   "id": "5e331b84",
   "metadata": {},
   "source": [
    "조건에 맞게 수열 변환하기 1 : 정수 배열 arr가 주어집니다. arr의 각 원소에 대해 값이 50보다 크거나 같은 짝수라면 2로 나누고, 50보다 작은 홀수라면 2를 곱합니다. 그 결과인 정수 배열을 return 하는 solution 함수를 완성해 주세요."
   ]
  },
  {
   "cell_type": "code",
   "execution_count": 67,
   "id": "00a4cc43",
   "metadata": {},
   "outputs": [
    {
     "data": {
      "text/plain": [
       "[2, 2, 6, 50, 99, 49]"
      ]
     },
     "execution_count": 67,
     "metadata": {},
     "output_type": "execute_result"
    }
   ],
   "source": [
    "arr = [1, 2, 3, 100, 99, 98]\n",
    "\n",
    "def solution(arr):\n",
    "    answer = []\n",
    "    for num in arr:\n",
    "        if num < 50 and num % 2 != 0:\n",
    "            answer.append(2*num)\n",
    "        elif num >= 50 and num % 2 == 0:\n",
    "            answer.append(num//2)\n",
    "        else : answer.append(num)\n",
    "    return answer\n",
    "\n",
    "solution(arr)"
   ]
  },
  {
   "cell_type": "markdown",
   "id": "924e1125",
   "metadata": {},
   "source": [
    "통과를 하긴 했지만 시간복잡도가 커서 테스트 10의 경우 시간이 상당히 오래 걸렸다. 코드를 수정할 필요가 있어 보인다."
   ]
  },
  {
   "cell_type": "markdown",
   "id": "f3b4c8ea",
   "metadata": {},
   "source": [
    "리스트 컴프리헨션을 통해 줄이려 해봤지만 시간 복잡도는 비슷한 것 같아 나쁘지 않은 코드 인 것 같다."
   ]
  },
  {
   "cell_type": "markdown",
   "id": "2e82901a",
   "metadata": {},
   "source": [
    "x 사이의 개수 : 문자열 myString이 주어집니다. myString을 문자 \"x\"를 기준으로 나눴을 때 나눠진 문자열 각각의 길이를 순서대로 저장한 배열을 return 하는 solution 함수를 완성해 주세요."
   ]
  },
  {
   "cell_type": "code",
   "execution_count": 73,
   "id": "f6ff2ccf",
   "metadata": {},
   "outputs": [
    {
     "data": {
      "text/plain": [
       "[1, 2, 1, 0, 1, 0]"
      ]
     },
     "execution_count": 73,
     "metadata": {},
     "output_type": "execute_result"
    }
   ],
   "source": [
    "myString = \"oxooxoxxox\"\n",
    "\n",
    "def solution(myString):\n",
    "    return [len(x) for x in myString.split('x')]\n",
    "\n",
    "solution(myString)"
   ]
  },
  {
   "cell_type": "markdown",
   "id": "561deec0",
   "metadata": {},
   "source": [
    "문자열 split을 하기 위한 기준이 되는 문자/기호를 ()안에 포함시키면 된다."
   ]
  },
  {
   "cell_type": "markdown",
   "id": "c921b858",
   "metadata": {},
   "source": [
    "n 번째 원소까지 : 정수 리스트 num_list와 정수 n이 주어질 때, num_list의 첫 번째 원소부터 n 번째 원소까지의 모든 원소를 담은 리스트를 return하도록 solution 함수를 완성해주세요."
   ]
  },
  {
   "cell_type": "code",
   "execution_count": 74,
   "id": "506ef0eb",
   "metadata": {},
   "outputs": [
    {
     "data": {
      "text/plain": [
       "[2]"
      ]
     },
     "execution_count": 74,
     "metadata": {},
     "output_type": "execute_result"
    }
   ],
   "source": [
    "num_list = [2,1,6]\n",
    "n = 1\n",
    "\n",
    "def solution(num_list, n):\n",
    "    return num_list[:n]\n",
    "\n",
    "solution(num_list,n)"
   ]
  },
  {
   "cell_type": "markdown",
   "id": "7d94c46e",
   "metadata": {},
   "source": [
    "A 강조하기 : 문자열 myString이 주어집니다. myString에서 알파벳 \"a\"가 등장하면 전부 \"A\"로 변환하고, \"A\"가 아닌 모든 대문자 알파벳은 소문자 알파벳으로 변환하여 return 하는 solution 함수를 완성하세요."
   ]
  },
  {
   "cell_type": "code",
   "execution_count": 79,
   "id": "93b1c75b",
   "metadata": {},
   "outputs": [
    {
     "data": {
      "text/plain": [
       "'AbstrAct AlgebrA'"
      ]
     },
     "execution_count": 79,
     "metadata": {},
     "output_type": "execute_result"
    }
   ],
   "source": [
    "myString = \"abstract algebra\"\n",
    "\n",
    "def solution(myString):\n",
    "    answer = ''.join([x.upper() if x in ['a','A'] else x.lower() for x in myString])\n",
    "    return answer\n",
    "    \n",
    "solution(myString)"
   ]
  },
  {
   "cell_type": "markdown",
   "id": "a2801f1f",
   "metadata": {},
   "source": [
    "처음에 소문자 a만 대문자 A로 변환하려고 하여 오류가 났었다. A도 그대로 둬야 한다."
   ]
  },
  {
   "cell_type": "markdown",
   "id": "24b041dd",
   "metadata": {},
   "source": [
    "콜라츠 수열 만들기 : 모든 자연수 x에 대해서 현재 값이 x이면 x가 짝수일 때는 2로 나누고, x가 홀수일 때는 3 * x + 1로 바꾸는 계산을 계속해서 반복하면 언젠가는 반드시 x가 1이 되는지 묻는 문제를 콜라츠 문제라고 부릅니다.\n",
    "\n",
    "그리고 위 과정에서 거쳐간 모든 수를 기록한 수열을 콜라츠 수열이라고 부릅니다.\n",
    "\n",
    "계산 결과 1,000 보다 작거나 같은 수에 대해서는 전부 언젠가 1에 도달한다는 것이 알려져 있습니다.\n",
    "\n",
    "임의의 1,000 보다 작거나 같은 양의 정수 n이 주어질 때 초기값이 n인 콜라츠 수열을 return 하는 solution 함수를 완성해 주세요."
   ]
  },
  {
   "cell_type": "code",
   "execution_count": 82,
   "id": "359659f4",
   "metadata": {},
   "outputs": [
    {
     "name": "stdout",
     "output_type": "stream",
     "text": [
      "[10, 5, 16, 8, 4, 2, 1]\n"
     ]
    }
   ],
   "source": [
    "n = 10\n",
    "\n",
    "def solution(n):\n",
    "    answer = []\n",
    "    num = n\n",
    "    answer.append(num)\n",
    "    while True:\n",
    "        if num == 1:\n",
    "            break\n",
    "        elif num % 2 == 0:\n",
    "            answer.append(num // 2)\n",
    "            num = num // 2\n",
    "        else:\n",
    "            answer.append(3 * num + 1)\n",
    "            num = 3 * num + 1\n",
    "\n",
    "    return answer\n",
    "\n",
    "print(solution(n))"
   ]
  },
  {
   "cell_type": "markdown",
   "id": "a58b189c",
   "metadata": {},
   "source": [
    "문자 리스트를 문자열로 변환하기 : 문자들이 담겨있는 배열 arr가 주어집니다. arr의 원소들을 순서대로 이어 붙인 문자열을 return 하는 solution함수를 작성해 주세요."
   ]
  },
  {
   "cell_type": "code",
   "execution_count": 84,
   "id": "7a878bc1",
   "metadata": {},
   "outputs": [
    {
     "data": {
      "text/plain": [
       "'abc'"
      ]
     },
     "execution_count": 84,
     "metadata": {},
     "output_type": "execute_result"
    }
   ],
   "source": [
    "arr = [\"a\",\"b\",\"c\"]\n",
    "\n",
    "def solution(arr):\n",
    "    return ''.join(arr)\n",
    "\n",
    "solution(arr)"
   ]
  },
  {
   "cell_type": "markdown",
   "id": "b3887b77",
   "metadata": {},
   "source": [
    "홀수 vs 짝수 : 정수 리스트 num_list가 주어집니다. 가장 첫 번째 원소를 1번 원소라고 할 때, 홀수 번째 원소들의 합과 짝수 번째 원소들의 합 중 큰 값을 return 하도록 solution 함수를 완성해주세요. 두 값이 같을 경우 그 값을 return합니다."
   ]
  },
  {
   "cell_type": "code",
   "execution_count": 86,
   "id": "dfef5368",
   "metadata": {},
   "outputs": [
    {
     "data": {
      "text/plain": [
       "17"
      ]
     },
     "execution_count": 86,
     "metadata": {},
     "output_type": "execute_result"
    }
   ],
   "source": [
    "num_list = [4, 2, 6, 1, 7, 6]\n",
    "\n",
    "def solution(num_list):\n",
    "    return max(sum([x for i,x in enumerate(num_list) if i % 2 == 0]),sum([x for i,x in enumerate(num_list) if i % 2 != 0]))\n",
    "               \n",
    "solution(num_list)"
   ]
  },
  {
   "cell_type": "markdown",
   "id": "1aa2f27a",
   "metadata": {},
   "source": [
    "특별한 이차원 배열 1 : 정수 n이 매개변수로 주어질 때, 다음과 같은 n × n 크기의 이차원 배열 arr를 return 하는 solution 함수를 작성해 주세요.\n",
    "\n",
    "arr[i][j] (0 ≤ i, j < n)의 값은 i = j라면 1, 아니라면 0입니다."
   ]
  },
  {
   "cell_type": "code",
   "execution_count": 96,
   "id": "87546fd7",
   "metadata": {},
   "outputs": [
    {
     "data": {
      "text/plain": [
       "[[1, 0, 0], [0, 1, 0], [0, 0, 1]]"
      ]
     },
     "execution_count": 96,
     "metadata": {},
     "output_type": "execute_result"
    }
   ],
   "source": [
    "n = 3\n",
    "\n",
    "def solution(n):\n",
    "        \n",
    "    return [[1 if i == j else 0 for j in range(n)] for i in range(n)]\n",
    "\n",
    "solution(n)"
   ]
  },
  {
   "cell_type": "markdown",
   "id": "7620e81e",
   "metadata": {},
   "source": [
    "n*n의 행렬을 우선적으로 만들고, 행과 열이 같은 원소값으로 1을 대입하면 될 듯 하다"
   ]
  },
  {
   "cell_type": "code",
   "execution_count": 107,
   "id": "6a7a0bac",
   "metadata": {},
   "outputs": [
    {
     "data": {
      "text/plain": [
       "[[1, 1, 1], [1, 1, 1], [1, 1, 1]]"
      ]
     },
     "execution_count": 107,
     "metadata": {},
     "output_type": "execute_result"
    }
   ],
   "source": [
    "n = 3\n",
    "\n",
    "def solution(n):\n",
    "        \n",
    "    answer = [[0] * n] * n\n",
    "    for i in range(n):\n",
    "        answer[i][i] = 1\n",
    "        \n",
    "    return answer\n",
    "\n",
    "solution(n)"
   ]
  },
  {
   "cell_type": "code",
   "execution_count": 108,
   "id": "75c7239b",
   "metadata": {},
   "outputs": [
    {
     "data": {
      "text/plain": [
       "[[1, 0, 0], [1, 0, 0], [1, 0, 0]]"
      ]
     },
     "execution_count": 108,
     "metadata": {},
     "output_type": "execute_result"
    }
   ],
   "source": [
    "answer = [[0] * n] * n\n",
    "\n",
    "answer[0][0] = 1\n",
    "\n",
    "answer"
   ]
  },
  {
   "cell_type": "markdown",
   "id": "80d7ce0f",
   "metadata": {},
   "source": [
    "deep copy가 안되기 때문에 모든 첫번째 값들이 동일하게 1로 변하는 것을 확인할 수 있다."
   ]
  },
  {
   "cell_type": "code",
   "execution_count": 124,
   "id": "db3ab63f",
   "metadata": {},
   "outputs": [
    {
     "data": {
      "text/plain": [
       "[[1, 0, 0], [0, 1, 0], [0, 0, 1]]"
      ]
     },
     "execution_count": 124,
     "metadata": {},
     "output_type": "execute_result"
    }
   ],
   "source": [
    "n = 3\n",
    "\n",
    "def solution(n):\n",
    "        \n",
    "    answer = [[0] * n for i in range(n)] \n",
    "    for i in range(n):\n",
    "        answer[i][i] = 1\n",
    "        \n",
    "    return answer\n",
    "\n",
    "solution(n)"
   ]
  },
  {
   "cell_type": "markdown",
   "id": "728676a4",
   "metadata": {},
   "source": [
    "접미사 배열 : 어떤 문자열에 대해서 접미사는 특정 인덱스부터 시작하는 문자열을 의미합니다. 예를 들어, \"banana\"의 모든 접미사는 \"banana\", \"anana\", \"nana\", \"ana\", \"na\", \"a\"입니다.\n",
    "문자열 my_string이 매개변수로 주어질 때, my_string의 모든 접미사를 사전순으로 정렬한 문자열 배열을 return 하는 solution 함수를 작성해 주세요."
   ]
  },
  {
   "cell_type": "code",
   "execution_count": 128,
   "id": "46488515",
   "metadata": {},
   "outputs": [
    {
     "data": {
      "text/plain": [
       "['a', 'ana', 'anana', 'banana', 'na', 'nana']"
      ]
     },
     "execution_count": 128,
     "metadata": {},
     "output_type": "execute_result"
    }
   ],
   "source": [
    "my_string = \"banana\"\n",
    "\n",
    "def solution(my_string):\n",
    "    answer = [my_string[i:] for i in range(len(my_string))]\n",
    "    return sorted(answer)\n",
    "\n",
    "solution(my_string)"
   ]
  },
  {
   "cell_type": "markdown",
   "id": "a8777089",
   "metadata": {},
   "source": [
    "어차피 사전순으로 반환할 것이라 answer에 저장할 때 짧은 접미사부터 저장할 필요가 없다."
   ]
  },
  {
   "cell_type": "markdown",
   "id": "7b1d7ba1",
   "metadata": {},
   "source": [
    "간단한 식 계산하기 : 문자열 binomial이 매개변수로 주어집니다. binomial은 \"a op b\" 형태의 이항식이고 a와 b는 음이 아닌 정수, op는 '+', '-', '*' 중 하나입니다. 주어진 식을 계산한 정수를 return 하는 solution 함수를 작성해 주세요."
   ]
  },
  {
   "cell_type": "code",
   "execution_count": 129,
   "id": "68e85825",
   "metadata": {},
   "outputs": [
    {
     "data": {
      "text/plain": [
       "['43', '+', '12']"
      ]
     },
     "execution_count": 129,
     "metadata": {},
     "output_type": "execute_result"
    }
   ],
   "source": [
    "binomial = \"43 + 12\"\n",
    "\n",
    "def solution(binomial):\n",
    "    answer = binomial.split()\n",
    "    return answer\n",
    "\n",
    "solution(binomial)"
   ]
  },
  {
   "cell_type": "code",
   "execution_count": 131,
   "id": "770fb441",
   "metadata": {},
   "outputs": [
    {
     "data": {
      "text/plain": [
       "55"
      ]
     },
     "execution_count": 131,
     "metadata": {},
     "output_type": "execute_result"
    }
   ],
   "source": [
    "binomial = \"43 + 12\"\n",
    "\n",
    "def solution(binomial):\n",
    "    answer = binomial.split()\n",
    "    if answer[1] == '+':\n",
    "        return int(answer[0])+int(answer[2])\n",
    "    elif answer[1] == '-':\n",
    "        return int(answer[0])-int(answer[2])\n",
    "    else:\n",
    "        return int(answer[0])*int(answer[2])\n",
    "    \n",
    "solution(binomial)"
   ]
  },
  {
   "cell_type": "markdown",
   "id": "3b7713cf",
   "metadata": {},
   "source": [
    "eval이라는 내장 함수는 문자열을 받아 연산을 진행한다. 즉 eval을 사용하여 if문을 사용할 필요도 없다."
   ]
  },
  {
   "cell_type": "code",
   "execution_count": 132,
   "id": "1ed3ea19",
   "metadata": {},
   "outputs": [
    {
     "data": {
      "text/plain": [
       "55"
      ]
     },
     "execution_count": 132,
     "metadata": {},
     "output_type": "execute_result"
    }
   ],
   "source": [
    "binomial = \"43 + 12\"\n",
    "\n",
    "def solution(binomial):\n",
    "    return eval(binomial)\n",
    "    \n",
    "solution(binomial)"
   ]
  },
  {
   "cell_type": "markdown",
   "id": "a07d6ff4",
   "metadata": {},
   "source": [
    "배열 만들기 3 : 정수 배열 arr와 2개의 구간이 담긴 배열 intervals가 주어집니다.\n",
    "\n",
    "intervals는 항상 [[a1, b1], [a2, b2]]의 꼴로 주어지며 각 구간은 닫힌 구간입니다. 닫힌 구간은 양 끝값과 그 사이의 값을 모두 포함하는 구간을 의미합니다.\n",
    "\n",
    "이때 배열 arr의 첫 번째 구간에 해당하는 배열과 두 번째 구간에 해당하는 배열을 앞뒤로 붙여 새로운 배열을 만들어 return 하는 solution 함수를 완성해 주세요."
   ]
  },
  {
   "cell_type": "code",
   "execution_count": 135,
   "id": "f717d8bc",
   "metadata": {},
   "outputs": [
    {
     "data": {
      "text/plain": [
       "[2, 3, 4, 1, 2, 3, 4, 5]"
      ]
     },
     "execution_count": 135,
     "metadata": {},
     "output_type": "execute_result"
    }
   ],
   "source": [
    "arr = [1,2,3,4,5]\n",
    "intervals = [[1, 3], [0, 4]]\n",
    "\n",
    "def solution(arr,intervals):\n",
    "    answer =  arr[intervals[0][0]:intervals[0][1]+1] + arr[intervals[1][0]:intervals[1][1]+1]\n",
    "    return answer\n",
    "\n",
    "solution(arr,intervals)"
   ]
  },
  {
   "cell_type": "markdown",
   "id": "589a92f2",
   "metadata": {},
   "source": [
    "9로 나눈 나머지 : 음이 아닌 정수를 9로 나눈 나머지는 그 정수의 각 자리 숫자의 합을 9로 나눈 나머지와 같은 것이 알려져 있습니다.\n",
    "이 사실을 이용하여 음이 아닌 정수가 문자열 number로 주어질 때, 이 정수를 9로 나눈 나머지를 return 하는 solution 함수를 작성해주세요."
   ]
  },
  {
   "cell_type": "code",
   "execution_count": 138,
   "id": "a0d2129f",
   "metadata": {},
   "outputs": [
    {
     "data": {
      "text/plain": [
       "['1', '2', '3']"
      ]
     },
     "execution_count": 138,
     "metadata": {},
     "output_type": "execute_result"
    }
   ],
   "source": [
    "list(\"123\")"
   ]
  },
  {
   "cell_type": "code",
   "execution_count": 142,
   "id": "1c8e6904",
   "metadata": {},
   "outputs": [
    {
     "data": {
      "text/plain": [
       "[1, 2, 3]"
      ]
     },
     "execution_count": 142,
     "metadata": {},
     "output_type": "execute_result"
    }
   ],
   "source": [
    "list(map(lambda x: int(x), list(\"123\")))"
   ]
  },
  {
   "cell_type": "code",
   "execution_count": 150,
   "id": "09410c14",
   "metadata": {},
   "outputs": [
    {
     "data": {
      "text/plain": [
       "7"
      ]
     },
     "execution_count": 150,
     "metadata": {},
     "output_type": "execute_result"
    }
   ],
   "source": [
    "number = \"123123213124\"\n",
    "\n",
    "def solution(number):\n",
    "    answer = [int(x) for x in number]\n",
    "    return sum(answer) % 9\n",
    "\n",
    "solution(number)"
   ]
  },
  {
   "cell_type": "markdown",
   "id": "9fcb42bf",
   "metadata": {},
   "source": [
    "이상한 점이 있다. 같은 연산을 했는데 아래 코드와 테스트 케이스에서 다른점이 발견 되었다."
   ]
  },
  {
   "cell_type": "code",
   "execution_count": 151,
   "id": "94fc760f",
   "metadata": {},
   "outputs": [
    {
     "data": {
      "text/plain": [
       "7"
      ]
     },
     "execution_count": 151,
     "metadata": {},
     "output_type": "execute_result"
    }
   ],
   "source": [
    "number = \"123123213124\"\n",
    "\n",
    "def solution(number):\n",
    "    answer = sum([int(x) for x in number]) % 9\n",
    "    return answer\n",
    "\n",
    "solution(number)"
   ]
  },
  {
   "cell_type": "markdown",
   "id": "4f358274",
   "metadata": {},
   "source": [
    "list map을 통해서도 코드를 짰는데 다른 결과가 나왔다."
   ]
  },
  {
   "cell_type": "code",
   "execution_count": 152,
   "id": "58fd864b",
   "metadata": {},
   "outputs": [
    {
     "data": {
      "text/plain": [
       "7"
      ]
     },
     "execution_count": 152,
     "metadata": {},
     "output_type": "execute_result"
    }
   ],
   "source": [
    "number = \"123123213124\"\n",
    "\n",
    "def solution(number):\n",
    "    answer = sum(list(map(int, number))) % 9\n",
    "    return answer\n",
    "\n",
    "solution(number)"
   ]
  },
  {
   "cell_type": "markdown",
   "id": "1d91cd3f",
   "metadata": {},
   "source": [
    "뭔가 연산 순서에 이상이 생긴듯 하다. 주의해야 할 듯 싶다."
   ]
  },
  {
   "cell_type": "markdown",
   "id": "8853ad5b",
   "metadata": {},
   "source": [
    "수 조작하기 2 : 정수 배열 numLog가 주어집니다. 처음에 numLog[0]에서 부터 시작해 \"w\", \"a\", \"s\", \"d\"로 이루어진 문자열을 입력으로 받아 순서대로 다음과 같은 조작을 했다고 합시다.\n",
    "\n",
    "\"w\" : 수에 1을 더한다.\n",
    "\"s\" : 수에 1을 뺀다.\n",
    "\"d\" : 수에 10을 더한다.\n",
    "\"a\" : 수에 10을 뺀다.\n",
    "그리고 매번 조작을 할 때마다 결괏값을 기록한 정수 배열이 numLog입니다. 즉, numLog[i]는 numLog[0]로부터 총 i번의 조작을 가한 결과가 저장되어 있습니다.\n",
    "\n",
    "주어진 정수 배열 numLog에 대해 조작을 위해 입력받은 문자열을 return 하는 solution 함수를 완성해 주세요."
   ]
  },
  {
   "cell_type": "code",
   "execution_count": 159,
   "id": "3428ce4a",
   "metadata": {},
   "outputs": [
    {
     "data": {
      "text/plain": [
       "'wsdawsdassw'"
      ]
     },
     "execution_count": 159,
     "metadata": {},
     "output_type": "execute_result"
    }
   ],
   "source": [
    "numLog = [0, 1, 0, 10, 0, 1, 0, 10, 0, -1, -2, -1]\n",
    "\n",
    "def solution(numLog):\n",
    "    numCgd = [numLog[i+1]-numLog[i] for i in range(len(numLog)) if i + 1 < len(numLog)]\n",
    "    answer = []\n",
    "    for num in numCgd:\n",
    "        if num == 1:\n",
    "            answer.append('w')\n",
    "        elif num == -1:\n",
    "            answer.append('s')\n",
    "        elif num == 10:\n",
    "            answer.append('d')\n",
    "        else:\n",
    "            answer.append('a')\n",
    "    return ''.join(answer)\n",
    "\n",
    "solution(numLog)"
   ]
  },
  {
   "cell_type": "markdown",
   "id": "0d4bbaa0",
   "metadata": {},
   "source": [
    "정석적인 풀이이긴 하지만 시간 복잡도가 꽤나 큰 듯 하다. 더 효율적인 방법을 고민해보자"
   ]
  },
  {
   "cell_type": "markdown",
   "id": "82fe59dc",
   "metadata": {},
   "source": [
    "주사위 게임 2 : 1부터 6까지 숫자가 적힌 주사위가 세 개 있습니다. 세 주사위를 굴렸을 때 나온 숫자를 각각 a, b, c라고 했을 때 얻는 점수는 다음과 같습니다.\n",
    "\n",
    "세 숫자가 모두 다르다면 a + b + c 점을 얻습니다.\n",
    "세 숫자 중 어느 두 숫자는 같고 나머지 다른 숫자는 다르다면 (a + b + c) × (a2 + b2 + c2 )점을 얻습니다.\n",
    "세 숫자가 모두 같다면 (a + b + c) × (a2 + b2 + c2 ) × (a3 + b3 + c3 )점을 얻습니다.\n",
    "세 정수 a, b, c가 매개변수로 주어질 때, 얻는 점수를 return 하는 solution 함수를 작성해 주세요."
   ]
  },
  {
   "cell_type": "code",
   "execution_count": 161,
   "id": "7a97a6ac",
   "metadata": {},
   "outputs": [
    {
     "data": {
      "text/plain": [
       "9"
      ]
     },
     "execution_count": 161,
     "metadata": {},
     "output_type": "execute_result"
    }
   ],
   "source": [
    "a = 2\n",
    "b = 6\n",
    "c = 1\n",
    "\n",
    "def solution(a,b,c):\n",
    "    if a == b == c :\n",
    "        return (a+b+c) * (pow(a,2)+pow(b,2)+pow(c,2)) * (pow(a,3)+pow(b,3)+pow(c,3))\n",
    "    elif (a != b) and (b != c) and (a != c):\n",
    "        return (a+b+c)\n",
    "    else :\n",
    "        return (a+b+c) * (pow(a,2)+pow(b,2)+pow(c,2))\n",
    "    \n",
    "solution(a,b,c)"
   ]
  },
  {
   "cell_type": "markdown",
   "id": "24f777af",
   "metadata": {},
   "source": [
    "모두 같은 경우. 두개가 같은 경우. 모두 다른 경우로 나눠서 생각해보자.\n",
    "총 경우의 수는 6 * 6 * 6\n",
    "모두 같은 경우의 수는 6\n",
    "둘이 같고 하나는 다를 경우의 수는 3c2 * 6 * 5 = 6 * 5 * 3\n",
    "모두 다른 경우의 수는 6 * 5 * 4\n",
    "\n",
    "if문을 설정 할 때, 둘은 같고 하나만 다른 경우가 제일 설정이 복잡하므로 else문에 포함 시켜야 할 것 같다."
   ]
  },
  {
   "cell_type": "markdown",
   "id": "b039289b",
   "metadata": {},
   "source": [
    "문자열 돌리기 : 문자열 str이 주어집니다.\n",
    "문자열을 시계방향으로 90도 돌려서 아래 입출력 예와 같이 출력하는 코드를 작성해 보세요."
   ]
  },
  {
   "cell_type": "code",
   "execution_count": 177,
   "id": "e10202cb",
   "metadata": {},
   "outputs": [
    {
     "name": "stdout",
     "output_type": "stream",
     "text": [
      "asd\n",
      "a\n",
      "s\n",
      "d\n"
     ]
    }
   ],
   "source": [
    "str = input()\n",
    "\n",
    "for i in str:\n",
    "    print(i)"
   ]
  },
  {
   "cell_type": "markdown",
   "id": "29033f8c",
   "metadata": {},
   "source": [
    "줄띄움을 따로 설정하지 않아도 for 문을 통해 하나씩 반환하면 자동으로 줄띄움이 된다."
   ]
  },
  {
   "cell_type": "markdown",
   "id": "463d57e0",
   "metadata": {},
   "source": [
    "덧셈식 출력하기 : 두 정수 a, b가 주어질 때 다음과 같은 형태의 계산식을 출력하는 코드를 작성해 보세요."
   ]
  },
  {
   "cell_type": "code",
   "execution_count": 178,
   "id": "f2920b8a",
   "metadata": {},
   "outputs": [
    {
     "name": "stdout",
     "output_type": "stream",
     "text": [
      "4 5\n",
      "9\n"
     ]
    }
   ],
   "source": [
    "a, b = map(int, input().strip().split(' '))\n",
    "print(a + b)"
   ]
  },
  {
   "cell_type": "code",
   "execution_count": 179,
   "id": "49958224",
   "metadata": {},
   "outputs": [
    {
     "name": "stdout",
     "output_type": "stream",
     "text": [
      "4 5\n",
      "4 + 5 = 9\n"
     ]
    }
   ],
   "source": [
    "a, b = map(int, input().strip().split(' '))\n",
    "\n",
    "print(f'{a} + {b} = {a+b}')"
   ]
  },
  {
   "cell_type": "markdown",
   "id": "30309306",
   "metadata": {},
   "source": [
    "가까운 1 찾기 : 정수 배열 arr가 주어집니다. 이때 arr의 원소는 1 또는 0입니다. 정수 idx가 주어졌을 때, idx보다 크면서 배열의 값이 1인 가장 작은 인덱스를 찾아서 반환하는 solution 함수를 완성해 주세요.\n",
    "\n",
    "단, 만약 그러한 인덱스가 없다면 -1을 반환합니다."
   ]
  },
  {
   "cell_type": "code",
   "execution_count": 185,
   "id": "ab638a9b",
   "metadata": {},
   "outputs": [
    {
     "data": {
      "text/plain": [
       "3"
      ]
     },
     "execution_count": 185,
     "metadata": {},
     "output_type": "execute_result"
    }
   ],
   "source": [
    "arr = [0, 0, 0, 1]\n",
    "idx = 1\n",
    "\n",
    "def solution(arr, idx):\n",
    "    answer = -1\n",
    "    for i, x in enumerate(arr):\n",
    "        if i >= idx and x != 0:\n",
    "            answer = i\n",
    "            break\n",
    "        else : pass\n",
    "    return answer\n",
    "\n",
    "solution(arr, idx)"
   ]
  },
  {
   "cell_type": "markdown",
   "id": "a2e68a21",
   "metadata": {},
   "source": [
    "인덱스 보다 작은 인덱스의 요소들과는 관계없이 그 이후의 값들만 가지고 비교를 하면 된다. 최초로 1이 나오는 인덱스를 찾아 반환시키고 만약 없다면 -1을 반환하면 된다."
   ]
  },
  {
   "cell_type": "markdown",
   "id": "060e574f",
   "metadata": {},
   "source": [
    "특별한 이차원 배열 2 : n × n 크기의 이차원 배열 arr이 매개변수로 주어질 때, arr이 다음을 만족하면 1을 아니라면 0을 return 하는 solution 함수를 작성해 주세요.\n",
    "\n",
    "0 ≤ i, j < n인 정수 i, j에 대하여 arr[i][j] = arr[j][i]"
   ]
  },
  {
   "cell_type": "code",
   "execution_count": 186,
   "id": "b36c361c",
   "metadata": {},
   "outputs": [
    {
     "data": {
      "text/plain": [
       "0"
      ]
     },
     "execution_count": 186,
     "metadata": {},
     "output_type": "execute_result"
    }
   ],
   "source": [
    "arr = [[5, 192, 33], [192, 72, 95], [33, 95, 999]]\n",
    "\n",
    "def solution(arr):\n",
    "    answer = 0\n",
    "    return answer\n",
    "\n",
    "solution(arr)"
   ]
  },
  {
   "cell_type": "markdown",
   "id": "41afd06a",
   "metadata": {},
   "source": [
    "모든 값들을 다 비교하는 것은 비 효율적인 것 같으니 같은 값이 있는지 확인하고, 있다면 그 인덱스를 비교하는 것이 효율적이여 보인다."
   ]
  },
  {
   "cell_type": "code",
   "execution_count": 193,
   "id": "039223b3",
   "metadata": {},
   "outputs": [
    {
     "data": {
      "text/plain": [
       "1"
      ]
     },
     "execution_count": 193,
     "metadata": {},
     "output_type": "execute_result"
    }
   ],
   "source": [
    "arr = [[19, 498, 258, 587], [63, 93, 7, 754], [258, 7, 1000, 723], [587, 754, 723, 81]]\n",
    "\n",
    "def solution(arr):\n",
    "    answer = 0\n",
    "    for i in range(len(arr)):\n",
    "        for j in range(i+1,len(arr)):\n",
    "            if arr[i][j] == arr[j][i]:\n",
    "                answer = 1\n",
    "                break\n",
    "            else: pass\n",
    "    return answer\n",
    "\n",
    "print(solution(arr))"
   ]
  },
  {
   "cell_type": "markdown",
   "id": "c5d9e5ec",
   "metadata": {},
   "source": [
    "문제를 완전히 반대로 이해했다... 대각성분들에 대해서 대칭인 모든 값들이 같을때만 1을 반환하고, 하나라도 다른 값이 존재하면 0을 반환하는 거였다.ㅎㅎ... 다시 코드를 짜보자"
   ]
  },
  {
   "cell_type": "code",
   "execution_count": 194,
   "id": "cf228c03",
   "metadata": {},
   "outputs": [
    {
     "name": "stdout",
     "output_type": "stream",
     "text": [
      "0\n"
     ]
    }
   ],
   "source": [
    "arr = [[19, 498, 258, 587], [63, 93, 7, 754], [258, 7, 1000, 723], [587, 754, 723, 81]]\n",
    "\n",
    "def solution(arr):\n",
    "    answer = 1\n",
    "    for i in range(len(arr)):\n",
    "        for j in range(i+1,len(arr)):\n",
    "            if arr[i][j] != arr[j][i]:\n",
    "                answer = 0\n",
    "    return answer\n",
    "\n",
    "print(solution(arr))"
   ]
  },
  {
   "cell_type": "markdown",
   "id": "491cc2a3",
   "metadata": {},
   "source": [
    "비교할때 중복되는 값들이 존재하기 때문에 i는 0-전체, j는 i+1-전체 의 범위를 설정하여 연산 횟수를 절반으로 줄였다."
   ]
  },
  {
   "cell_type": "markdown",
   "id": "02c104dc",
   "metadata": {},
   "source": [
    "세로 읽기 : 문자열 my_string과 두 정수 m, c가 주어집니다. my_string을 한 줄에 m 글자씩 가로로 적었을 때 왼쪽부터 세로로 c번째 열에 적힌 글자들을 문자열로 return 하는 solution 함수를 작성해 주세요."
   ]
  },
  {
   "cell_type": "code",
   "execution_count": 197,
   "id": "2bb1eec2",
   "metadata": {},
   "outputs": [
    {
     "data": {
      "text/plain": [
       "'happy'"
      ]
     },
     "execution_count": 197,
     "metadata": {},
     "output_type": "execute_result"
    }
   ],
   "source": [
    "my_string = \"ihrhbakrfpndopljhygc\"\n",
    "m = 4\n",
    "c = 2\n",
    "\n",
    "def solution(my_string,m,c):\n",
    "    return ''.join(x for i,x in enumerate(my_string[c-1:]) if i % m == 0)\n",
    "\n",
    "solution(my_string,m,c)"
   ]
  },
  {
   "cell_type": "markdown",
   "id": "72151a62",
   "metadata": {},
   "source": [
    "등차수열의 특정한 항만 더하기 : 두 정수 a, d와 길이가 n인 boolean 배열 included가 주어집니다. 첫째항이 a, 공차가 d인 등차수열에서 included[i]가 i + 1항을 의미할 때, 이 등차수열의 1항부터 n항까지 included가 true인 항들만 더한 값을 return 하는 solution 함수를 작성해 주세요."
   ]
  },
  {
   "cell_type": "code",
   "execution_count": 208,
   "id": "8b59cb6e",
   "metadata": {},
   "outputs": [
    {
     "data": {
      "text/plain": [
       "37"
      ]
     },
     "execution_count": 208,
     "metadata": {},
     "output_type": "execute_result"
    }
   ],
   "source": [
    "a = 3\n",
    "d = 4\n",
    "included = [True, False, False, True, True]\n",
    "\n",
    "def solution(a,d,included):\n",
    "    ar_seq = list(range(a,(a+d*len(included)), d))\n",
    "    answer = [ar_seq[i] for i,x in enumerate(included) if x]\n",
    "    return sum(answer)\n",
    "\n",
    "solution(a,d,included)"
   ]
  },
  {
   "cell_type": "code",
   "execution_count": 201,
   "id": "65494fe7",
   "metadata": {},
   "outputs": [
    {
     "data": {
      "text/plain": [
       "[1, 3]"
      ]
     },
     "execution_count": 201,
     "metadata": {},
     "output_type": "execute_result"
    }
   ],
   "source": [
    "list(range(1,5,2))"
   ]
  },
  {
   "cell_type": "code",
   "execution_count": 204,
   "id": "82ae8403",
   "metadata": {},
   "outputs": [
    {
     "data": {
      "text/plain": [
       "[3, 7, 11, 15, 19]"
      ]
     },
     "execution_count": 204,
     "metadata": {},
     "output_type": "execute_result"
    }
   ],
   "source": [
    "list(range(a,(a+d*len(included)), d))"
   ]
  },
  {
   "cell_type": "code",
   "execution_count": 207,
   "id": "ada28924",
   "metadata": {},
   "outputs": [
    {
     "data": {
      "text/plain": [
       "37"
      ]
     },
     "execution_count": 207,
     "metadata": {},
     "output_type": "execute_result"
    }
   ],
   "source": [
    "sum([list(range(a,(a+d*len(included)), d))[i] for i,x in enumerate(included) if x])"
   ]
  },
  {
   "cell_type": "markdown",
   "id": "999a0e1a",
   "metadata": {},
   "source": [
    "코드의 가독성 역시 중요하기 때문에 눈에 보기 좋게 코드를 짜는 연습도 해야 할 것 같다."
   ]
  },
  {
   "cell_type": "markdown",
   "id": "73ee8c4e",
   "metadata": {},
   "source": [
    "이차원 배열 대각선 순회하기 : 2차원 정수 배열 board와 정수 k가 주어집니다.\n",
    "\n",
    "i + j <= k를 만족하는 모든 (i, j)에 대한 board[i][j]의 합을 return 하는 solution 함수를 완성해 주세요."
   ]
  },
  {
   "cell_type": "code",
   "execution_count": 221,
   "id": "725aafd6",
   "metadata": {},
   "outputs": [
    {
     "data": {
      "text/plain": [
       "30"
      ]
     },
     "execution_count": 221,
     "metadata": {},
     "output_type": "execute_result"
    }
   ],
   "source": [
    "board = [[0, 1, 2],[1, 2, 3],[2, 3, 4],[3, 4, 5]]\n",
    "k = 5\n",
    "\n",
    "def solution(board,k):\n",
    "    answer = 0\n",
    "    for i in range(len(board)):\n",
    "        for j in range(len(board[0])):\n",
    "            if i + j <= k:\n",
    "                answer += board[i][j]\n",
    "    return answer\n",
    "\n",
    "solution(board,k)"
   ]
  },
  {
   "cell_type": "markdown",
   "id": "910f7221",
   "metadata": {},
   "source": [
    "i와 j의 길이가 다를 수 있다는 점을 간과했다. 배점이 큰 문제였지만 기본기로 풀 수 있었다."
   ]
  },
  {
   "cell_type": "markdown",
   "id": "e992581c",
   "metadata": {},
   "source": [
    "문자열 잘라서 정렬하기 : 문자열 myString이 주어집니다. \"x\"를 기준으로 해당 문자열을 잘라내 배열을 만든 후 사전순으로 정렬한 배열을 return 하는 solution 함수를 완성해 주세요.\n",
    "\n",
    "단, 빈 문자열은 반환할 배열에 넣지 않습니다."
   ]
  },
  {
   "cell_type": "code",
   "execution_count": 229,
   "id": "a4fd6fe9",
   "metadata": {},
   "outputs": [
    {
     "data": {
      "text/plain": [
       "['a', 'b', 'c', 'd']"
      ]
     },
     "execution_count": 229,
     "metadata": {},
     "output_type": "execute_result"
    }
   ],
   "source": [
    "myString = \"axbxcxdx\"\n",
    "\n",
    "def solution(myString):\n",
    "    answer = [x for x in sorted(myString.split('x')) if x != '']\n",
    "    return answer\n",
    "\n",
    "solution(myString)"
   ]
  },
  {
   "cell_type": "markdown",
   "id": "b43dfb1f",
   "metadata": {},
   "source": [
    "문자열 섞기 : 길이가 같은 두 문자열 str1과 str2가 주어집니다.\n",
    "\n",
    "두 문자열의 각 문자가 앞에서부터 서로 번갈아가면서 한 번씩 등장하는 문자열을 만들어 return 하는 solution 함수를 완성해 주세요."
   ]
  },
  {
   "cell_type": "code",
   "execution_count": 230,
   "id": "68c86f32",
   "metadata": {},
   "outputs": [
    {
     "data": {
      "text/plain": [
       "'ababababab'"
      ]
     },
     "execution_count": 230,
     "metadata": {},
     "output_type": "execute_result"
    }
   ],
   "source": [
    "str1 = \"aaaaa\"\n",
    "str2 = \"bbbbb\"\n",
    "\n",
    "def solution(str1, str2):\n",
    "    answer = ''\n",
    "    for i in range(len(str1)):\n",
    "        answer += str1[i]\n",
    "        answer += str2[i]\n",
    "    return answer\n",
    "\n",
    "solution(str1, str2)"
   ]
  },
  {
   "cell_type": "markdown",
   "id": "f16c9280",
   "metadata": {},
   "source": [
    "문자열 출력하기 : 문자열 str이 주어질 때, str을 출력하는 코드를 작성해 보세요."
   ]
  },
  {
   "cell_type": "code",
   "execution_count": 232,
   "id": "de24546f",
   "metadata": {},
   "outputs": [
    {
     "name": "stdout",
     "output_type": "stream",
     "text": [
      "HelloWorld!\n",
      "HelloWorld!\n"
     ]
    }
   ],
   "source": [
    "str = input()\n",
    "\n",
    "print(str)"
   ]
  },
  {
   "cell_type": "markdown",
   "id": "3bf94a42",
   "metadata": {},
   "source": [
    "a와 b 출력하기 : 정수 a와 b가 주어집니다. 각 수를 입력받아 입출력 예와 같은 형식으로 출력하는 코드를 작성해 보세요."
   ]
  },
  {
   "cell_type": "code",
   "execution_count": 233,
   "id": "fbee86d1",
   "metadata": {},
   "outputs": [
    {
     "name": "stdout",
     "output_type": "stream",
     "text": [
      "4 5\n",
      "a = 4\n",
      "b = 5\n"
     ]
    }
   ],
   "source": [
    "a, b = map(int, input().strip().split(' '))\n",
    "print(f'a = {a}\\nb = {b}')"
   ]
  },
  {
   "cell_type": "markdown",
   "id": "1a37e63c",
   "metadata": {},
   "source": [
    "문자열 반복해서 출력하기 : 문자열 str과 정수 n이 주어집니다.\n",
    "str이 n번 반복된 문자열을 만들어 출력하는 코드를 작성해 보세요."
   ]
  },
  {
   "cell_type": "code",
   "execution_count": 234,
   "id": "4478c30f",
   "metadata": {},
   "outputs": [
    {
     "name": "stdout",
     "output_type": "stream",
     "text": [
      "string 5\n",
      "stringstringstringstringstring\n"
     ]
    }
   ],
   "source": [
    "str, n = input().strip().split(' ')\n",
    "n = int(n)\n",
    "\n",
    "print(str * n)"
   ]
  },
  {
   "cell_type": "markdown",
   "id": "d876dfe9",
   "metadata": {},
   "source": [
    "대소문자 바꿔서 출력하기 : 영어 알파벳으로 이루어진 문자열 str이 주어집니다. 각 알파벳을 대문자는 소문자로 소문자는 대문자로 변환해서 출력하는 코드를 작성해 보세요."
   ]
  },
  {
   "cell_type": "code",
   "execution_count": 235,
   "id": "ac5e567e",
   "metadata": {},
   "outputs": [
    {
     "name": "stdout",
     "output_type": "stream",
     "text": [
      "aBcDeFg\n",
      "AbCdEfG\n"
     ]
    }
   ],
   "source": [
    "str = input()\n",
    "\n",
    "print(str.swapcase())"
   ]
  },
  {
   "cell_type": "markdown",
   "id": "5b8f0e9c",
   "metadata": {},
   "source": [
    ".upper() .lower()과 마찬가지로 .swapcase()는 대문자와 소문자를 바꿔준다. .capitalize()는 첫 글자만 대문자로 변환한다."
   ]
  },
  {
   "cell_type": "markdown",
   "id": "7db20df8",
   "metadata": {},
   "source": [
    "특수문자 출력하기 : 다음과 같이 출력하도록 코드를 작성해 주세요."
   ]
  },
  {
   "cell_type": "code",
   "execution_count": 238,
   "id": "e7a6f309",
   "metadata": {},
   "outputs": [
    {
     "name": "stdout",
     "output_type": "stream",
     "text": [
      "!@#$%^&*(\\'\"<>?:;\n"
     ]
    }
   ],
   "source": [
    "print(r'!@#$%^&*(\\'\"<>?:;')"
   ]
  },
  {
   "cell_type": "markdown",
   "id": "ad262f8d",
   "metadata": {},
   "source": [
    "',\",\\와 같은 특수문자 출력시에는 앞에 \\를 하나 붙이거나 r''내에 특수문자를 쓰면 된다."
   ]
  },
  {
   "cell_type": "markdown",
   "id": "7cfc93d3",
   "metadata": {},
   "source": [
    "문자열 겹쳐쓰기 : 문자열 my_string, overwrite_string과 정수 s가 주어집니다. 문자열 my_string의 인덱스 s부터 overwrite_string의 길이만큼을 문자열 overwrite_string으로 바꾼 문자열을 return 하는 solution 함수를 작성해 주세요."
   ]
  },
  {
   "cell_type": "code",
   "execution_count": 241,
   "id": "b7e971f8",
   "metadata": {},
   "outputs": [
    {
     "data": {
      "text/plain": [
       "'HelloWorld'"
      ]
     },
     "execution_count": 241,
     "metadata": {},
     "output_type": "execute_result"
    }
   ],
   "source": [
    "my_string = \"He11oWor1d\"\n",
    "overwrite_string = \"lloWorl\"\n",
    "s = 2\n",
    "\n",
    "def solution(my_string, overwrite_string, s):\n",
    "    answer = my_string[:s] + overwrite_string + my_string[s+len(overwrite_string):]\n",
    "    return answer\n",
    "\n",
    "solution(my_string, overwrite_string, s)"
   ]
  },
  {
   "cell_type": "markdown",
   "id": "a6cf7037",
   "metadata": {},
   "source": [
    "날짜 비교하기 : 정수 배열 date1과 date2가 주어집니다. 두 배열은 각각 날짜를 나타내며 [year, month, day] 꼴로 주어집니다. 각 배열에서 year는 연도를, month는 월을, day는 날짜를 나타냅니다.\n",
    "\n",
    "만약 date1이 date2보다 앞서는 날짜라면 1을, 아니면 0을 return 하는 solution 함수를 완성해 주세요."
   ]
  },
  {
   "cell_type": "code",
   "execution_count": 243,
   "id": "04e83daf",
   "metadata": {},
   "outputs": [
    {
     "data": {
      "text/plain": [
       "1"
      ]
     },
     "execution_count": 243,
     "metadata": {},
     "output_type": "execute_result"
    }
   ],
   "source": [
    "date1 = [2021, 12, 28]\n",
    "date2 = [2021, 12, 29]\n",
    "\n",
    "def solution(date1, date2):\n",
    "    return 1 if date1 < date2 else 0\n",
    "\n",
    "solution(date1, date2)"
   ]
  },
  {
   "cell_type": "markdown",
   "id": "3f92f87b",
   "metadata": {},
   "source": [
    "빈 배열에 추가, 삭제하기 : 아무 원소도 들어있지 않은 빈 배열 X가 있습니다. 길이가 같은 정수 배열 arr과 boolean 배열 flag가 매개변수로 주어질 때, flag를 차례대로 순회하며 flag[i]가 true라면 X의 뒤에 arr[i]를 arr[i] × 2 번 추가하고, flag[i]가 false라면 X에서 마지막 arr[i]개의 원소를 제거한 뒤 X를 return 하는 solution 함수를 작성해 주세요."
   ]
  },
  {
   "cell_type": "code",
   "execution_count": 249,
   "id": "22ebe3db",
   "metadata": {},
   "outputs": [
    {
     "data": {
      "text/plain": [
       "[3, 3, 3, 3, 4, 4, 4, 4]"
      ]
     },
     "execution_count": 249,
     "metadata": {},
     "output_type": "execute_result"
    }
   ],
   "source": [
    "arr = [3, 2, 4, 1, 3]\n",
    "flag = [True, False, True, False, False]\n",
    "\n",
    "def solution(arr, flag):\n",
    "    answer = []\n",
    "    for i, x in enumerate(flag):\n",
    "        if x == True:\n",
    "            answer.extend([arr[i]] * (arr[i] * 2))\n",
    "        else:\n",
    "            answer = answer[:-arr[i]]\n",
    "            \n",
    "    return answer\n",
    "\n",
    "solution(arr, flag)"
   ]
  },
  {
   "cell_type": "markdown",
   "id": "b6304a34",
   "metadata": {},
   "source": [
    "각 요소들에 대해서 순차적으로 진행하도록 코드를 짜야 한다."
   ]
  },
  {
   "cell_type": "markdown",
   "id": "c2ec3eef",
   "metadata": {},
   "source": [
    "list append를 통해서는 한번에 하나의 값만 추가할 수 있고, pop도 마찬가지로 한번에 하나의 값만 제외할 수 있어 추가는 extend 제거는 리스트 슬라이싱을 사용하였다."
   ]
  },
  {
   "cell_type": "markdown",
   "id": "6e75df7a",
   "metadata": {},
   "source": [
    "글자 지우기 : 문자열 my_string과 정수 배열 indices가 주어질 때, my_string에서 indices의 원소에 해당하는 인덱스의 글자를 지우고 이어 붙인 문자열을 return 하는 solution 함수를 작성해 주세요."
   ]
  },
  {
   "cell_type": "code",
   "execution_count": 255,
   "id": "e3e8fe2f",
   "metadata": {},
   "outputs": [
    {
     "data": {
      "text/plain": [
       "'programmers'"
      ]
     },
     "execution_count": 255,
     "metadata": {},
     "output_type": "execute_result"
    }
   ],
   "source": [
    "my_string =\"apporoograpemmemprs\"\n",
    "indices = [1, 16, 6, 15, 0, 10, 11, 3]\n",
    "\n",
    "def solution(my_string, indices):\n",
    "    answer = ''.join([my_string[x] for x in sorted(list(set(list(range(len(my_string)))) - set(indices)))])\n",
    "    return answer\n",
    "\n",
    "solution(my_string, indices)"
   ]
  },
  {
   "cell_type": "code",
   "execution_count": 253,
   "id": "ed5902b5",
   "metadata": {},
   "outputs": [
    {
     "data": {
      "text/plain": [
       "[2, 4, 5, 7, 8, 9, 12, 13, 14, 17, 18]"
      ]
     },
     "execution_count": 253,
     "metadata": {},
     "output_type": "execute_result"
    }
   ],
   "source": [
    "list(set(list(range(len(my_string)))) - set(indices))"
   ]
  },
  {
   "cell_type": "markdown",
   "id": "4608afde",
   "metadata": {},
   "source": [
    "set을 통해 리스트 요소들 중 겹치지 않는 부분을 제외했지만 정렬되었다는 보장이 없기 때문에 sorted를 해주는 것이 중요한 문제였다."
   ]
  },
  {
   "cell_type": "markdown",
   "id": "3e5e5013",
   "metadata": {},
   "source": [
    "문자열 뒤집기 : 문자열 my_string과 정수 s, e가 매개변수로 주어질 때, my_string에서 인덱스 s부터 인덱스 e까지를 뒤집은 문자열을 return 하는 solution 함수를 작성해 주세요."
   ]
  },
  {
   "cell_type": "code",
   "execution_count": 258,
   "id": "9a8a4629",
   "metadata": {},
   "outputs": [
    {
     "data": {
      "text/plain": [
       "'ProgrammerS123'"
      ]
     },
     "execution_count": 258,
     "metadata": {},
     "output_type": "execute_result"
    }
   ],
   "source": [
    "my_string = \"Progra21Sremm3\"\n",
    "s = 6\n",
    "e = 12\n",
    "\n",
    "def solution(my_string, s, e):\n",
    "    answer = my_string[0:s] + ''.join(reversed(my_string[s:e+1])) + my_string[e+1:]\n",
    "    return answer\n",
    "\n",
    "solution(my_string, s, e)"
   ]
  },
  {
   "cell_type": "markdown",
   "id": "23beeb65",
   "metadata": {},
   "source": [
    "reversed의 경우는 ''.join()을 해줘야 한다."
   ]
  },
  {
   "cell_type": "markdown",
   "id": "eed8dbc3",
   "metadata": {},
   "source": [
    "배열 만들기 5 : 문자열 배열 intStrs와 정수 k, s, l가 주어집니다. intStrs의 원소는 숫자로 이루어져 있습니다.\n",
    "\n",
    "배열 intStrs의 각 원소마다 s번 인덱스에서 시작하는 길이 l짜리 부분 문자열을 잘라내 정수로 변환합니다. 이때 변환한 정수값이 k보다 큰 값들을 담은 배열을 return 하는 solution 함수를 완성해 주세요."
   ]
  },
  {
   "cell_type": "code",
   "execution_count": 259,
   "id": "0c12950c",
   "metadata": {},
   "outputs": [
    {
     "data": {
      "text/plain": [
       "[56789, 99999]"
      ]
     },
     "execution_count": 259,
     "metadata": {},
     "output_type": "execute_result"
    }
   ],
   "source": [
    "intStrs = [\"0123456789\",\"9876543210\",\"9999999999999\"]\n",
    "k = 50000\n",
    "s = 5\n",
    "l = 5\n",
    "\n",
    "def solution(intStrs, k, s, l):\n",
    "    answer = [int(x[s:s+l]) for x in intStrs if int(x[s:s+l]) > k]\n",
    "    return answer\n",
    "\n",
    "solution(intStrs, k, s, l)"
   ]
  },
  {
   "cell_type": "markdown",
   "id": "78cceb0c",
   "metadata": {},
   "source": [
    "특정 문자열로 끝나는 가장 긴 부분 문자열 찾기 : 문자열 myString과 pat가 주어집니다. myString의 부분 문자열중 pat로 끝나는 가장 긴 부분 문자열을 찾아서 return 하는 solution 함수를 완성해 주세요."
   ]
  },
  {
   "cell_type": "code",
   "execution_count": 263,
   "id": "ac0f99a7",
   "metadata": {},
   "outputs": [
    {
     "data": {
      "text/plain": [
       "'AbCdE'"
      ]
     },
     "execution_count": 263,
     "metadata": {},
     "output_type": "execute_result"
    }
   ],
   "source": [
    "myString = \"AbCdEFG\"\n",
    "pat = \"dE\"\n",
    "\n",
    "def solution(myString, pat):\n",
    "    answer = ''\n",
    "    for i, x in enumerate(list(''.join(reversed(myString)))):\n",
    "        if ''.join(reversed(pat)) == ''.join(list(''.join(reversed(myString)))[i:i+len(pat)]):\n",
    "            answer = ''.join(reversed(list(''.join(reversed(myString)))[i:]))\n",
    "            break\n",
    "    return answer\n",
    "\n",
    "solution(myString, pat)"
   ]
  },
  {
   "cell_type": "markdown",
   "id": "d6b5fc65",
   "metadata": {},
   "source": [
    "가장 뒤에있는 pat과 일치하는 문자열을 찾아서 그 문자열까지 반환해야 한다."
   ]
  },
  {
   "cell_type": "code",
   "execution_count": 262,
   "id": "39d1e55e",
   "metadata": {},
   "outputs": [
    {
     "data": {
      "text/plain": [
       "['G', 'F', 'E', 'd', 'C', 'b', 'A']"
      ]
     },
     "execution_count": 262,
     "metadata": {},
     "output_type": "execute_result"
    }
   ],
   "source": [
    "list(''.join(reversed(myString)))"
   ]
  },
  {
   "cell_type": "markdown",
   "id": "d16c49b3",
   "metadata": {},
   "source": [
    "마지막으로 같은 값을 찾는 것이 너무 어려울 것 같아서 reversed를 통해 뒤집어 첫번째로 같은 값을 찾아 다시 뒤집는 방법을 택했다."
   ]
  },
  {
   "cell_type": "markdown",
   "id": "b00a4855",
   "metadata": {},
   "source": [
    "find()를 통해 왼쪽부터 몇번째 인덱스에 존재하는지 확인할 수 있고, rfind를 통해서는 오른쪽으로부터 몇번째 인덱스에 존재하는지 확인할 수 있다."
   ]
  },
  {
   "cell_type": "code",
   "execution_count": 266,
   "id": "ccf2d5fb",
   "metadata": {},
   "outputs": [
    {
     "data": {
      "text/plain": [
       "'AbCdE'"
      ]
     },
     "execution_count": 266,
     "metadata": {},
     "output_type": "execute_result"
    }
   ],
   "source": [
    "myString = \"AbCdEFG\"\n",
    "pat = \"dE\"\n",
    "\n",
    "def solution(myString, pat):\n",
    "    idx = myString.rfind(pat)\n",
    "    return myString[:idx+len(pat)]\n",
    "\n",
    "solution(myString, pat)"
   ]
  },
  {
   "cell_type": "markdown",
   "id": "3472fdf6",
   "metadata": {},
   "source": [
    "수열과 구간 쿼리 1 : 정수 배열 arr와 2차원 정수 배열 queries이 주어집니다. queries의 원소는 각각 하나의 query를 나타내며, [s, e] 꼴입니다.\n",
    "\n",
    "각 query마다 순서대로 s ≤ i ≤ e인 모든 i에 대해 arr[i]에 1을 더합니다.\n",
    "\n",
    "위 규칙에 따라 queries를 처리한 이후의 arr를 return 하는 solution 함수를 완성해 주세요."
   ]
  },
  {
   "cell_type": "code",
   "execution_count": 271,
   "id": "0f4636fc",
   "metadata": {},
   "outputs": [
    {
     "data": {
      "text/plain": [
       "[1, 3, 4, 4, 4]"
      ]
     },
     "execution_count": 271,
     "metadata": {},
     "output_type": "execute_result"
    }
   ],
   "source": [
    "arr = [0, 1, 2, 3, 4]\n",
    "queries = [[0, 1],[1, 2],[2, 3]]\n",
    "\n",
    "def solution(arr, queries):\n",
    "    for x in queries:\n",
    "        for num in list(range(x[0],x[1]+1)):\n",
    "            arr[num] += 1\n",
    "            \n",
    "    return arr\n",
    "solution(arr, queries)"
   ]
  },
  {
   "cell_type": "markdown",
   "id": "0ef4f4dc",
   "metadata": {},
   "source": [
    "배열의 길이를 2의 거듭제곱으로 만들기 : 정수 배열 arr이 매개변수로 주어집니다. arr의 길이가 2의 정수 거듭제곱이 되도록 arr 뒤에 정수 0을 추가하려고 합니다. arr에 최소한의 개수로 0을 추가한 배열을 return 하는 solution 함수를 작성해 주세요."
   ]
  },
  {
   "cell_type": "code",
   "execution_count": 276,
   "id": "b3db5ed0",
   "metadata": {},
   "outputs": [
    {
     "data": {
      "text/plain": [
       "[58, 172, 746, 89]"
      ]
     },
     "execution_count": 276,
     "metadata": {},
     "output_type": "execute_result"
    }
   ],
   "source": [
    "arr = [58, 172, 746, 89]\n",
    "\n",
    "def solution(arr):\n",
    "    answer = []\n",
    "    i = 0\n",
    "    while i < 11:\n",
    "        if pow(2,i) <  len(arr) <= pow(2,i+1):\n",
    "            arr.extend([0] * (pow(2,i+1) - len(arr)))\n",
    "            break\n",
    "        else : i += 1\n",
    "    return arr\n",
    "\n",
    "solution(arr)"
   ]
  },
  {
   "cell_type": "markdown",
   "id": "9b3cf539",
   "metadata": {},
   "source": [
    "범위 내의 2의 거듭제곱은 1부터 2의 10승까지 존재한다. i = 0부터 10까지 반복되는 루프를 짜서 설계하면 될 것 같다."
   ]
  },
  {
   "cell_type": "markdown",
   "id": "ffefb531",
   "metadata": {},
   "source": [
    "1로 만들기 : 정수가 있을 때, 짝수라면 반으로 나누고, 홀수라면 1을 뺀 뒤 반으로 나누면, 마지막엔 1이 됩니다. 예를 들어 10이 있다면 다음과 같은 과정으로 1이 됩니다.\n",
    "\n",
    "10 / 2 = 5\n",
    "(5 - 1) / 2 = 2\n",
    "2 / 2 = 1\n",
    "위와 같이 3번의 나누기 연산으로 1이 되었습니다.\n",
    "\n",
    "정수들이 담긴 리스트 num_list가 주어질 때, num_list의 모든 원소를 1로 만들기 위해서 필요한 나누기 연산의 횟수를 return하도록 solution 함수를 완성해주세요."
   ]
  },
  {
   "cell_type": "code",
   "execution_count": 278,
   "id": "37e13b6d",
   "metadata": {},
   "outputs": [
    {
     "data": {
      "text/plain": [
       "0"
      ]
     },
     "execution_count": 278,
     "metadata": {},
     "output_type": "execute_result"
    }
   ],
   "source": [
    "num_list = [12, 4, 15, 1, 14]\n",
    "\n",
    "def solution(num_list):\n",
    "    answer = 0\n",
    "    return answer\n",
    "\n",
    "solution(num_list)"
   ]
  },
  {
   "cell_type": "code",
   "execution_count": 283,
   "id": "c3d9fec8",
   "metadata": {},
   "outputs": [],
   "source": [
    "def count(num):\n",
    "    count = 0\n",
    "    while num != 1:\n",
    "        if num % 2 == 0:\n",
    "            num = num /2\n",
    "            count += 1\n",
    "        else :\n",
    "            num = (num-1)/2\n",
    "            count += 1\n",
    "        \n",
    "    return count"
   ]
  },
  {
   "cell_type": "code",
   "execution_count": 284,
   "id": "25d90e2e",
   "metadata": {},
   "outputs": [
    {
     "data": {
      "text/plain": [
       "2"
      ]
     },
     "execution_count": 284,
     "metadata": {},
     "output_type": "execute_result"
    }
   ],
   "source": [
    "count(5)"
   ]
  },
  {
   "cell_type": "code",
   "execution_count": 285,
   "id": "6d5324e0",
   "metadata": {},
   "outputs": [
    {
     "data": {
      "text/plain": [
       "11"
      ]
     },
     "execution_count": 285,
     "metadata": {},
     "output_type": "execute_result"
    }
   ],
   "source": [
    "num_list = [12, 4, 15, 1, 14]\n",
    "\n",
    "def solution(num_list):\n",
    "    answer = [count(x) for x in num_list]\n",
    "    return sum(answer)\n",
    "\n",
    "solution(num_list)"
   ]
  },
  {
   "cell_type": "code",
   "execution_count": 286,
   "id": "5220dc05",
   "metadata": {},
   "outputs": [
    {
     "data": {
      "text/plain": [
       "3"
      ]
     },
     "execution_count": 286,
     "metadata": {},
     "output_type": "execute_result"
    }
   ],
   "source": [
    "count(12)"
   ]
  },
  {
   "cell_type": "markdown",
   "id": "8364be0b",
   "metadata": {},
   "source": [
    "간단한 논리 연산 : boolean 변수 x1, x2, x3, x4가 매개변수로 주어질 때, 다음의 식의 true/false를 return 하는 solution 함수를 작성해 주세요.\n",
    "\n",
    "(x1 ∨ x2) ∧ (x3 ∨ x4)"
   ]
  },
  {
   "cell_type": "code",
   "execution_count": 1,
   "id": "7a527fa9",
   "metadata": {},
   "outputs": [
    {
     "data": {
      "text/plain": [
       "True"
      ]
     },
     "execution_count": 1,
     "metadata": {},
     "output_type": "execute_result"
    }
   ],
   "source": [
    "x1 = True\n",
    "x2 = True\n",
    "x3 = True\n",
    "x4 = True\n",
    "\n",
    "def solution(x1, x2, x3, x4):\n",
    "    answer = True\n",
    "    return (x1 or x2) and (x3 or x4)\n",
    "\n",
    "solution(x1, x2, x3, x4)"
   ]
  },
  {
   "cell_type": "markdown",
   "id": "7c09b9c1",
   "metadata": {},
   "source": [
    "문자열이 몇 번 등장하는지 세기 : 문자열 myString과 pat이 주어집니다. myString에서 pat이 등장하는 횟수를 return 하는 solution 함수를 완성해 주세요."
   ]
  },
  {
   "cell_type": "code",
   "execution_count": 12,
   "id": "dc824d5d",
   "metadata": {},
   "outputs": [
    {
     "data": {
      "text/plain": [
       "4"
      ]
     },
     "execution_count": 12,
     "metadata": {},
     "output_type": "execute_result"
    }
   ],
   "source": [
    "myString = \"banana\"\n",
    "pat = \"ana\"\n",
    "\n",
    "def solution(myString, pat):\n",
    "    count = 0\n",
    "    for i, x in enumerate(myString[:-len(pat)+1]):\n",
    "        if myString[i:].find(pat) != -1:\n",
    "            count += 1\n",
    "    return count\n",
    "\n",
    "solution(myString, pat)"
   ]
  },
  {
   "cell_type": "markdown",
   "id": "f7dd984e",
   "metadata": {},
   "source": [
    "이렇게 하면 다음 pat이 나올때까지 계속 카운트가 늘어서 다시 코드를 짜야 할 것 같다."
   ]
  },
  {
   "cell_type": "code",
   "execution_count": 13,
   "id": "b549c518",
   "metadata": {},
   "outputs": [
    {
     "data": {
      "text/plain": [
       "2"
      ]
     },
     "execution_count": 13,
     "metadata": {},
     "output_type": "execute_result"
    }
   ],
   "source": [
    "myString = \"banana\"\n",
    "pat = \"ana\"\n",
    "\n",
    "\n",
    "def solution(myString, pat):\n",
    "    count = 0\n",
    "    for i, x in enumerate(myString[:-len(pat)+1]):\n",
    "        if myString[i:i+len(pat)] == pat:\n",
    "            count += 1\n",
    "    return count\n",
    "\n",
    "solution(myString, pat)"
   ]
  },
  {
   "cell_type": "markdown",
   "id": "f29958f8",
   "metadata": {},
   "source": [
    "수열과 구간 쿼리 3 : 정수 배열 arr와 2차원 정수 배열 queries이 주어집니다. queries의 원소는 각각 하나의 query를 나타내며, [i, j] 꼴입니다.\n",
    "\n",
    "각 query마다 순서대로 arr[i]의 값과 arr[j]의 값을 서로 바꿉니다.\n",
    "\n",
    "위 규칙에 따라 queries를 처리한 이후의 arr를 return 하는 solution 함수를 완성해 주세요."
   ]
  },
  {
   "cell_type": "code",
   "execution_count": 15,
   "id": "a4198a6c",
   "metadata": {},
   "outputs": [
    {
     "data": {
      "text/plain": [
       "[3, 4, 1, 0, 2]"
      ]
     },
     "execution_count": 15,
     "metadata": {},
     "output_type": "execute_result"
    }
   ],
   "source": [
    "arr = [0, 1, 2, 3, 4]\n",
    "queries = [[0, 3],[1, 2],[1, 4]]\n",
    "\n",
    "def solution(arr, queries):\n",
    "    for query in queries:\n",
    "        arr[query[0]], arr[query[1]] = arr[query[1]], arr[query[0]]\n",
    "    return arr\n",
    "\n",
    "solution(arr, queries)"
   ]
  },
  {
   "cell_type": "markdown",
   "id": "5169a822",
   "metadata": {},
   "source": [
    "문자열 묶기 : 문자열 배열 strArr이 주어집니다. strArr의 원소들을 길이가 같은 문자열들끼리 그룹으로 묶었을 때 가장 개수가 많은 그룹의 크기를 return 하는 solution 함수를 완성해 주세요."
   ]
  },
  {
   "cell_type": "code",
   "execution_count": 21,
   "id": "5c171058",
   "metadata": {},
   "outputs": [
    {
     "data": {
      "text/plain": [
       "2"
      ]
     },
     "execution_count": 21,
     "metadata": {},
     "output_type": "execute_result"
    }
   ],
   "source": [
    "strArr = [\"a\",\"bc\",\"d\",\"efg\",\"hi\"]\n",
    "\n",
    "def solution(strArr):\n",
    "    answer = [len(x) for x in strArr]\n",
    "    count = [answer.count(i) for i in range(1,31)]\n",
    "    return max(count)\n",
    "\n",
    "solution(strArr)"
   ]
  },
  {
   "cell_type": "markdown",
   "id": "828637e2",
   "metadata": {},
   "source": [
    "각 요소들의 길이가 30까지 이므로 1부터 30까지를 전체 카운트 하는 리스트를 생성해서 max값을 반환하도록 하였다. 너무 비효율적인 코드라 다시 고려해봐야 할 것 같다."
   ]
  },
  {
   "cell_type": "markdown",
   "id": "a25f7565",
   "metadata": {},
   "source": [
    "2의 영역 : 정수 배열 arr가 주어집니다. 배열 안의 2가 모두 포함된 가장 작은 연속된 부분 배열을 return 하는 solution 함수를 완성해 주세요.\n",
    "\n",
    "단, arr에 2가 없는 경우 [-1]을 return 합니다."
   ]
  },
  {
   "cell_type": "code",
   "execution_count": 34,
   "id": "857772b3",
   "metadata": {},
   "outputs": [
    {
     "data": {
      "text/plain": [
       "[-1]"
      ]
     },
     "execution_count": 34,
     "metadata": {},
     "output_type": "execute_result"
    }
   ],
   "source": [
    "arr = [1, 1, 1]\n",
    "\n",
    "def solution(arr):\n",
    "    if 2 not in arr : return [-1]\n",
    "    else :\n",
    "        l_idx = arr.index(2)\n",
    "        r_idx = len(arr) - list(reversed(arr)).index(2)\n",
    "        return arr[l_idx:r_idx]\n",
    "\n",
    "solution(arr)"
   ]
  },
  {
   "cell_type": "code",
   "execution_count": 27,
   "id": "a07c4675",
   "metadata": {},
   "outputs": [
    {
     "data": {
      "text/plain": [
       "1"
      ]
     },
     "execution_count": 27,
     "metadata": {},
     "output_type": "execute_result"
    }
   ],
   "source": [
    "list(reversed(arr)).index(2)"
   ]
  },
  {
   "cell_type": "markdown",
   "id": "7cf0a0a3",
   "metadata": {},
   "source": [
    "arr[::-1].index(2) 를 통해 뒤에서부터 index를 찾을 수도 있는 것 같다."
   ]
  },
  {
   "cell_type": "markdown",
   "id": "bb1c2d51",
   "metadata": {},
   "source": [
    "리스트 자르기 : 정수 n과 정수 3개가 담긴 리스트 slicer 그리고 정수 여러 개가 담긴 리스트 num_list가 주어집니다. slicer에 담긴 정수를 차례대로 a, b, c라고 할 때, n에 따라 다음과 같이 num_list를 슬라이싱 하려고 합니다.\n",
    "\n",
    "n = 1 : num_list의 0번 인덱스부터 b번 인덱스까지\n",
    "n = 2 : num_list의 a번 인덱스부터 마지막 인덱스까지\n",
    "n = 3 : num_list의 a번 인덱스부터 b번 인덱스까지\n",
    "n = 4 : num_list의 a번 인덱스부터 b번 인덱스까지 c 간격으로\n",
    "올바르게 슬라이싱한 리스트를 return하도록 solution 함수를 완성해주세요."
   ]
  },
  {
   "cell_type": "code",
   "execution_count": 38,
   "id": "379667d0",
   "metadata": {},
   "outputs": [
    {
     "data": {
      "text/plain": [
       "[2, 4, 6]"
      ]
     },
     "execution_count": 38,
     "metadata": {},
     "output_type": "execute_result"
    }
   ],
   "source": [
    "n = 4\n",
    "slicer = [1, 5, 2]\n",
    "num_list = [1, 2, 3, 4, 5, 6, 7, 8, 9]\n",
    "\n",
    "def solution(n, slicer, num_list):\n",
    "    a,b,c = slicer[0], slicer[1], slicer[2]\n",
    "    if n == 1:\n",
    "        answer = num_list[:b+1]\n",
    "    elif n == 2:\n",
    "        answer = num_list[a:]\n",
    "    elif n == 3:\n",
    "        answer = num_list[a:b+1]\n",
    "    else:\n",
    "        answer = [x for i,x in enumerate(num_list[a:b+1]) if i % c == 0]\n",
    "    return answer\n",
    "\n",
    "solution(n, slicer, num_list)"
   ]
  },
  {
   "cell_type": "markdown",
   "id": "a4079a72",
   "metadata": {},
   "source": [
    "수열과 구간 쿼리 4 : 정수 배열 arr와 2차원 정수 배열 queries이 주어집니다. queries의 원소는 각각 하나의 query를 나타내며, [s, e, k] 꼴입니다.\n",
    "\n",
    "각 query마다 순서대로 s ≤ i ≤ e인 모든 i에 대해 i가 k의 배수이면 arr[i]에 1을 더합니다.\n",
    "\n",
    "위 규칙에 따라 queries를 처리한 이후의 arr를 return 하는 solution 함수를 완성해 주세요."
   ]
  },
  {
   "cell_type": "code",
   "execution_count": 42,
   "id": "a32a68ac",
   "metadata": {},
   "outputs": [
    {
     "data": {
      "text/plain": [
       "[3, 2, 4, 6, 4]"
      ]
     },
     "execution_count": 42,
     "metadata": {},
     "output_type": "execute_result"
    }
   ],
   "source": [
    "arr = [0, 1, 2, 4, 3]\n",
    "queries = [[0, 4, 1],[0, 3, 2],[0, 3, 3]]\n",
    "\n",
    "def solution(arr, queries):\n",
    "    for query in queries:\n",
    "        for i in list(range(query[0],query[1]+1)):\n",
    "            if i % query[2] == 0:\n",
    "                arr[i] += 1\n",
    "            \n",
    "    return arr\n",
    "\n",
    "solution(arr, queries)"
   ]
  },
  {
   "cell_type": "markdown",
   "id": "5688a723",
   "metadata": {},
   "source": [
    "세 개의 구분자 : 임의의 문자열이 주어졌을 때 문자 \"a\", \"b\", \"c\"를 구분자로 사용해 문자열을 나누고자 합니다.\n",
    "\n",
    "예를 들어 주어진 문자열이 \"baconlettucetomato\"라면 나눠진 문자열 목록은 [\"onlettu\", \"etom\", \"to\"] 가 됩니다.\n",
    "\n",
    "문자열 myStr이 주어졌을 때 위 예시와 같이 \"a\", \"b\", \"c\"를 사용해 나눠진 문자열을 순서대로 저장한 배열을 return 하는 solution 함수를 완성해 주세요.\n",
    "\n",
    "단, 두 구분자 사이에 다른 문자가 없을 경우에는 아무것도 저장하지 않으며, return할 배열이 빈 배열이라면 [\"EMPTY\"]를 return 합니다."
   ]
  },
  {
   "cell_type": "code",
   "execution_count": 56,
   "id": "d8e47fc9",
   "metadata": {},
   "outputs": [
    {
     "data": {
      "text/plain": [
       "['d', 'd']"
      ]
     },
     "execution_count": 56,
     "metadata": {},
     "output_type": "execute_result"
    }
   ],
   "source": [
    "myStr = \"dbd\"\n",
    "\n",
    "def solution(myStr):\n",
    "    if sorted(list(set(myStr))) == ['a','b','c'] : return [\"EMPTY\"]\n",
    "    else : \n",
    "        answer = myStr.replace('a','1').replace('b','1').replace('c','1').split('1')\n",
    "        return [x for x in answer if x != '']\n",
    "\n",
    "solution(myStr)"
   ]
  },
  {
   "cell_type": "code",
   "execution_count": 48,
   "id": "1492bcf9",
   "metadata": {},
   "outputs": [
    {
     "data": {
      "text/plain": [
       "['b', 'conlettucetom', 'to']"
      ]
     },
     "execution_count": 48,
     "metadata": {},
     "output_type": "execute_result"
    }
   ],
   "source": [
    "myStr.split('a')"
   ]
  },
  {
   "cell_type": "code",
   "execution_count": 54,
   "id": "af3de157",
   "metadata": {},
   "outputs": [
    {
     "data": {
      "text/plain": [
       "['a', 'b', 'c', 'e', 'l', 'm', 'n', 'o', 't', 'u']"
      ]
     },
     "execution_count": 54,
     "metadata": {},
     "output_type": "execute_result"
    }
   ],
   "source": [
    "sorted(list(set(myStr)))"
   ]
  },
  {
   "cell_type": "markdown",
   "id": "27221740",
   "metadata": {},
   "source": [
    "문자열에 x가 포함될 수 있다는 생각을 하지 못하고 replace를 x로 설정하였다. 이러한 조건들을 좀 더 조심히 살펴봐야 할 것 같다."
   ]
  },
  {
   "cell_type": "markdown",
   "id": "f70a7215",
   "metadata": {},
   "source": [
    "커피 심부름 : 팀의 막내인 철수는 아메리카노와 카페 라테만 판매하는 카페에서 팀원들의 커피를 사려고 합니다. 아메리카노와 카페 라테의 가격은 차가운 것과 뜨거운 것 상관없이 각각 4500, 5000원입니다. 각 팀원에게 마실 메뉴를 적어달라고 하였고, 그 중에서 메뉴만 적은 팀원의 것은 차가운 것으로 통일하고 \"아무거나\"를 적은 팀원의 것은 차가운 아메리카노로 통일하기로 하였습니다.\n",
    "\n",
    "각 직원이 적은 메뉴가 문자열 배열 order로 주어질 때, 카페에서 결제하게 될 금액을 return 하는 solution 함수를 작성해주세요. order의 원소는 아래의 것들만 들어오고, 각각의 의미는 다음과 같습니다."
   ]
  },
  {
   "cell_type": "code",
   "execution_count": 58,
   "id": "54269ead",
   "metadata": {},
   "outputs": [
    {
     "data": {
      "text/plain": [
       "13500"
      ]
     },
     "execution_count": 58,
     "metadata": {},
     "output_type": "execute_result"
    }
   ],
   "source": [
    "order = [\"americanoice\", \"americano\", \"iceamericano\"]\n",
    "\n",
    "def solution(order):\n",
    "    answer = 0\n",
    "    for x in order:\n",
    "        if \"latte\" in x :\n",
    "            answer += 5000\n",
    "        else :\n",
    "            answer += 4500\n",
    "    return answer\n",
    "\n",
    "solution(order)"
   ]
  },
  {
   "cell_type": "markdown",
   "id": "6a2acd25",
   "metadata": {},
   "source": [
    "문자열에서 latte가 들어간 항목만 5000이므로 위와 같이 코드를 짰다."
   ]
  },
  {
   "cell_type": "markdown",
   "id": "fc4f8f05",
   "metadata": {},
   "source": [
    "조건에 맞게 수열 변환하기 2 : 정수 배열 arr가 주어집니다. arr의 각 원소에 대해 값이 50보다 크거나 같은 짝수라면 2로 나누고, 50보다 작은 홀수라면 2를 곱하고 다시 1을 더합니다.\n",
    "\n",
    "이러한 작업을 x번 반복한 결과인 배열을 arr(x)라고 표현했을 때, arr(x) = arr(x + 1)인 x가 항상 존재합니다. 이러한 x 중 가장 작은 값을 return 하는 solution 함수를 완성해 주세요.\n",
    "\n",
    "단, 두 배열에 대한 \"=\"는 두 배열의 크기가 서로 같으며, 같은 인덱스의 원소가 각각 서로 같음을 의미합니다."
   ]
  },
  {
   "cell_type": "code",
   "execution_count": null,
   "id": "eca62a58",
   "metadata": {},
   "outputs": [],
   "source": [
    "arr = [1, 2, 3, 100, 99, 98]\n",
    "\n",
    "def solution(arr):\n",
    "    answer = 0\n",
    "    return answer"
   ]
  },
  {
   "cell_type": "markdown",
   "id": "68887bea",
   "metadata": {},
   "source": [
    "더이상 값이 변하지 않게 되기위한 조건을 잘 설정하는 것이 중요하다.\n",
    "50보다 작은 홀수는 2가 곱해진후에 1이 더해지므로 다시 홀수가 된다. 이때 50보다 커지기 위한 횟수를 반환한다.\n",
    "50보다 큰 홀수는 2가 나눠진다. 그렇기 때문에 100이 아닌이상 카운트는 1이 되며 100이라면 2가 된다.\n",
    "각 요소들에 대한 연산횟수를 세주고, 그중 max를 반환하면 된다."
   ]
  },
  {
   "cell_type": "code",
   "execution_count": 61,
   "id": "5713fd4a",
   "metadata": {},
   "outputs": [
    {
     "data": {
      "text/plain": [
       "5"
      ]
     },
     "execution_count": 61,
     "metadata": {},
     "output_type": "execute_result"
    }
   ],
   "source": [
    "arr = [1, 2, 3, 100, 99, 98]\n",
    "\n",
    "\n",
    "def solution(arr):\n",
    "    answer = []\n",
    "    for x in arr:\n",
    "        count = 0\n",
    "        while ((x < 50) and (x % 2 != 0)) or ((x >= 50) and (x % 2 == 0)):\n",
    "            if ((x < 50) and (x % 2 != 0)):\n",
    "                x = x * 2 + 1\n",
    "                count += 1\n",
    "            elif ((x >= 50) and (x % 2 == 0)):\n",
    "                x = x / 2\n",
    "                count += 1\n",
    "            \n",
    "        answer.append(count)\n",
    "        \n",
    "    return max(answer)\n",
    "\n",
    "solution(arr)"
   ]
  },
  {
   "cell_type": "markdown",
   "id": "85fdad27",
   "metadata": {},
   "source": [
    "qr code : 두 정수 q, r과 문자열 code가 주어질 때, code의 각 인덱스를 q로 나누었을 때 나머지가 r인 위치의 문자를 앞에서부터 순서대로 이어 붙인 문자열을 return 하는 solution 함수를 작성해 주세요."
   ]
  },
  {
   "cell_type": "code",
   "execution_count": 64,
   "id": "40a878fe",
   "metadata": {},
   "outputs": [
    {
     "data": {
      "text/plain": [
       "'jerry'"
      ]
     },
     "execution_count": 64,
     "metadata": {},
     "output_type": "execute_result"
    }
   ],
   "source": [
    "q = 3\n",
    "r = 1\n",
    "code = \"qjnwezgrpirldywt\"\n",
    "\n",
    "def solution(q, r, code):\n",
    "    answer = ''.join([x for i,x in enumerate(code) if i % q == r])\n",
    "    return answer\n",
    "\n",
    "solution(q, r, code)"
   ]
  },
  {
   "cell_type": "markdown",
   "id": "674c4a47",
   "metadata": {},
   "source": [
    "문자 개수 세기 : 알파벳 대소문자로만 이루어진 문자열 my_string이 주어질 때, my_string에서 'A'의 개수, my_string에서 'B'의 개수,..., my_string에서 'Z'의 개수, my_string에서 'a'의 개수, my_string에서 'b'의 개수,..., my_string에서 'z'의 개수를 순서대로 담은 길이 52의 정수 배열을 return 하는 solution 함수를 작성해 주세요."
   ]
  },
  {
   "cell_type": "code",
   "execution_count": 67,
   "id": "72fb7dcd",
   "metadata": {},
   "outputs": [
    {
     "data": {
      "text/plain": [
       "[0,\n",
       " 0,\n",
       " 0,\n",
       " 0,\n",
       " 0,\n",
       " 0,\n",
       " 0,\n",
       " 0,\n",
       " 0,\n",
       " 0,\n",
       " 0,\n",
       " 0,\n",
       " 0,\n",
       " 0,\n",
       " 0,\n",
       " 1,\n",
       " 0,\n",
       " 0,\n",
       " 0,\n",
       " 0,\n",
       " 0,\n",
       " 0,\n",
       " 0,\n",
       " 0,\n",
       " 0,\n",
       " 0,\n",
       " 1,\n",
       " 0,\n",
       " 0,\n",
       " 0,\n",
       " 1,\n",
       " 0,\n",
       " 1,\n",
       " 0,\n",
       " 0,\n",
       " 0,\n",
       " 0,\n",
       " 0,\n",
       " 2,\n",
       " 0,\n",
       " 1,\n",
       " 0,\n",
       " 0,\n",
       " 3,\n",
       " 1,\n",
       " 0,\n",
       " 0,\n",
       " 0,\n",
       " 0,\n",
       " 0,\n",
       " 0,\n",
       " 0]"
      ]
     },
     "execution_count": 67,
     "metadata": {},
     "output_type": "execute_result"
    }
   ],
   "source": [
    "my_string = \"Programmers\"\n",
    "\n",
    "def solution(my_string):\n",
    "    count = ['A','B','C','D','E','F','G','H','I','J','K','L','M','N','O','P','Q','R','S','T','U','V','W','X','Y','Z','a','b','c','d','e','f','g','h','i','j','k','l','m','n','o','p','q','r','s','t','u','v','w','x','y','z']\n",
    "    answer = [my_string.count(x) for x in count]\n",
    "    return answer\n",
    "\n",
    "solution(my_string)"
   ]
  },
  {
   "cell_type": "markdown",
   "id": "a8c7b0ae",
   "metadata": {},
   "source": [
    "배열 만들기 4 : 정수 배열 arr가 주어집니다. arr를 이용해 새로운 배열 stk를 만드려고 합니다.\n",
    "\n",
    "변수 i를 만들어 초기값을 0으로 설정한 후 i가 arr의 길이보다 작으면 다음 작업을 반복합니다.\n",
    "\n",
    "만약 stk가 빈 배열이라면 arr[i]를 stk에 추가하고 i에 1을 더합니다.\n",
    "stk에 원소가 있고, stk의 마지막 원소가 arr[i]보다 작으면 arr[i]를 stk의 뒤에 추가하고 i에 1을 더합니다.\n",
    "stk에 원소가 있는데 stk의 마지막 원소가 arr[i]보다 크거나 같으면 stk의 마지막 원소를 stk에서 제거합니다.\n",
    "위 작업을 마친 후 만들어진 stk를 return 하는 solution 함수를 완성해 주세요."
   ]
  },
  {
   "cell_type": "code",
   "execution_count": 71,
   "id": "7053b71a",
   "metadata": {},
   "outputs": [
    {
     "data": {
      "text/plain": [
       "[1, 2, 3]"
      ]
     },
     "execution_count": 71,
     "metadata": {},
     "output_type": "execute_result"
    }
   ],
   "source": [
    "arr = [1, 4, 2, 5, 3]\n",
    "\n",
    "def solution(arr):\n",
    "    stk = []\n",
    "    i = 0\n",
    "    while i < len(arr):\n",
    "        if len(stk) == 0:\n",
    "            stk.append(arr[i])\n",
    "            i += 1\n",
    "        elif (len(arr) != 0) and (stk[-1] < arr[i]):\n",
    "            stk.append(arr[i])\n",
    "            i += 1\n",
    "        elif (len(arr) != 0) and (stk[-1] >= arr[i]):\n",
    "            stk.pop()\n",
    "            \n",
    "    return stk\n",
    "\n",
    "solution(arr)"
   ]
  },
  {
   "cell_type": "markdown",
   "id": "5ab19643",
   "metadata": {},
   "source": [
    "배열 만들기 6 : 0과 1로만 이루어진 정수 배열 arr가 주어집니다. arr를 이용해 새로운 배열 stk을 만드려고 합니다.\n",
    "\n",
    "i의 초기값을 0으로 설정하고 i가 arr의 길이보다 작으면 다음을 반복합니다.\n",
    "\n",
    "만약 stk이 빈 배열이라면 arr[i]를 stk에 추가하고 i에 1을 더합니다.\n",
    "stk에 원소가 있고, stk의 마지막 원소가 arr[i]와 같으면 stk의 마지막 원소를 stk에서 제거하고 i에 1을 더합니다.\n",
    "stk에 원소가 있는데 stk의 마지막 원소가 arr[i]와 다르면 stk의 맨 마지막에 arr[i]를 추가하고 i에 1을 더합니다.\n",
    "위 작업을 마친 후 만들어진 stk을 return 하는 solution 함수를 완성해 주세요.\n",
    "\n",
    "단, 만약 빈 배열을 return 해야한다면 [-1]을 return 합니다."
   ]
  },
  {
   "cell_type": "code",
   "execution_count": 76,
   "id": "b3e8f9f6",
   "metadata": {},
   "outputs": [
    {
     "data": {
      "text/plain": [
       "[-1]"
      ]
     },
     "execution_count": 76,
     "metadata": {},
     "output_type": "execute_result"
    }
   ],
   "source": [
    "arr = [0, 1, 1, 0]\n",
    "\n",
    "def solution(arr):\n",
    "    stk = []\n",
    "    i = 0\n",
    "    while i < len(arr):\n",
    "        if len(stk) == 0:\n",
    "            stk.append(arr[i])\n",
    "            i += 1\n",
    "        elif (len(stk) != 0) and (stk[-1] == arr[i]) :\n",
    "            stk.pop()\n",
    "            i += 1\n",
    "        elif (len(stk) != 0) and (stk[-1] != arr[i]) :\n",
    "            stk.append(arr[i])\n",
    "            i += 1\n",
    "    return [-1] if len(stk) == 0 else stk \n",
    "\n",
    "solution(arr)"
   ]
  },
  {
   "cell_type": "markdown",
   "id": "54054d91",
   "metadata": {},
   "source": [
    "왼쪽 오른쪽 : 문자열 리스트 str_list에는 \"u\", \"d\", \"l\", \"r\" 네 개의 문자열이 여러 개 저장되어 있습니다. str_list에서 \"l\"과 \"r\" 중 먼저 나오는 문자열이 \"l\"이라면 해당 문자열을 기준으로 왼쪽에 있는 문자열들을 순서대로 담은 리스트를, 먼저 나오는 문자열이 \"r\"이라면 해당 문자열을 기준으로 오른쪽에 있는 문자열들을 순서대로 담은 리스트를 return하도록 solution 함수를 완성해주세요. \"l\"이나 \"r\"이 없다면 빈 리스트를 return합니다."
   ]
  },
  {
   "cell_type": "code",
   "execution_count": 79,
   "id": "e1421984",
   "metadata": {},
   "outputs": [
    {
     "data": {
      "text/plain": [
       "0"
      ]
     },
     "execution_count": 79,
     "metadata": {},
     "output_type": "execute_result"
    }
   ],
   "source": [
    "str_list.index(\"u\") str_list.index(\"l\")"
   ]
  },
  {
   "cell_type": "markdown",
   "id": "a3783637",
   "metadata": {},
   "source": [
    "존재하지 않는 경우를 고려해서 코드를 짜야한다.\n",
    "l만 존재하는경우, r만 존재하는 경우, 둘다 존재하지 않는 경우, 둘다 존재하는 경우를 모두 고려해야한다."
   ]
  },
  {
   "cell_type": "code",
   "execution_count": 90,
   "id": "8be6d7ac",
   "metadata": {},
   "outputs": [
    {
     "ename": "ValueError",
     "evalue": "'r' is not in list",
     "output_type": "error",
     "traceback": [
      "\u001b[1;31m---------------------------------------------------------------------------\u001b[0m",
      "\u001b[1;31mValueError\u001b[0m                                Traceback (most recent call last)",
      "Input \u001b[1;32mIn [90]\u001b[0m, in \u001b[0;36m<cell line: 14>\u001b[1;34m()\u001b[0m\n\u001b[0;32m     11\u001b[0m         answer \u001b[38;5;241m=\u001b[39m str_list[idx\u001b[38;5;241m+\u001b[39m\u001b[38;5;241m1\u001b[39m:]\n\u001b[0;32m     13\u001b[0m     \u001b[38;5;28;01mreturn\u001b[39;00m answer\n\u001b[1;32m---> 14\u001b[0m \u001b[43msolution\u001b[49m\u001b[43m(\u001b[49m\u001b[43mstr_list\u001b[49m\u001b[43m)\u001b[49m\n",
      "Input \u001b[1;32mIn [90]\u001b[0m, in \u001b[0;36msolution\u001b[1;34m(str_list)\u001b[0m\n\u001b[0;32m      3\u001b[0m \u001b[38;5;28;01mdef\u001b[39;00m \u001b[38;5;21msolution\u001b[39m(str_list):\n\u001b[0;32m      4\u001b[0m     answer \u001b[38;5;241m=\u001b[39m []\n\u001b[1;32m----> 5\u001b[0m     idx \u001b[38;5;241m=\u001b[39m \u001b[38;5;28mmin\u001b[39m(str_list\u001b[38;5;241m.\u001b[39mindex(\u001b[38;5;124m'\u001b[39m\u001b[38;5;124ml\u001b[39m\u001b[38;5;124m'\u001b[39m), \u001b[43mstr_list\u001b[49m\u001b[38;5;241;43m.\u001b[39;49m\u001b[43mindex\u001b[49m\u001b[43m(\u001b[49m\u001b[38;5;124;43m'\u001b[39;49m\u001b[38;5;124;43mr\u001b[39;49m\u001b[38;5;124;43m'\u001b[39;49m\u001b[43m)\u001b[49m)\n\u001b[0;32m      7\u001b[0m     \u001b[38;5;28;01mif\u001b[39;00m idx \u001b[38;5;241m==\u001b[39m \u001b[38;5;241m-\u001b[39m\u001b[38;5;241m1\u001b[39m: answer \u001b[38;5;241m=\u001b[39m []\n\u001b[0;32m      8\u001b[0m     \u001b[38;5;28;01melif\u001b[39;00m str_list[idx] \u001b[38;5;241m==\u001b[39m \u001b[38;5;124m'\u001b[39m\u001b[38;5;124ml\u001b[39m\u001b[38;5;124m'\u001b[39m:\n",
      "\u001b[1;31mValueError\u001b[0m: 'r' is not in list"
     ]
    }
   ],
   "source": [
    "str_list = [\"l\"]\n",
    "\n",
    "def solution(str_list):\n",
    "    answer = []\n",
    "    idx = min(str_list.index('l'), str_list.index('r'))\n",
    "    \n",
    "    if idx == -1: answer = []\n",
    "    elif str_list[idx] == 'l':\n",
    "        answer = str_list[:idx]\n",
    "    else :\n",
    "        answer = str_list[idx+1:]\n",
    "\n",
    "    return answer\n",
    "solution(str_list)"
   ]
  },
  {
   "cell_type": "markdown",
   "id": "a534f642",
   "metadata": {},
   "source": [
    "index()는 존재하지 않을 때 -1를 반환하지 않는다. find()를 사용해야 한다."
   ]
  },
  {
   "cell_type": "code",
   "execution_count": 94,
   "id": "c8ca7ff0",
   "metadata": {},
   "outputs": [
    {
     "data": {
      "text/plain": [
       "[]"
      ]
     },
     "execution_count": 94,
     "metadata": {},
     "output_type": "execute_result"
    }
   ],
   "source": [
    "str_list = [\"l\"]\n",
    "\n",
    "def solution(str_list):\n",
    "    answer = []\n",
    "    lidx = ''.join(str_list).find('l')\n",
    "    ridx = ''.join(str_list).find('r')\n",
    "    \n",
    "    if lidx == ridx == -1 : answer = []\n",
    "    elif (ridx == -1) and (lidx != -1):\n",
    "        answer = str_list[:lidx]\n",
    "    elif (ridx != -1) and (lidx == -1):\n",
    "        answer = str_list[ridx+1:]\n",
    "    else :\n",
    "        idx = min(lidx,ridx)\n",
    "        if str_list[idx] == 'r':\n",
    "            answer = str_list[idx+1:]\n",
    "        else :\n",
    "            answer = str_list[:idx]\n",
    "\n",
    "    return answer\n",
    "solution(str_list)"
   ]
  },
  {
   "cell_type": "markdown",
   "id": "8ab83a85",
   "metadata": {},
   "source": [
    "둘중 하나라도 -1이면 -1를 반환해 버리므로 다른 방법을 사용해야 한다. 둘다 -1이라면 -1이 되고 아니라면 둘중 하나만 -1이라면 인덱스는 0을 포함한 정수이기 때문에 -1를 반환해버린다. 그렇다면 min을 사용하는 것은 그렇게 좋은 방법이 아닌 듯 하다."
   ]
  },
  {
   "cell_type": "markdown",
   "id": "cdadaf24",
   "metadata": {},
   "source": [
    "str_list[:idx] 를 반환하는 경우는 'r'이 존재하지 않거나 'r'이 존재하지만 'l'의 인덱스가 더 작은 경우\n",
    "str_list[idx+1:] 를 반환하는 경우는 'l'이 존재하지 않거나 존재하지만 'r'의 인덱스가 더 작은 경우이다.\n",
    "먼저 해당 인덱스들이 존재하는지 아닌지를 확인하고, 존재한다면 크기를 비교해야 하는데 경우의 수가 꽤나 복잡하다."
   ]
  },
  {
   "cell_type": "markdown",
   "id": "7ced2792",
   "metadata": {},
   "source": [
    "두 수의 합 : 0 이상의 두 정수가 문자열 a, b로 주어질 때, a + b의 값을 문자열로 return 하는 solution 함수를 작성해 주세요."
   ]
  },
  {
   "cell_type": "code",
   "execution_count": 95,
   "id": "e5004bba",
   "metadata": {},
   "outputs": [
    {
     "data": {
      "text/plain": [
       "1316"
      ]
     },
     "execution_count": 95,
     "metadata": {},
     "output_type": "execute_result"
    }
   ],
   "source": [
    "a = \"582\"\n",
    "b = \"734\"\n",
    "\n",
    "def solution(a, b):\n",
    "    return int(a) + int(b)\n",
    "\n",
    "solution(a,b)"
   ]
  },
  {
   "cell_type": "markdown",
   "id": "906a1c91",
   "metadata": {},
   "source": [
    "조건 문자열 : 문자열에 따라 다음과 같이 두 수의 크기를 비교하려고 합니다.\n",
    "\n",
    "두 수가 n과 m이라면\n",
    "\">\", \"=\" : n >= m\n",
    "\"<\", \"=\" : n <= m\n",
    "\">\", \"!\" : n > m\n",
    "\"<\", \"!\" : n < m\n",
    "두 문자열 ineq와 eq가 주어집니다. ineq는 \"<\"와 \">\"중 하나고, eq는 \"=\"와 \"!\"중 하나입니다. 그리고 두 정수 n과 m이 주어질 때, n과 m이 ineq와 eq의 조건에 맞으면 1을 아니면 0을 return하도록 solution 함수를 완성해주세요."
   ]
  },
  {
   "cell_type": "code",
   "execution_count": 3,
   "id": "fc37ad27",
   "metadata": {},
   "outputs": [
    {
     "data": {
      "text/plain": [
       "0"
      ]
     },
     "execution_count": 3,
     "metadata": {},
     "output_type": "execute_result"
    }
   ],
   "source": [
    "ineq = \">\"\n",
    "eq = \"!\"\n",
    "n = 41\n",
    "m = 78\n",
    "\n",
    "def solution(ineq, eq, n, m):\n",
    "    if eq == '=':\n",
    "        answer = eval(''.join([str(n),ineq, eq, str(m)]))\n",
    "    else : \n",
    "        answer = eval(''.join([str(n),ineq, str(m)]))\n",
    "    return 1 if (answer == True) else 0\n",
    "\n",
    "solution(ineq, eq, n, m)"
   ]
  },
  {
   "cell_type": "markdown",
   "id": "d40fcece",
   "metadata": {},
   "source": [
    "문자열 여러 번 뒤집기 : 문자열 my_string과 이차원 정수 배열 queries가 매개변수로 주어집니다. queries의 원소는 [s, e] 형태로, my_string의 인덱스 s부터 인덱스 e까지를 뒤집으라는 의미입니다. my_string에 queries의 명령을 순서대로 처리한 후의 문자열을 return 하는 solution 함수를 작성해 주세요."
   ]
  },
  {
   "cell_type": "code",
   "execution_count": 7,
   "id": "297bd840",
   "metadata": {},
   "outputs": [
    {
     "data": {
      "text/plain": [
       "'programmers'"
      ]
     },
     "execution_count": 7,
     "metadata": {},
     "output_type": "execute_result"
    }
   ],
   "source": [
    "my_string = \"rermgorpsam\"\n",
    "queries = [[2, 3], [0, 7], [5, 9], [6, 10]]\n",
    "\n",
    "def solution(my_string, queries):\n",
    "    for query in queries:\n",
    "        my_string = my_string[:query[0]] + ''.join(list(reversed(my_string[query[0]:query[1]+1]))) + my_string[query[1]+1:]\n",
    "    return my_string\n",
    "\n",
    "solution(my_string, queries)"
   ]
  },
  {
   "cell_type": "code",
   "execution_count": 4,
   "id": "26500a0f",
   "metadata": {},
   "outputs": [
    {
     "data": {
      "text/plain": [
       "<list_reverseiterator at 0x1f217e7c3d0>"
      ]
     },
     "execution_count": 4,
     "metadata": {},
     "output_type": "execute_result"
    }
   ],
   "source": [
    "reversed([1,2,3])"
   ]
  },
  {
   "cell_type": "markdown",
   "id": "0310a462",
   "metadata": {},
   "source": [
    "수열과 구간 쿼리 2 : 정수 배열 arr와 2차원 정수 배열 queries이 주어집니다. queries의 원소는 각각 하나의 query를 나타내며, [s, e, k] 꼴입니다.\n",
    "\n",
    "각 query마다 순서대로 s ≤ i ≤ e인 모든 i에 대해 k보다 크면서 가장 작은 arr[i]를 찾습니다.\n",
    "\n",
    "각 쿼리의 순서에 맞게 답을 저장한 배열을 반환하는 solution 함수를 완성해 주세요.\n",
    "단, 특정 쿼리의 답이 존재하지 않으면 -1을 저장합니다."
   ]
  },
  {
   "cell_type": "code",
   "execution_count": 19,
   "id": "2bfaefc7",
   "metadata": {},
   "outputs": [
    {
     "data": {
      "text/plain": [
       "[3, 4, -1]"
      ]
     },
     "execution_count": 19,
     "metadata": {},
     "output_type": "execute_result"
    }
   ],
   "source": [
    "arr = [0, 1, 2, 4, 3]\n",
    "queries = [[0, 4, 2],[0, 3, 2],[0, 2, 2]]\n",
    "\n",
    "def solution(arr, queries):\n",
    "    answer = []\n",
    "    for i,query in enumerate(queries) :\n",
    "        if max(arr[query[0]:query[1]+1]) <= query[2]:\n",
    "            answer.append(-1)\n",
    "        else :\n",
    "            answer.append(min([x for x in arr[query[0]:query[1]+1] if x > query[2]]))\n",
    "\n",
    "    return answer\n",
    "\n",
    "solution(arr, queries)"
   ]
  },
  {
   "cell_type": "code",
   "execution_count": 11,
   "id": "c7e21a13",
   "metadata": {},
   "outputs": [
    {
     "data": {
      "text/plain": [
       "1"
      ]
     },
     "execution_count": 11,
     "metadata": {},
     "output_type": "execute_result"
    }
   ],
   "source": [
    "min([1,2,3])"
   ]
  },
  {
   "cell_type": "code",
   "execution_count": 17,
   "id": "51a7ea49",
   "metadata": {},
   "outputs": [
    {
     "data": {
      "text/plain": [
       "2"
      ]
     },
     "execution_count": 17,
     "metadata": {},
     "output_type": "execute_result"
    }
   ],
   "source": [
    "query = [0, 4, 2]\n",
    "min([x for x in arr[query[0]:query[1]] if x >= query[2]])"
   ]
  },
  {
   "cell_type": "markdown",
   "id": "7e9ba173",
   "metadata": {},
   "source": [
    "무작위로 K개의 수 뽑기 : 랜덤으로 서로 다른 k개의 수를 저장한 배열을 만드려고 합니다. 적절한 방법이 떠오르지 않기 때문에 일정한 범위 내에서 무작위로 수를 뽑은 후, 지금까지 나온적이 없는 수이면 배열 맨 뒤에 추가하는 방식으로 만들기로 합니다.\n",
    "\n",
    "이미 어떤 수가 무작위로 주어질지 알고 있다고 가정하고, 실제 만들어질 길이 k의 배열을 예상해봅시다.\n",
    "\n",
    "정수 배열 arr가 주어집니다. 문제에서의 무작위의 수는 arr에 저장된 순서대로 주어질 예정이라고 했을 때, 완성될 배열을 return 하는 solution 함수를 완성해 주세요.\n",
    "\n",
    "단, 완성될 배열의 길이가 k보다 작으면 나머지 값을 전부 -1로 채워서 return 합니다."
   ]
  },
  {
   "cell_type": "code",
   "execution_count": 24,
   "id": "d4187d9d",
   "metadata": {},
   "outputs": [
    {
     "data": {
      "text/plain": [
       "[0, 1, -1, -1]"
      ]
     },
     "execution_count": 24,
     "metadata": {},
     "output_type": "execute_result"
    }
   ],
   "source": [
    "arr = [0, 1, 1, 1, 1]\n",
    "k = 4\n",
    "\n",
    "solution(arr)\n",
    "solution(arr, k)"
   ]
  },
  {
   "cell_type": "markdown",
   "id": "ff01d7a1",
   "metadata": {},
   "source": [
    "정사각형으로 만들기 : 이차원 정수 배열 arr이 매개변수로 주어집니다. arr의 행의 수가 더 많다면 열의 수가 행의 수와 같아지도록 각 행의 끝에 0을 추가하고, 열의 수가 더 많다면 행의 수가 열의 수와 같아지도록 각 열의 끝에 0을 추가한 이차원 배열을 return 하는 solution 함수를 작성해 주세요."
   ]
  },
  {
   "cell_type": "code",
   "execution_count": 27,
   "id": "4128c8b1",
   "metadata": {},
   "outputs": [
    {
     "data": {
      "text/plain": [
       "[[572, 22, 37, 0], [287, 726, 384, 0], [85, 137, 292, 0], [487, 13, 876, 0]]"
      ]
     },
     "execution_count": 27,
     "metadata": {},
     "output_type": "execute_result"
    }
   ],
   "source": [
    "arr = [[572, 22, 37], [287, 726, 384], [85, 137, 292], [487, 13, 876]]\n",
    "\n",
    "def solution(arr):\n",
    "    diff = len(arr) - len(arr[0])\n",
    "    if diff == 0 : answer = arr\n",
    "    elif diff < 0 :\n",
    "        answer = arr + [[0] * len(arr[0])] * abs(diff)\n",
    "    else :\n",
    "        answer = [x + ([0] * diff) for x in arr]\n",
    "        \n",
    "    return answer\n",
    "            \n",
    "solution(arr)"
   ]
  },
  {
   "cell_type": "markdown",
   "id": "77efb940",
   "metadata": {},
   "source": [
    "그림 확대 : 직사각형 형태의 그림 파일이 있고, 이 그림 파일은 1 × 1 크기의 정사각형 크기의 픽셀로 이루어져 있습니다. 이 그림 파일을 나타낸 문자열 배열 picture과 정수 k가 매개변수로 주어질 때, 이 그림 파일을 가로 세로로 k배 늘린 그림 파일을 나타내도록 문자열 배열을 return 하는 solution 함수를 작성해 주세요."
   ]
  },
  {
   "cell_type": "code",
   "execution_count": 29,
   "id": "ab2fb574",
   "metadata": {},
   "outputs": [
    {
     "data": {
      "text/plain": [
       "['..xxxx......xxxx..',\n",
       " '..xxxx......xxxx..',\n",
       " 'xx....xx..xx....xx',\n",
       " 'xx....xx..xx....xx',\n",
       " 'xx......xx......xx',\n",
       " 'xx......xx......xx',\n",
       " '..xx..........xx..',\n",
       " '..xx..........xx..',\n",
       " '....xx......xx....',\n",
       " '....xx......xx....',\n",
       " '......xx..xx......',\n",
       " '......xx..xx......',\n",
       " '........xx........',\n",
       " '........xx........']"
      ]
     },
     "execution_count": 29,
     "metadata": {},
     "output_type": "execute_result"
    }
   ],
   "source": [
    "picture = [\".xx...xx.\", \"x..x.x..x\", \"x...x...x\", \".x.....x.\", \"..x...x..\", \"...x.x...\", \"....x....\"]\n",
    "k = 2\n",
    "\n",
    "def solution(picture, k):\n",
    "    answer = []\n",
    "    for x in picture:\n",
    "        answer += [''.join([i*k for i in x])] * k\n",
    "    return answer\n",
    "\n",
    "solution(picture, k)"
   ]
  },
  {
   "cell_type": "markdown",
   "id": "0d7f9e8c",
   "metadata": {},
   "source": [
    "전국 대회 선발 고사 : 0번부터 n - 1번까지 n명의 학생 중 3명을 선발하는 전국 대회 선발 고사를 보았습니다. 등수가 높은 3명을 선발해야 하지만, 개인 사정으로 전국 대회에 참여하지 못하는 학생들이 있어 참여가 가능한 학생 중 등수가 높은 3명을 선발하기로 했습니다.\n",
    "\n",
    "각 학생들의 선발 고사 등수를 담은 정수 배열 rank와 전국 대회 참여 가능 여부가 담긴 boolean 배열 attendance가 매개변수로 주어집니다. 전국 대회에 선발된 학생 번호들을 등수가 높은 순서대로 각각 a, b, c번이라고 할 때 10000 × a + 100 × b + c를 return 하는 solution 함수를 작성해 주세요."
   ]
  },
  {
   "cell_type": "code",
   "execution_count": 34,
   "id": "21d1e264",
   "metadata": {},
   "outputs": [
    {
     "data": {
      "text/plain": [
       "20403"
      ]
     },
     "execution_count": 34,
     "metadata": {},
     "output_type": "execute_result"
    }
   ],
   "source": [
    "rank = [3, 7, 2, 5, 4, 6, 1]\n",
    "attendance = [False, True, True, True, True, False, False]\n",
    "\n",
    "def solution(rank, attendance):\n",
    "    attrank = sorted([x for i,x in enumerate(rank) if attendance[i] == True])\n",
    "    return 10000 * rank.index(attrank[0]) + 100 * rank.index(attrank[1]) + rank.index(attrank[2])\n",
    "\n",
    "solution(rank, attendance)"
   ]
  },
  {
   "cell_type": "code",
   "execution_count": 32,
   "id": "a7ef6839",
   "metadata": {},
   "outputs": [
    {
     "data": {
      "text/plain": [
       "[1, 3, 5]"
      ]
     },
     "execution_count": 32,
     "metadata": {},
     "output_type": "execute_result"
    }
   ],
   "source": [
    "sorted([1,5,3])"
   ]
  },
  {
   "cell_type": "markdown",
   "id": "439467fd",
   "metadata": {},
   "source": [
    "배열 만들기 2 : 정수 l과 r이 주어졌을 때, l 이상 r이하의 정수 중에서 숫자 \"0\"과 \"5\"로만 이루어진 모든 정수를 오름차순으로 저장한 배열을 return 하는 solution 함수를 완성해 주세요.\n",
    "\n",
    "만약 그러한 정수가 없다면, -1이 담긴 배열을 return 합니다."
   ]
  },
  {
   "cell_type": "code",
   "execution_count": 45,
   "id": "df21652f",
   "metadata": {
    "scrolled": true
   },
   "outputs": [
    {
     "data": {
      "text/plain": [
       "[5, 50, 55, 500, 505, 550, 555]"
      ]
     },
     "execution_count": 45,
     "metadata": {},
     "output_type": "execute_result"
    }
   ],
   "source": [
    "l = 5\n",
    "r = 555\n",
    "\n",
    "def solution(l, r):\n",
    "    answer = [x for x in list(range(l,r+1)) if sorted(list(set(list(str(x))))) in [['0'], ['5'],['0','5']]]\n",
    "    return [-1] if answer == [] else answer\n",
    "\n",
    "solution(l, r)"
   ]
  },
  {
   "cell_type": "markdown",
   "id": "347a8de7",
   "metadata": {},
   "source": [
    "배열 조각하기 : 정수 배열 arr와 query가 주어집니다.\n",
    "\n",
    "query를 순회하면서 다음 작업을 반복합니다.\n",
    "\n",
    "짝수 인덱스에서는 arr에서 query[i]번 인덱스를 제외하고 배열의 query[i]번 인덱스 뒷부분을 잘라서 버립니다.\n",
    "홀수 인덱스에서는 arr에서 query[i]번 인덱스는 제외하고 배열의 query[i]번 인덱스 앞부분을 잘라서 버립니다.\n",
    "위 작업을 마친 후 남은 arr의 부분 배열을 return 하는 solution 함수를 완성해 주세요."
   ]
  },
  {
   "cell_type": "code",
   "execution_count": 49,
   "id": "37684f0a",
   "metadata": {},
   "outputs": [
    {
     "data": {
      "text/plain": [
       "[1, 2, 3]"
      ]
     },
     "execution_count": 49,
     "metadata": {},
     "output_type": "execute_result"
    }
   ],
   "source": [
    "arr = [0, 1, 2, 3, 4, 5]\n",
    "query = [4, 1, 2]\n",
    "\n",
    "def solution(arr, query):\n",
    "    for i,x in enumerate(query):\n",
    "        if i % 2 == 0:\n",
    "            arr = arr[:x+1]\n",
    "        else :\n",
    "            arr = arr[x:]\n",
    "\n",
    "    return arr\n",
    "\n",
    "solution(arr, query)"
   ]
  },
  {
   "cell_type": "markdown",
   "id": "81721249",
   "metadata": {},
   "source": [
    "주사위 게임 3 : 1부터 6까지 숫자가 적힌 주사위가 네 개 있습니다. 네 주사위를 굴렸을 때 나온 숫자에 따라 다음과 같은 점수를 얻습니다.\n",
    "\n",
    "네 주사위에서 나온 숫자가 모두 p로 같다면 1111 × p점을 얻습니다.\n",
    "세 주사위에서 나온 숫자가 p로 같고 나머지 다른 주사위에서 나온 숫자가 q(p ≠ q)라면 (10 × p + q)2 점을 얻습니다.\n",
    "주사위가 두 개씩 같은 값이 나오고, 나온 숫자를 각각 p, q(p ≠ q)라고 한다면 (p + q) × |p - q|점을 얻습니다.\n",
    "어느 두 주사위에서 나온 숫자가 p로 같고 나머지 두 주사위에서 나온 숫자가 각각 p와 다른 q, r(q ≠ r)이라면 q × r점을 얻습니다.\n",
    "네 주사위에 적힌 숫자가 모두 다르다면 나온 숫자 중 가장 작은 숫자 만큼의 점수를 얻습니다.\n",
    "네 주사위를 굴렸을 때 나온 숫자가 정수 매개변수 a, b, c, d로 주어질 때, 얻는 점수를 return 하는 solution 함수를 작성해 주세요."
   ]
  },
  {
   "cell_type": "code",
   "execution_count": 63,
   "id": "79383464",
   "metadata": {
    "scrolled": true
   },
   "outputs": [
    {
     "data": {
      "text/plain": [
       "2"
      ]
     },
     "execution_count": 63,
     "metadata": {},
     "output_type": "execute_result"
    }
   ],
   "source": [
    "a = 6\n",
    "b = 4\n",
    "c = 2\n",
    "d = 5\n",
    "\n",
    "def solution(a, b, c, d):\n",
    "    num = [1,2,3,4,5,6]\n",
    "    count = [0,0,0,0,0,0]\n",
    "    for x in [a,b,c,d]:\n",
    "        count[x-1] += 1\n",
    "        \n",
    "    if max(count) == 4:\n",
    "        answer = num[count.index(4)] * 1111\n",
    "    elif max(count) == 3:\n",
    "        answer = pow((num[count.index(3)] * 10) + num[count.index(1)],2)\n",
    "    elif count.count(2) == 2:\n",
    "        answer = (num[count.index(2)] + num[5 - count[::-1].index(2)]) * abs(num[count.index(2)] - num[5 - count[::-1].index(2)])\n",
    "    elif count.count(1) == 4:\n",
    "        answer = num[count.index(1)]\n",
    "    else:\n",
    "        answer = num[5 - count[::-1].index(1)] * num[count.index(1)]\n",
    "        \n",
    "    return answer\n",
    "\n",
    "solution(a, b, c, d)"
   ]
  },
  {
   "cell_type": "markdown",
   "id": "6a914efd",
   "metadata": {},
   "source": [
    "조건이 매우 까다롭다. 모두 같은 경우, 셋이 같은 경우, 둘둘 같은 경우, 둘 같고 나머지가 다른 경우, 모두 다른경우 로 나누어서 생각해야 할 것 같다.\n",
    "[1,2,3,4,5,6] 에 해당하는 주사위 갯수를 세는 리스트 count를 만든다면 어떨까\n",
    "[0,0,1,1,2,0]과 같은 형태라면. index(4)로 모두 같은 경우 해결\n",
    "index(3)과 index(1)을 통해 가능.\n",
    "22는 "
   ]
  },
  {
   "cell_type": "markdown",
   "id": "4236fcfb",
   "metadata": {},
   "source": [
    "코드 처리하기 : 문자열 code가 주어집니다.\n",
    "code를 앞에서부터 읽으면서 만약 문자가 \"1\"이면 mode를 바꿉니다. mode에 따라 code를 읽어가면서 문자열 ret을 만들어냅니다.\n",
    "\n",
    "mode는 0과 1이 있으며, idx를 0 부터 code의 길이 - 1 까지 1씩 키워나가면서 code[idx]의 값에 따라 다음과 같이 행동합니다.\n",
    "\n",
    "mode가 0일 때\n",
    "code[idx]가 \"1\"이 아니면 idx가 짝수일 때만 ret의 맨 뒤에 code[idx]를 추가합니다.\n",
    "code[idx]가 \"1\"이면 mode를 0에서 1로 바꿉니다.\n",
    "mode가 1일 때\n",
    "code[idx]가 \"1\"이 아니면 idx가 홀수일 때만 ret의 맨 뒤에 code[idx]를 추가합니다.\n",
    "code[idx]가 \"1\"이면 mode를 1에서 0으로 바꿉니다.\n",
    "문자열 code를 통해 만들어진 문자열 ret를 return 하는 solution 함수를 완성해 주세요.\n",
    "\n",
    "단, 시작할 때 mode는 0이며, return 하려는 ret가 만약 빈 문자열이라면 대신 \"EMPTY\"를 return 합니다."
   ]
  },
  {
   "cell_type": "code",
   "execution_count": 69,
   "id": "f761e7c5",
   "metadata": {},
   "outputs": [
    {
     "data": {
      "text/plain": [
       "'acbac'"
      ]
     },
     "execution_count": 69,
     "metadata": {},
     "output_type": "execute_result"
    }
   ],
   "source": [
    "code = \"abc1abc1abc\"\n",
    "\n",
    "def solution(code):\n",
    "    mode = 0\n",
    "    answer = ''\n",
    "    for i, x in enumerate(code):\n",
    "        if x == '1' and mode == 0:\n",
    "            mode = 1\n",
    "        elif x == '1' and mode == 1:\n",
    "            mode = 0\n",
    "        elif (x != 1) and (mode == 0) and (i % 2 == 0):\n",
    "            answer += x\n",
    "        elif (x != 1) and (mode == 1) and (i % 2 != 0):\n",
    "            answer += x\n",
    "            \n",
    "    return \"EMPTY\" if answer == '' else answer\n",
    "\n",
    "solution(code)"
   ]
  },
  {
   "cell_type": "markdown",
   "id": "e927df3b",
   "metadata": {},
   "source": [
    "현대 인덱스에 해당하는 값과 모드를 계속 받아야 한다."
   ]
  },
  {
   "cell_type": "markdown",
   "id": "c85bf395",
   "metadata": {},
   "source": [
    "정수를 나선형으로 배치하기 : 양의 정수 n이 매개변수로 주어집니다. n × n 배열에 1부터 n2 까지 정수를 인덱스 [0][0]부터 시계방향 나선형으로 배치한 이차원 배열을 return 하는 solution 함수를 작성해 주세요."
   ]
  },
  {
   "cell_type": "code",
   "execution_count": 68,
   "id": "4f644740",
   "metadata": {},
   "outputs": [
    {
     "data": {
      "text/plain": [
       "[[[1, 2, 3, 4]], [0, 0, 0, 5], [0, 0, 0, 6], [0, 0, 0, 0]]"
      ]
     },
     "execution_count": 68,
     "metadata": {},
     "output_type": "execute_result"
    }
   ],
   "source": [
    "n = 4\n",
    "\n",
    "def solution(n):\n",
    "    answer = [[0] * n for i in range(n)] \n",
    "    answer[0] = [list(range(1,n+1))]\n",
    "    count = n+1\n",
    "    i = 1\n",
    "    j = n-1\n",
    "    try  :\n",
    "        while count <= pow(n,2):\n",
    "            if (answer[i+1][j] == 0) and (((j == n-1) and (i != n-1)) or ((answer[i-1][j] != 0) and (answer[i][j+1] != 0))):\n",
    "                answer[i][j] = count\n",
    "                i += 1\n",
    "                count += 1\n",
    "            elif (answer[i][j-1] == 0) and (((i == n-1)and(j != 0)) or (i == n-1 and j == n-1) or ((answer[i][j+1] != 0) and (answer[i+1][j] != 0))): \n",
    "                answer[i][j] = count\n",
    "                j -= 1\n",
    "                count += 1\n",
    "            elif (answer[i-1][j] == 0) and (((j == 0)and(i != 1)) or (i == n-1 and j == 0) or ((answer[i][j-1] != 0) and (answer[i+1][j] != 0))): \n",
    "                answer[i][j] = count\n",
    "                i -= 1\n",
    "                count += 1\n",
    "            elif (answer[i][j+1] == 0) and ((answer[i][j-1] != 0) and (answer[i-1][j] != 0)): \n",
    "                answer[i][j] = count\n",
    "                j += 1\n",
    "                count += 1\n",
    "    except IndexError: pass\n",
    "        \n",
    "    return answer\n",
    "\n",
    "solution(n)"
   ]
  },
  {
   "cell_type": "markdown",
   "id": "2ebc88c6",
   "metadata": {},
   "source": [
    "꺾이는 부분을 알면 조금 더 쉬울 것 같다. 규칙성을 먼저 확인 해보자\n",
    "(n = 1)\n",
    "1\n",
    "\n",
    "(n = 2)\n",
    "1 2\n",
    "4 3\n",
    "\n",
    "(n = 3)\n",
    "1 2 3 \n",
    "8 9 4\n",
    "7 6 5\n",
    "\n",
    "(n = 4)\n",
    "1  2  3  4\n",
    "12 13 14 5\n",
    "11 16 15 6\n",
    "10 9  8  7 \n",
    "\n",
    "(n = 5)\n",
    "1  2  3  4  5\n",
    "16 17 18 19 6\n",
    "15 24 25 20 7\n",
    "14 23 22 21 8\n",
    "13 12 11 10 9\n",
    "\n",
    "\n",
    "n\n",
    "1 2 3 ... n\n",
    "4n-4      n+1\n",
    "          \n",
    "          \n",
    "          \n",
    "3n-2      2n-1\n",
    "\n",
    "오n -> 아래n-1 -> 왼n-1 -> 위n-2 -> 오n-2-> 아래 n-3 -> 왼 n-3 -> 위 n-4 -> 오 n-4 while n or 숫자가 n^2 번 만큼 이동 했을때.\n",
    "\n",
    "오른쪽으로 이동하는 경우 -> 1,2,3,4 (5를 제외한 y가 첫번째 인덱스, 아래는 값이 없다)16, 17, 18(위에 값이 존재. 16은 아래값이 존재.), 24\n",
    "왼쪽으로 이동하는 경우 -> 9, 10, 11, 12, 21, 22\n",
    "\n",
    "아래로 이동하는 경우 5, 6, 7, 8, 19, 20\n",
    "위로 이동하는 경우 13, 14, 15, 23, \n",
    "\n"
   ]
  },
  {
   "cell_type": "markdown",
   "id": "28ffffd4",
   "metadata": {},
   "source": [
    "방향이 바뀌는 순서가 오 아래 왼 위 이므로 이 순서대로 바꾼다.\n",
    "dx = [1,0,-1,0]\n",
    "dy = [0,1,0,-1]로 설정 해놓고,\n",
    "인덱스를 0,1,2,3, 그리고 다시 0으로 바꾸는 식으로 변화를 주면 된다."
   ]
  },
  {
   "cell_type": "markdown",
   "id": "355503c4",
   "metadata": {},
   "source": [
    "마지막 인덱스거나 이미 값이 있으면 방향 바꾸기."
   ]
  },
  {
   "cell_type": "code",
   "execution_count": null,
   "id": "55150809",
   "metadata": {},
   "outputs": [],
   "source": [
    "n = 2\n",
    "\n",
    "def solution(n):\n",
    "    answer = [[0 for _ in range(n)] for _ in range(n)]\n",
    "\n",
    "    dir = 'r'\n",
    "    x = 0\n",
    "    y = 0\n",
    "    num = 0\n",
    "\n",
    "    try :\n",
    "        for i in range(pow(n, 2) - 1):\n",
    "            num += 1\n",
    "            answer[y][x] = num\n",
    "\n",
    "            if dir == 'r' :\n",
    "                if x == n or answer[y][x+1] == 0 :\n",
    "                    x += 1\n",
    "                else :\n",
    "                    dir = 'd'\n",
    "                    y += 1\n",
    "\n",
    "            elif dir == 'd' :\n",
    "                if y == n or answer[y+1][x] == 0 :\n",
    "                    y += 1\n",
    "                else :\n",
    "                    dir = 'l'\n",
    "                    x -= 1\n",
    "\n",
    "\n",
    "\n",
    "\n",
    "    except IndexError: pass\n",
    "\n",
    "\n",
    "    return answer\n",
    "\n",
    "\n",
    "print(solution(n))"
   ]
  }
 ],
 "metadata": {
  "kernelspec": {
   "display_name": "Python 3 (ipykernel)",
   "language": "python",
   "name": "python3"
  },
  "language_info": {
   "codemirror_mode": {
    "name": "ipython",
    "version": 3
   },
   "file_extension": ".py",
   "mimetype": "text/x-python",
   "name": "python",
   "nbconvert_exporter": "python",
   "pygments_lexer": "ipython3",
   "version": "3.10.3"
  }
 },
 "nbformat": 4,
 "nbformat_minor": 5
}
