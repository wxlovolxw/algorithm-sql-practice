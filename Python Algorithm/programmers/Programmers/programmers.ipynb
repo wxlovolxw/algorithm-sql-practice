{
 "cells": [
  {
   "cell_type": "markdown",
   "id": "ad7d3a2e",
   "metadata": {},
   "source": [
    "[PCCE 기출문제] 1번 / 출력"
   ]
  },
  {
   "cell_type": "markdown",
   "id": "c2e86fd7",
   "metadata": {},
   "source": [
    "주어진 초기 코드는 변수에 데이터를 저장하고 출력하는 코드입니다. 아래와 같이 출력되도록 빈칸을 채워 코드를 완성해 주세요.\n",
    "\n",
    "출력 예시\n",
    "Spring is beginning\n",
    "13\n",
    "310"
   ]
  },
  {
   "cell_type": "code",
   "execution_count": 1,
   "id": "5291cdf2",
   "metadata": {},
   "outputs": [
    {
     "name": "stdout",
     "output_type": "stream",
     "text": [
      "Spring is beginning\n",
      "13\n",
      "310\n"
     ]
    }
   ],
   "source": [
    "string_msg = \"Spring is beginning\"\n",
    "\n",
    "int_val = 3\n",
    "\n",
    "string_val = str(3)\n",
    "\n",
    "\n",
    "print(string_msg)\n",
    "print(int_val + 10)\n",
    "print(string_val + \"10\")"
   ]
  },
  {
   "cell_type": "markdown",
   "id": "6add4c5b",
   "metadata": {},
   "source": [
    "[PCCE 기출문제] 2번 / 피타고라스의 정리"
   ]
  },
  {
   "cell_type": "markdown",
   "id": "55a50f8a",
   "metadata": {},
   "source": [
    "직각삼각형이 주어졌을 때 빗변의 제곱은 다른 두 변을 각각 제곱한 것의 합과 같습니다.\n",
    "\n",
    "피타고라스.jpg\n",
    "\n",
    "직각삼각형의 한 변의 길이를 나타내는 정수 a와 빗변의 길이를 나타내는 정수 c가 주어질 때, 다른 한 변의 길이의 제곱, b_square 을 출력하도록 한 줄을 수정해 코드를 완성해 주세요."
   ]
  },
  {
   "cell_type": "code",
   "execution_count": 3,
   "id": "e6e77136",
   "metadata": {
    "scrolled": true
   },
   "outputs": [
    {
     "ename": "KeyboardInterrupt",
     "evalue": "Interrupted by user",
     "output_type": "error",
     "traceback": [
      "\u001b[1;31m---------------------------------------------------------------------------\u001b[0m",
      "\u001b[1;31mKeyboardInterrupt\u001b[0m                         Traceback (most recent call last)",
      "Input \u001b[1;32mIn [3]\u001b[0m, in \u001b[0;36m<cell line: 1>\u001b[1;34m()\u001b[0m\n\u001b[1;32m----> 1\u001b[0m a \u001b[38;5;241m=\u001b[39m \u001b[38;5;28mint\u001b[39m(\u001b[38;5;28;43minput\u001b[39;49m\u001b[43m(\u001b[49m\u001b[43m)\u001b[49m)\n\u001b[0;32m      2\u001b[0m c \u001b[38;5;241m=\u001b[39m \u001b[38;5;28mint\u001b[39m(\u001b[38;5;28minput\u001b[39m())\n\u001b[0;32m      4\u001b[0m b_square \u001b[38;5;241m=\u001b[39m \u001b[38;5;28mpow\u001b[39m(c,\u001b[38;5;241m2\u001b[39m) \u001b[38;5;241m-\u001b[39m \u001b[38;5;28mpow\u001b[39m(a,\u001b[38;5;241m2\u001b[39m)\n",
      "File \u001b[1;32m~\\AppData\\Local\\Programs\\Python\\Python310\\lib\\site-packages\\ipykernel\\kernelbase.py:1076\u001b[0m, in \u001b[0;36mKernel.raw_input\u001b[1;34m(self, prompt)\u001b[0m\n\u001b[0;32m   1072\u001b[0m \u001b[38;5;28;01mif\u001b[39;00m \u001b[38;5;129;01mnot\u001b[39;00m \u001b[38;5;28mself\u001b[39m\u001b[38;5;241m.\u001b[39m_allow_stdin:\n\u001b[0;32m   1073\u001b[0m     \u001b[38;5;28;01mraise\u001b[39;00m StdinNotImplementedError(\n\u001b[0;32m   1074\u001b[0m         \u001b[38;5;124m\"\u001b[39m\u001b[38;5;124mraw_input was called, but this frontend does not support input requests.\u001b[39m\u001b[38;5;124m\"\u001b[39m\n\u001b[0;32m   1075\u001b[0m     )\n\u001b[1;32m-> 1076\u001b[0m \u001b[38;5;28;01mreturn\u001b[39;00m \u001b[38;5;28;43mself\u001b[39;49m\u001b[38;5;241;43m.\u001b[39;49m\u001b[43m_input_request\u001b[49m\u001b[43m(\u001b[49m\n\u001b[0;32m   1077\u001b[0m \u001b[43m    \u001b[49m\u001b[38;5;28;43mstr\u001b[39;49m\u001b[43m(\u001b[49m\u001b[43mprompt\u001b[49m\u001b[43m)\u001b[49m\u001b[43m,\u001b[49m\n\u001b[0;32m   1078\u001b[0m \u001b[43m    \u001b[49m\u001b[38;5;28;43mself\u001b[39;49m\u001b[38;5;241;43m.\u001b[39;49m\u001b[43m_parent_ident\u001b[49m\u001b[43m[\u001b[49m\u001b[38;5;124;43m\"\u001b[39;49m\u001b[38;5;124;43mshell\u001b[39;49m\u001b[38;5;124;43m\"\u001b[39;49m\u001b[43m]\u001b[49m\u001b[43m,\u001b[49m\n\u001b[0;32m   1079\u001b[0m \u001b[43m    \u001b[49m\u001b[38;5;28;43mself\u001b[39;49m\u001b[38;5;241;43m.\u001b[39;49m\u001b[43mget_parent\u001b[49m\u001b[43m(\u001b[49m\u001b[38;5;124;43m\"\u001b[39;49m\u001b[38;5;124;43mshell\u001b[39;49m\u001b[38;5;124;43m\"\u001b[39;49m\u001b[43m)\u001b[49m\u001b[43m,\u001b[49m\n\u001b[0;32m   1080\u001b[0m \u001b[43m    \u001b[49m\u001b[43mpassword\u001b[49m\u001b[38;5;241;43m=\u001b[39;49m\u001b[38;5;28;43;01mFalse\u001b[39;49;00m\u001b[43m,\u001b[49m\n\u001b[0;32m   1081\u001b[0m \u001b[43m\u001b[49m\u001b[43m)\u001b[49m\n",
      "File \u001b[1;32m~\\AppData\\Local\\Programs\\Python\\Python310\\lib\\site-packages\\ipykernel\\kernelbase.py:1121\u001b[0m, in \u001b[0;36mKernel._input_request\u001b[1;34m(self, prompt, ident, parent, password)\u001b[0m\n\u001b[0;32m   1118\u001b[0m             \u001b[38;5;28;01mbreak\u001b[39;00m\n\u001b[0;32m   1119\u001b[0m \u001b[38;5;28;01mexcept\u001b[39;00m \u001b[38;5;167;01mKeyboardInterrupt\u001b[39;00m:\n\u001b[0;32m   1120\u001b[0m     \u001b[38;5;66;03m# re-raise KeyboardInterrupt, to truncate traceback\u001b[39;00m\n\u001b[1;32m-> 1121\u001b[0m     \u001b[38;5;28;01mraise\u001b[39;00m \u001b[38;5;167;01mKeyboardInterrupt\u001b[39;00m(\u001b[38;5;124m\"\u001b[39m\u001b[38;5;124mInterrupted by user\u001b[39m\u001b[38;5;124m\"\u001b[39m) \u001b[38;5;28;01mfrom\u001b[39;00m \u001b[38;5;28mNone\u001b[39m\n\u001b[0;32m   1122\u001b[0m \u001b[38;5;28;01mexcept\u001b[39;00m \u001b[38;5;167;01mException\u001b[39;00m:\n\u001b[0;32m   1123\u001b[0m     \u001b[38;5;28mself\u001b[39m\u001b[38;5;241m.\u001b[39mlog\u001b[38;5;241m.\u001b[39mwarning(\u001b[38;5;124m\"\u001b[39m\u001b[38;5;124mInvalid Message:\u001b[39m\u001b[38;5;124m\"\u001b[39m, exc_info\u001b[38;5;241m=\u001b[39m\u001b[38;5;28;01mTrue\u001b[39;00m)\n",
      "\u001b[1;31mKeyboardInterrupt\u001b[0m: Interrupted by user"
     ]
    }
   ],
   "source": [
    "a = int(input())\n",
    "c = int(input())\n",
    "\n",
    "b_square = pow(c,2) - pow(a,2)\n",
    "print(b_square)"
   ]
  },
  {
   "cell_type": "markdown",
   "id": "4acf2a1b",
   "metadata": {},
   "source": [
    "[PCCE 기출문제] 3번 / 나이 계산"
   ]
  },
  {
   "cell_type": "markdown",
   "id": "0b225e8d",
   "metadata": {},
   "source": [
    "나이를 세는 방법은 여러 가지가 있습니다. 그중 한국식 나이는 태어난 순간 1살이 되며 해가 바뀔 때마다 1살씩 더 먹게 됩니다. 연 나이는 태어난 순간 0살이며 해가 바뀔 때마다 1살씩 더 먹게 됩니다. 각각 나이의 계산법은 다음과 같습니다.\n",
    "\n",
    "한국식 나이 : 현재 연도 - 출생 연도 + 1\n",
    "연 나이 : 현재 연도 - 출생 연도\n",
    "\n",
    "출생 연도를 나타내는 정수 year와 구하려는 나이의 종류를 나타내는 문자열 age_type이 주어질 때 2030년에 몇 살인지 출력하도록 빈칸을 채워 코드를 완성해 주세요. age_type이 \"Korea\"라면 한국식 나이를, \"Year\"라면 연 나이를 출력합니다."
   ]
  },
  {
   "cell_type": "code",
   "execution_count": null,
   "id": "a3731b3b",
   "metadata": {},
   "outputs": [],
   "source": [
    "year = int(input())\n",
    "age_type = input()\n",
    "\n",
    "if age_type == \"Korea\":\n",
    "    \n",
    "    answer = 2030-year +1\n",
    "\n",
    "elif age_type == \"Year\":\n",
    "    \n",
    "    answer = 2030-year\n",
    "\n",
    "\n",
    "print(answer)"
   ]
  },
  {
   "cell_type": "markdown",
   "id": "e2fd45c1",
   "metadata": {},
   "source": [
    "[PCCE 기출문제] 4번 / 저축"
   ]
  },
  {
   "cell_type": "markdown",
   "id": "fb8253dc",
   "metadata": {},
   "source": [
    "진우는 돈을 모으기 위해 저축을 하려고 합니다. 목표로 하는 금액은 100만 원이며, 첫 달에 일정 금액을 넣은 뒤 70만 원까지는 매월 조금씩 저축하다가 70만 원 이후부터는 월 저축량을 늘려 빠르게 목표 금액을 달성하고자 합니다.\n",
    "\n",
    "첫 달에 저축하는 금액을 나타내는 정수 start, 두 번째 달 부터 70만 원 이상 모일 때까지 매월 저축하는 금액을 나타내는 정수 before, 100만 원 이상 모일 때 까지 매월 저축하는 금액을 나타내는 정수 after가 주어질 때, 100만 원 이상을 모을 때까지 걸리는 개월 수를 출력하도록 빈칸을 채워 코드를 완성해 주세요."
   ]
  },
  {
   "cell_type": "code",
   "execution_count": null,
   "id": "2dd72560",
   "metadata": {},
   "outputs": [],
   "source": [
    "start = int(input())\n",
    "before = int(input())\n",
    "after = int(input())\n",
    "\n",
    "money = start\n",
    "month = 1\n",
    "\n",
    "while money < 70:\n",
    "    money += before\n",
    "    month += 1\n",
    "    \n",
    "while money < 100:\n",
    "    money += after\n",
    "    month += 1\n",
    "\n",
    "print(month)"
   ]
  },
  {
   "cell_type": "markdown",
   "id": "dbb27fe3",
   "metadata": {},
   "source": [
    "[PCCE 기출문제] 5번 / 산책"
   ]
  },
  {
   "cell_type": "markdown",
   "id": "49f04076",
   "metadata": {},
   "source": [
    "여름이는 강아지를 산책시키려고 합니다. 여름이는 2차원 좌표평면에서 동/서/남/북 방향으로 1m 단위로 이동하면서 강아지를 산책시킵니다. 산책루트가 담긴 문자열 route가 주어질 때, 도착점의 위치를 return하도록 빈칸을 채워 solution함수를 완성해 주세요.\n",
    "\n",
    "route는 \"N\", \"S\", \"E\", \"W\"로 이루어져 있습니다.\n",
    "\"N\"은 북쪽으로 1만큼 움직입니다.\n",
    "\"S\"는 남쪽으로 1만큼 움직입니다.\n",
    "북쪽으로 -1만큼 움직인 것과 같습니다.\n",
    "\"E\"는 동쪽으로 1만큼 움직입니다.\n",
    "\"W\"는 서쪽으로 1만큼 움직입니다.\n",
    "동쪽으로 -1만큼 움직인 것과 같습니다.\n",
    "출발점으로부터 [동쪽으로 떨어진 거리, 북쪽으로 떨어진 거리]형태로 강아지의 최종 위치를 구해서 return해야 합니다.\n",
    "출발점을 기준으로 서쪽, 남쪽에 있는 경우는 동쪽, 북쪽으로 음수만큼 떨어진 것으로 표현합니다.\n",
    "출발점으로부터 동쪽으로 2, 북쪽으로 3만큼 떨어졌다면 [2, 3]을 return 합니다.\n",
    "출발점으로부터 서쪽으로 1, 남쪽으로 4만큼 떨어졌다면 [-1, -4]를 return 합니다."
   ]
  },
  {
   "cell_type": "code",
   "execution_count": null,
   "id": "3a9b83e7",
   "metadata": {},
   "outputs": [],
   "source": [
    "def solution(route):\n",
    "    east = 0\n",
    "    north = 0\n",
    "    for i in route:\n",
    "        if i == \"N\":\n",
    "            north += 1\n",
    "        elif i == \"S\" :\n",
    "            north -= 1\n",
    "        elif i == \"E\" :\n",
    "            east += 1\n",
    "        elif i == \"W\":      \n",
    "            east -= 1\n",
    "\n",
    "    return [east, north]"
   ]
  },
  {
   "cell_type": "markdown",
   "id": "fdfbbb48",
   "metadata": {},
   "source": [
    "[PCCE 기출문제] 6번 / 가채점"
   ]
  },
  {
   "cell_type": "markdown",
   "id": "eb68cb2c",
   "metadata": {},
   "source": [
    "A반 학생들은 시험이 끝난 뒤 성적이 나오기 전 자기 시험지를 가채점해 보았습니다. 이후에 선생님이 실제 성적을 불러 줄 때 가채점한 점수와 실제 성적이 다른 학생들이 있어 선생님께 문의를 하려고 합니다.\n",
    "\n",
    "성적을 문의하려는 학생들의 번호가 담긴 정수 리스트 numbers와 가채점한 점수가 성적을 문의하려는 학생 순서대로 담긴 정수 리스트 our_score, 실제 성적이 번호 순서대로 담긴 정수 리스트 score_list가 주어집니다. 주어진 solution 함수는 가채점한 점수가 실제 성적과 동일하다면 \"Same\"을, 다르다면 \"Different\"를 순서대로 리스트에 담아 return하는 함수입니다. solution 함수가 올바르게 작동하도록 한 줄을 수정해 주세요."
   ]
  },
  {
   "cell_type": "code",
   "execution_count": null,
   "id": "6a88e43e",
   "metadata": {},
   "outputs": [],
   "source": [
    "def solution(numbers, our_score, score_list):\n",
    "    answer = []\n",
    "    for i in range(len(numbers)):\n",
    "        if our_score[i] == score_list[numbers[i]-1]:\n",
    "            answer.append(\"Same\")\n",
    "        else:\n",
    "            answer.append(\"Different\")\n",
    "    \n",
    "    return answer"
   ]
  },
  {
   "cell_type": "markdown",
   "id": "28ec22d6",
   "metadata": {},
   "source": [
    "[PCCE 기출문제] 7번 / 가습기"
   ]
  },
  {
   "cell_type": "markdown",
   "id": "4e5b3420",
   "metadata": {},
   "source": [
    "상우가 사용하는 가습기에는 \"auto\", \"target\", \"minimum\"의 세 가지 모드가 있습니다. 가습기의 가습량은 0~5단계로 구분되며 각 모드 별 동작 방식은 다음과 같습니다.\n",
    "\n",
    "\"auto\" 모드\n",
    "\n",
    "습도가 0 이상 10 미만인 경우 : 5단계\n",
    "습도가 10 이상 20 미만인 경우 : 4단계\n",
    "습도가 20 이상 30 미만인 경우 : 3단계\n",
    "습도가 30 이상 40 미만인 경우 : 2단계\n",
    "습도가 40 이상 50 미만인 경우 : 1단계\n",
    "습도가 50 이상인 경우 : 0단계\n",
    "\"target\" 모드\n",
    "\n",
    "습도가 설정값 미만일 경우 : 3단계\n",
    "습도가 설정값 이상일 경우 : 1단계\n",
    "\"minimum\"모드\n",
    "\n",
    "습도가 설정값 미만일 경우 : 1단계\n",
    "습도가 설정값 이상일 경우 : 0단계\n",
    "상우가 설정한 가습기의 모드를 나타낸 문자열 mode_type, 현재 공기 중 습도를 나타낸 정수 humidity, 설정값을 나타낸 정수 val_set이 주어질 때 현재 가습기가 몇 단계로 작동 중인지 return하도록 빈칸을 채워 solution 함수를 완성해 주세요."
   ]
  },
  {
   "cell_type": "code",
   "execution_count": null,
   "id": "25f134d4",
   "metadata": {},
   "outputs": [],
   "source": [
    "def func1(humidity, val_set):\n",
    "    if humidity < val_set:\n",
    "        return 3\n",
    "    return 1\n",
    "\n",
    "def func2(humidity):\n",
    "    if humidity >= 50:\n",
    "        return 0\n",
    "    elif humidity >= 40:\n",
    "        return 1\n",
    "    elif humidity >= 30:\n",
    "        return 2\n",
    "    elif humidity >= 20:\n",
    "        return 3\n",
    "    elif humidity >= 10:\n",
    "        return 4\n",
    "    else : \n",
    "        return 5\n",
    "\n",
    "def func3(humidity, val_set):\n",
    "    if humidity < val_set:\n",
    "        return 1\n",
    "    return 0\n",
    "\n",
    "def solution(mode_type, humidity, val_set):\n",
    "    answer = 0\n",
    "    if mode_type == \"auto\":\n",
    "        answer = func2(humidity)\n",
    "    elif mode_type == \"target\":\n",
    "        answer = func1(humidity,val_set)\n",
    "    elif mode_type == \"minimum\":\n",
    "        answer = func3(humidity,val_set)\n",
    "\n",
    "    return answer"
   ]
  },
  {
   "cell_type": "markdown",
   "id": "07314c17",
   "metadata": {},
   "source": [
    "[PCCE 기출문제] 8번 / 창고 정리"
   ]
  },
  {
   "cell_type": "markdown",
   "id": "b996edca",
   "metadata": {},
   "source": [
    "선빈이는 게임을 즐기던 중 가지고 있는 물건이 너무 많아 창고 정리를 하기로 했습니다. 선빈이가 보유한 게임 속 창고는 여러 칸으로 나누어져 있고 각 칸에는 물건들이 담겨있습니다. 창고를 정리할 방법을 고민하던 선빈이는 같은 물건이 여러 칸에 나누어 들어있는 것을 발견하고 우선 같은 물건끼리 최대한 겹쳐쌓는 방식으로 창고를 정리하기로 했습니다. 선빈이의 창고에 들어있는 물건의 이름과 개수는 리스트 형태로 주어지며, 한 칸에 겹쳐질 수 있는 물건의 개수에는 제한이 없다고 가정합니다.\n",
    "\n",
    "예를 들어 창고의 각 칸에 담겨있는 물건의 이름이storage = [\"pencil\", \"pencil\", \"pencil\", \"book\"], 각 물건의 개수가 num = [2, 4, 3, 1]이라면 연필과 책을 한 칸에 각각 겹쳐 쌓아 간단하게 clean_storage = [\"pencil\", \"book\"], clean_num = [9, 1]로 만들 수 있습니다.\n",
    "pencil book javacpp.jpg\n",
    "\n",
    "주어진 solution 함수는 정리되기 전 창고의 물건 이름이 담긴 문자열 리스트 storage와 각 물건의 개수가 담긴 정수 리스트 num이 주어질 때, 정리된 창고에서 개수가 가장 많은 물건의 이름을 return 하는 함수입니다. solution 함수가 올바르게 작동하도록 한 줄을 수정해 주세요."
   ]
  },
  {
   "cell_type": "code",
   "execution_count": 6,
   "id": "7df2bd95",
   "metadata": {},
   "outputs": [
    {
     "data": {
      "text/plain": [
       "'pencil'"
      ]
     },
     "execution_count": 6,
     "metadata": {},
     "output_type": "execute_result"
    }
   ],
   "source": [
    "storage = [\"pencil\", \"pencil\", \"pencil\", \"book\"]\n",
    "num = [2, 4, 3, 1]\n",
    "\n",
    "def solution(storage, num):\n",
    "    clean_storage = []\n",
    "    clean_num = []\n",
    "    for i in range(len(storage)):\n",
    "        if storage[i] in clean_storage:\n",
    "            pos = clean_storage.index(storage[i])\n",
    "            clean_num[pos] += num[i]\n",
    "        else:\n",
    "            clean_storage.append(storage[i])\n",
    "            clean_num.append(num[i])\n",
    "            \n",
    "    # 아래 코드에는 틀린 부분이 없습니다.\n",
    "            \n",
    "    max_num = max(clean_num)\n",
    "    answer = clean_storage[clean_num.index(max_num)]\n",
    "    return answer\n",
    "\n",
    "solution(storage, num)"
   ]
  },
  {
   "cell_type": "markdown",
   "id": "11e775fc",
   "metadata": {},
   "source": [
    "[PCCE 기출문제] 9번 / 이웃한 칸\n"
   ]
  },
  {
   "cell_type": "markdown",
   "id": "04d4225b",
   "metadata": {},
   "source": [
    "각 칸마다 색이 칠해진 2차원 격자 보드판이 있습니다. 그중 한 칸을 골랐을 때, 위, 아래, 왼쪽, 오른쪽 칸 중 같은 색깔로 칠해진 칸의 개수를 구하려고 합니다.\n",
    "\n",
    "보드의 각 칸에 칠해진 색깔 이름이 담긴 이차원 문자열 리스트 board와 고른 칸의 위치를 나타내는 두 정수 h, w가 주어질 때 board[h][w]와 이웃한 칸들 중 같은 색으로 칠해져 있는 칸의 개수를 return 하도록 solution 함수를 완성해 주세요.\n",
    "\n",
    "이웃한 칸들 중 몇 개의 칸이 같은 색으로 색칠되어 있는지 확인하는 과정은 다음과 같습니다.\n",
    "\n",
    "1. 정수를 저장할 변수 n을 만들고 board의 길이를 저장합니다.\n",
    "2. 같은 색으로 색칠된 칸의 개수를 저장할 변수 count를 만들고 0을 저장합니다.\n",
    "3. h와 w의 변화량을 저장할 정수 리스트 dh, dw를 만들고 각각 [0, 1, -1, 0], [1, 0, 0, -1]을 저장합니다.\n",
    "4. 반복문을 이용해 i 값을 0부터 3까지 1 씩 증가시키며 아래 작업을 반복합니다.\n",
    "    4-1. 체크할 칸의 h, w 좌표를 나타내는 변수 h_check, w_check를 만들고 각각 h + dh[i], w + dw[i]를 저장합니다.\n",
    "    4-2. h_check가 0 이상 n 미만이고 w_check가 0 이상 n 미만이라면 다음을 수행합니다.\n",
    "        4-2-a. board[h][w]와 board[h_check][w_check]의 값이 동일하다면 count의 값을 1 증가시킵니다.\n",
    "5. count의 값을 return합니다."
   ]
  },
  {
   "cell_type": "markdown",
   "id": "ae362e1d",
   "metadata": {},
   "source": [
    "리스트의 범위를 벗어나지 않게 하는 문제에 대한 이해도가 부족한 것 같다.\n",
    "주변 4개의 값을 확인 해야 하는데 모서리에 있는 경우를 고려 해야 한다. 두 면이 모서리 인경우에는 최대값이 2가 되는 식이다.\n",
    "다른 요소들 필요 없이 주변 4개의 값만을 받아 count를 해주고, 만약 리스트 범위를 벗어나 값이 존재하지 않는다면 0을 추가 하는 식으로 코드를 구성해 볼 까 한다."
   ]
  },
  {
   "cell_type": "code",
   "execution_count": 7,
   "id": "7a2c9883",
   "metadata": {},
   "outputs": [],
   "source": [
    "def solution(board, h, w):\n",
    "    answer = 0\n",
    "    \n",
    "    if h == 0 :\n",
    "        if board[h][w] == board[h+1][w]:\n",
    "            answer += 1\n",
    "        else : pass\n",
    "    elif h == len(board) - 1:\n",
    "        if board[h][w] == board[h-1][w]:\n",
    "            answer += 1\n",
    "        else : pass\n",
    "    elif board[h][w] == board[h+1][w]:\n",
    "        answer += 1\n",
    "    elif board[h][w] == board[h-1][w]:\n",
    "        answer += 1\n",
    "        \n",
    "    if w == 0 :\n",
    "        if board[h][w] == board[h][w+1]:\n",
    "            answer += 1\n",
    "        else : pass\n",
    "    elif h == len(board) - 1:\n",
    "        if board[h][w] == board[h][w-1]:\n",
    "            answer += 1\n",
    "        else : pass\n",
    "    elif board[h][w] == board[h][w+1]:\n",
    "        answer += 1\n",
    "    elif board[h][w] == board[h][w-1]:\n",
    "        answer += 1\n",
    "\n",
    "    return answer"
   ]
  },
  {
   "cell_type": "markdown",
   "id": "f05d00ac",
   "metadata": {},
   "source": [
    "와 같은 코드는 if 문의 루프를 너무 많이 돌기 때문에 런타임 에러가 났다. 좀더 간결한 형태의 코드를 구상해야 한다.\n",
    "주변 4개의 요소만 확인하면 되는데, 모서리의 경우를 고려하는 것이 까다로운 것 같다."
   ]
  },
  {
   "cell_type": "code",
   "execution_count": 8,
   "id": "e80015d4",
   "metadata": {},
   "outputs": [],
   "source": [
    "def solution(board, h, w):\n",
    "    answer = 0\n",
    "    \n",
    "    list = []\n",
    "    try :\n",
    "        if h == 0:\n",
    "            list.append(0)\n",
    "        else:\n",
    "            list.append(board[h-1][w])\n",
    "        if \n",
    "        list.append(board[h+1][w])\n",
    "\n",
    "        list.append(board[h][w+1])\n",
    "    except : IndexError\n",
    "    \n",
    "    answer = list.count(board[h][w])\n",
    "\n",
    "    return answer"
   ]
  },
  {
   "cell_type": "markdown",
   "id": "06f55de6",
   "metadata": {},
   "source": [
    "리스트의 인덱스가 0에서 -1이 되면 IndexError가 난다고 착각을 하여 정답이 맞지 않게 되었다. 하.. 이 점을 수정해야 한다.\n",
    "리스트 범위를 벗어나는 것은 상관이 없으나 인덱스가 0인 경우는 따로 설정해 줘야 할 것 같다. h만 0, w만0, 둘다 0인 경우를 나누어서 고려해야 한다."
   ]
  },
  {
   "cell_type": "code",
   "execution_count": 12,
   "id": "4fa34aea",
   "metadata": {},
   "outputs": [],
   "source": [
    "def solution(board, h, w):\n",
    "    answer = 0\n",
    "    \n",
    "    list = []\n",
    "    try :\n",
    "        if h == 0 and w == 0 :\n",
    "            pass\n",
    "        elif h == 0 and w != 0 :\n",
    "            list.append(board[h][w-1])\n",
    "        elif w == 0 and h != 0 :\n",
    "            list.append(board[h-1][w])\n",
    "        else :\n",
    "            list.append(board[h-1][w])\n",
    "            list.append(board[h][w-1])\n",
    "        \n",
    "        list.append(board[h+1][w])\n",
    "        list.append(board[h][w+1])\n",
    "    except IndexError : pass\n",
    "    \n",
    "    answer = list.count(board[h][w])\n",
    "\n",
    "    return answer"
   ]
  },
  {
   "cell_type": "markdown",
   "id": "fd96586b",
   "metadata": {},
   "source": [
    "를 통해 처음에 h와 w이 0인 상황에 대해서 고려해보았지만 통과하지 못한 점이 있다."
   ]
  },
  {
   "cell_type": "code",
   "execution_count": 16,
   "id": "29094081",
   "metadata": {},
   "outputs": [
    {
     "data": {
      "text/plain": [
       "0"
      ]
     },
     "execution_count": 16,
     "metadata": {},
     "output_type": "execute_result"
    }
   ],
   "source": [
    "board = [[\"blue\", \"red\", \"orange\", \"red\"], [\"red\", \"red\", \"blue\", \"orange\"], [\"blue\", \"orange\", \"red\", \"red\"], [\"orange\", \"orange\", \"red\", \"blue\"]]\n",
    "h = 3\n",
    "w = 0\n",
    "\n",
    "def solution(board, h, w):\n",
    "    answer = 0\n",
    "    \n",
    "    list = []\n",
    "    try :\n",
    "        if h == 0 and w == 0 :\n",
    "            pass\n",
    "        elif h == 0 and w != 0 :\n",
    "            list.append(board[h][w-1])\n",
    "        elif w == 0 and h != 0 :\n",
    "            list.append(board[h-1][w])\n",
    "        else :\n",
    "            list.append(board[h-1][w])\n",
    "            list.append(board[h][w-1])\n",
    "        \n",
    "        list.append(board[h+1][w])\n",
    "        list.append(board[h][w+1])\n",
    "    except IndexError : pass\n",
    "    \n",
    "    answer = list.count(board[h][w])\n",
    "\n",
    "    return answer\n",
    "\n",
    "solution(board, h, w)"
   ]
  },
  {
   "cell_type": "code",
   "execution_count": 17,
   "id": "e1c8e36c",
   "metadata": {},
   "outputs": [],
   "source": [
    "def solution(board, h, w):\n",
    "    answer = 0\n",
    "\n",
    "    list = []\n",
    "\n",
    "    if h == 0 and w == 0:\n",
    "        pass\n",
    "    elif h == 0 and w != 0:\n",
    "        list.append(board[h][w - 1])\n",
    "    elif w == 0 and h != 0:\n",
    "        list.append(board[h - 1][w])\n",
    "    else:\n",
    "        list.append(board[h - 1][w])\n",
    "        list.append(board[h][w - 1])\n",
    "\n",
    "    try :\n",
    "        list.append(board[h + 1][w])\n",
    "    except IndexError:\n",
    "        pass\n",
    "\n",
    "    try :\n",
    "        list.append(board[h][w + 1])\n",
    "    except IndexError:\n",
    "        pass\n",
    "\n",
    "    answer = list.count(board[h][w])\n",
    "\n",
    "    return answer"
   ]
  },
  {
   "cell_type": "markdown",
   "id": "162f3d4d",
   "metadata": {},
   "source": [
    "먼저 인덱스가 0보다 작아지는 것을 방지하기 위해 if else 문을 사용하였고, 넘어가는 것은 try except를 통해 해결하였다. 다른 사람들의 코드도 확인해 보자."
   ]
  },
  {
   "cell_type": "markdown",
   "id": "0c07315e",
   "metadata": {},
   "source": [
    "애초에 count할 필요 없이 같다면 answer += 1을 해주면 된다."
   ]
  },
  {
   "cell_type": "code",
   "execution_count": 18,
   "id": "f4a6a252",
   "metadata": {},
   "outputs": [],
   "source": [
    "def solution(board, h, w):\n",
    "    answer = 0\n",
    "\n",
    "    if 0 < h:\n",
    "        if board[h][w] == board[h-1][w]: answer += 1\n",
    "    if 0 < w:\n",
    "        if board[h][w] == board[h][w-1]: answer += 1\n",
    "    if h < len(board) - 1:\n",
    "        if board[h][w] == board[h+1][w]: answer += 1\n",
    "    if w < len(board[0]) - 1:\n",
    "        if board[h][w] == board[h][w+1]: answer += 1\n",
    "\n",
    "    return answer"
   ]
  },
  {
   "cell_type": "markdown",
   "id": "4943d0fe",
   "metadata": {},
   "source": [
    "각 모서리 면들에 대해서 같은지 확인해 주고 answer 에 1씩 더해준다. h = 0 이 아니라는 조건문을 h > 0 이라고 쓴 것이 인상적이였다."
   ]
  },
  {
   "cell_type": "markdown",
   "id": "dbbec4f3",
   "metadata": {},
   "source": [
    "[PCCE 기출문제] 10번 / 데이터 분석"
   ]
  },
  {
   "cell_type": "markdown",
   "id": "54870e6c",
   "metadata": {},
   "source": [
    "문제 설명\n",
    "AI 엔지니어인 현식이는 데이터를 분석하는 작업을 진행하고 있습니다. 데이터는 [\"코드 번호(code)\", \"제조일(date)\", \"최대 수량(maximum)\", \"현재 수량(remain)\"]으로 구성되어 있으며 현식이는 이 데이터들 중 조건을 만족하는 데이터만 뽑아서 정렬하려 합니다.\n",
    "\n",
    "예를 들어 다음과 같이 데이터가 주어진다면\n",
    "\n",
    "data = [[1, 20300104, 100, 80], [2, 20300804, 847, 37], [3, 20300401, 10, 8]]"
   ]
  },
  {
   "cell_type": "markdown",
   "id": "c2772154",
   "metadata": {},
   "source": [
    "이 데이터는 다음 표처럼 나타낼 수 있습니다.\n",
    "\n",
    "code\tdate\tmaximum\tremain\n",
    "1\t20300104\t100\t80\n",
    "2\t20300804\t847\t37\n",
    "3\t20300401\t10\t8\n",
    "주어진 데이터 중 \"제조일이 20300501 이전인 물건들을 현재 수량이 적은 순서\"로 정렬해야 한다면 조건에 맞게 가공된 데이터는 다음과 같습니다.\n",
    "\n",
    "data = [[3,20300401,10,8],[1,20300104,100,80]]\n",
    "정렬한 데이터들이 담긴 이차원 정수 리스트 data와 어떤 정보를 기준으로 데이터를 뽑아낼지를 의미하는 문자열 ext, 뽑아낼 정보의 기준값을 나타내는 정수 val_ext, 정보를 정렬할 기준이 되는 문자열 sort_by가 주어집니다.\n",
    "\n",
    "data에서 ext 값이 val_ext보다 작은 데이터만 뽑은 후, sort_by에 해당하는 값을 기준으로 오름차순으로 정렬하여 return 하도록 solution 함수를 완성해 주세요. 단, 조건을 만족하는 데이터는 항상 한 개 이상 존재합니다."
   ]
  },
  {
   "cell_type": "code",
   "execution_count": 19,
   "id": "72806c90",
   "metadata": {},
   "outputs": [
    {
     "name": "stdout",
     "output_type": "stream",
     "text": [
      "[[3, 20300401, 10, 8], [1, 20300104, 100, 80]]\n"
     ]
    }
   ],
   "source": [
    "data = [[1, 20300104, 100, 80], [2, 20300804, 847, 37], [3, 20300401, 10, 8]]\n",
    "\n",
    "ext = \"date\"\n",
    "val_ext\t= 20300501\n",
    "sort_by = \"remain\"\n",
    "\n",
    "def solution(data, ext, val_ext, sort_by):\n",
    "    answer = []\n",
    "    list = ['code','date','maximum','remain']\n",
    "    idx = list.index(ext)\n",
    "\n",
    "    for x in data :\n",
    "        if x[idx] < val_ext :\n",
    "            answer.append(x)\n",
    "\n",
    "    answer.sort(key=lambda y: y[list.index(sort_by)])\n",
    "\n",
    "    return answer\n",
    "\n",
    "print(solution(data, ext, val_ext, sort_by))"
   ]
  },
  {
   "cell_type": "markdown",
   "id": "fa9a1de8",
   "metadata": {},
   "source": [
    "[PCCP 기출문제] 1번 / 붕대 감기"
   ]
  },
  {
   "cell_type": "markdown",
   "id": "5faf217e",
   "metadata": {},
   "source": [
    "어떤 게임에는 붕대 감기라는 기술이 있습니다.\n",
    "\n",
    "붕대 감기는 t초 동안 붕대를 감으면서 1초마다 x만큼의 체력을 회복합니다. t초 연속으로 붕대를 감는 데 성공한다면 y만큼의 체력을 추가로 회복합니다. 게임 캐릭터에는 최대 체력이 존재해 현재 체력이 최대 체력보다 커지는 것은 불가능합니다.\n",
    "\n",
    "기술을 쓰는 도중 몬스터에게 공격을 당하면 기술이 취소되고, 공격을 당하는 순간에는 체력을 회복할 수 없습니다. 몬스터에게 공격당해 기술이 취소당하거나 기술이 끝나면 그 즉시 붕대 감기를 다시 사용하며, 연속 성공 시간이 0으로 초기화됩니다.\n",
    "\n",
    "몬스터의 공격을 받으면 정해진 피해량만큼 현재 체력이 줄어듭니다. 이때, 현재 체력이 0 이하가 되면 캐릭터가 죽으며 더 이상 체력을 회복할 수 없습니다.\n",
    "\n",
    "당신은 붕대감기 기술의 정보, 캐릭터가 가진 최대 체력과 몬스터의 공격 패턴이 주어질 때 캐릭터가 끝까지 생존할 수 있는지 궁금합니다.\n",
    "\n",
    "붕대 감기 기술의 시전 시간, 1초당 회복량, 추가 회복량을 담은 1차원 정수 배열 bandage와 최대 체력을 의미하는 정수 health, 몬스터의 공격 시간과 피해량을 담은 2차원 정수 배열 attacks가 매개변수로 주어집니다. 모든 공격이 끝난 직후 남은 체력을 return 하도록 solution 함수를 완성해 주세요. 만약 몬스터의 공격을 받고 캐릭터의 체력이 0 이하가 되어 죽는다면 -1을 return 해주세요."
   ]
  },
  {
   "cell_type": "code",
   "execution_count": null,
   "id": "c959f43b",
   "metadata": {},
   "outputs": [],
   "source": []
  }
 ],
 "metadata": {
  "kernelspec": {
   "display_name": "Python 3 (ipykernel)",
   "language": "python",
   "name": "python3"
  },
  "language_info": {
   "codemirror_mode": {
    "name": "ipython",
    "version": 3
   },
   "file_extension": ".py",
   "mimetype": "text/x-python",
   "name": "python",
   "nbconvert_exporter": "python",
   "pygments_lexer": "ipython3",
   "version": "3.10.3"
  }
 },
 "nbformat": 4,
 "nbformat_minor": 5
}
